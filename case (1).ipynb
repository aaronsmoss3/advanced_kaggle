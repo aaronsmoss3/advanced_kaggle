{
 "cells": [
  {
   "cell_type": "markdown",
   "metadata": {},
   "source": [
    "## Imbalance treatment within Cross validation for classification"
   ]
  },
  {
   "cell_type": "markdown",
   "metadata": {},
   "source": [
    "Interesting Time feature Idea: Convert to user local time. For example, if you are trying to predict something that occurs around 8pm for all users, if you look at UTC time, it will be harder to predict from."
   ]
  },
  {
   "cell_type": "code",
   "execution_count": 1,
   "metadata": {
    "collapsed": true
   },
   "outputs": [],
   "source": [
    "import pandas as pd\n",
    "from sklearn.model_selection import train_test_split\n",
    "from sklearn.model_selection import cross_val_score\n",
    "import matplotlib.pyplot as plt\n",
    "from collections import Counter\n",
    "%matplotlib inline"
   ]
  },
  {
   "cell_type": "code",
   "execution_count": 2,
   "metadata": {
    "collapsed": true
   },
   "outputs": [],
   "source": [
    "import seaborn as sns\n",
    "import numpy as np"
   ]
  },
  {
   "cell_type": "code",
   "execution_count": 3,
   "metadata": {
    "collapsed": true
   },
   "outputs": [],
   "source": [
    "from sklearn.ensemble import RandomForestClassifier\n",
    "from sklearn import metrics\n",
    "from sklearn.metrics import roc_curve, auc\n",
    "from sklearn.model_selection import train_test_split"
   ]
  },
  {
   "cell_type": "code",
   "execution_count": 4,
   "metadata": {},
   "outputs": [
    {
     "name": "stderr",
     "output_type": "stream",
     "text": [
      "/mnt/anaconda3/lib/python3.5/site-packages/h5py/__init__.py:34: FutureWarning: Conversion of the second argument of issubdtype from `float` to `np.floating` is deprecated. In future, it will be treated as `np.float64 == np.dtype(float).type`.\n",
      "  from ._conv import register_converters as _register_converters\n",
      "/mnt/anaconda3/lib/python3.5/site-packages/sklearn/externals/six.py:31: DeprecationWarning: The module is deprecated in version 0.21 and will be removed in version 0.23 since we've dropped support for Python 2.7. Please rely on the official version of six (https://pypi.org/project/six/).\n",
      "  \"(https://pypi.org/project/six/).\", DeprecationWarning)\n"
     ]
    }
   ],
   "source": [
    "import numpy as np # linear algebra\n",
    "import pandas as pd # data processing, CSV file I/O (e.g. pd.read_csv)\n",
    "import tensorflow as tf\n",
    "import matplotlib.pyplot as plt\n",
    "import seaborn as sns\n",
    "from sklearn.manifold import TSNE\n",
    "from sklearn.decomposition import PCA, TruncatedSVD\n",
    "import matplotlib.patches as mpatches\n",
    "import time\n",
    "\n",
    "# Classifier Libraries\n",
    "from sklearn.linear_model import LogisticRegression\n",
    "from sklearn.svm import SVC\n",
    "from sklearn.neighbors import KNeighborsClassifier\n",
    "from sklearn.tree import DecisionTreeClassifier\n",
    "from sklearn.ensemble import RandomForestClassifier\n",
    "import collections\n",
    "\n",
    "\n",
    "# Other Libraries\n",
    "##from imblearn.datasets import fetch_datasets\n",
    "from sklearn.model_selection import train_test_split\n",
    "from sklearn.pipeline import make_pipeline\n",
    "from imblearn.pipeline import make_pipeline as imbalanced_make_pipeline\n",
    "from imblearn.over_sampling import SMOTE\n",
    "from imblearn.under_sampling import NearMiss\n",
    "from imblearn.metrics import classification_report_imbalanced\n",
    "from sklearn.metrics import precision_score, recall_score, f1_score, roc_auc_score, accuracy_score, classification_report\n",
    "from collections import Counter\n",
    "from sklearn.model_selection import KFold, StratifiedKFold\n",
    "import warnings\n",
    "warnings.filterwarnings(\"ignore\")\n"
   ]
  },
  {
   "cell_type": "code",
   "execution_count": 5,
   "metadata": {
    "collapsed": true
   },
   "outputs": [],
   "source": [
    "pd.set_option('display.max_columns', 500)"
   ]
  },
  {
   "cell_type": "code",
   "execution_count": 6,
   "metadata": {
    "collapsed": true
   },
   "outputs": [],
   "source": [
    "def missing_pct(df):\n",
    "    h_list = []\n",
    "    for i in df:\n",
    "        h_list.append(i)\n",
    "        h_list.append(sum(df[i].isna())/len(df[i]))\n",
    "        \n",
    "    return h_list"
   ]
  },
  {
   "cell_type": "code",
   "execution_count": 7,
   "metadata": {
    "collapsed": true
   },
   "outputs": [],
   "source": [
    "from sklearn.preprocessing import LabelEncoder"
   ]
  },
  {
   "cell_type": "code",
   "execution_count": 8,
   "metadata": {
    "collapsed": true
   },
   "outputs": [],
   "source": [
    "train = pd.read_csv('training_data.csv')\n",
    "train.rename(columns = lambda x: x.lower(), inplace = True)"
   ]
  },
  {
   "cell_type": "code",
   "execution_count": 9,
   "metadata": {
    "scrolled": true
   },
   "outputs": [
    {
     "data": {
      "text/plain": [
       "['app_id',\n",
       " 0.0,\n",
       " 'business_id',\n",
       " 0.04990334572490707,\n",
       " 'lead_source_id',\n",
       " 0.04990334572490707,\n",
       " 'carrier_id',\n",
       " 0.04990334572490707,\n",
       " 'state_id',\n",
       " 0.04990334572490707,\n",
       " 'gender',\n",
       " 0.04996282527881041,\n",
       " 'application_type',\n",
       " 0.04990334572490707,\n",
       " 'plan_letter',\n",
       " 0.04990334572490707,\n",
       " 'age',\n",
       " 0.0,\n",
       " 'spouse_policy_attached',\n",
       " 0.04990334572490707,\n",
       " 'lead_created_date',\n",
       " 0.04990334572490707,\n",
       " 'withdrawn',\n",
       " 0.04990334572490707]"
      ]
     },
     "execution_count": 9,
     "metadata": {},
     "output_type": "execute_result"
    }
   ],
   "source": [
    "missing_pct(train)"
   ]
  },
  {
   "cell_type": "code",
   "execution_count": 10,
   "metadata": {
    "collapsed": true
   },
   "outputs": [],
   "source": [
    "# row count by total observations in columns (45 columns) \n",
    "train['nans'] = train.apply(lambda x: sum(x.isna()), axis=1)"
   ]
  },
  {
   "cell_type": "code",
   "execution_count": 11,
   "metadata": {
    "collapsed": true
   },
   "outputs": [],
   "source": [
    "# all Na 1680 rows out of 33k\n",
    "train1 = train.dropna()"
   ]
  },
  {
   "cell_type": "code",
   "execution_count": 12,
   "metadata": {
    "collapsed": true
   },
   "outputs": [],
   "source": [
    "test = pd.read_csv('test_data.csv')\n",
    "test.rename(columns = lambda x: x.lower(), inplace = True)"
   ]
  },
  {
   "cell_type": "code",
   "execution_count": 13,
   "metadata": {},
   "outputs": [
    {
     "data": {
      "text/plain": [
       "0.0    12540\n",
       "1.0     3192\n",
       "Name: withdrawn, dtype: int64"
      ]
     },
     "execution_count": 13,
     "metadata": {},
     "output_type": "execute_result"
    }
   ],
   "source": [
    "test['withdrawn'].value_counts()"
   ]
  },
  {
   "cell_type": "code",
   "execution_count": 14,
   "metadata": {
    "collapsed": true,
    "scrolled": true
   },
   "outputs": [],
   "source": [
    "# 830 NA 10 columns out of 16k\n",
    "test['nans'] = test.apply(lambda x: sum(x.isna()), axis=1)"
   ]
  },
  {
   "cell_type": "code",
   "execution_count": null,
   "metadata": {
    "collapsed": true,
    "scrolled": false
   },
   "outputs": [],
   "source": [
    "test1[test1.business_id==0.0]"
   ]
  },
  {
   "cell_type": "code",
   "execution_count": 17,
   "metadata": {
    "collapsed": true
   },
   "outputs": [],
   "source": [
    "test1 = test.dropna()"
   ]
  },
  {
   "cell_type": "code",
   "execution_count": 18,
   "metadata": {
    "collapsed": true
   },
   "outputs": [],
   "source": [
    "train1['split'] = 1"
   ]
  },
  {
   "cell_type": "code",
   "execution_count": 19,
   "metadata": {
    "collapsed": true,
    "scrolled": true
   },
   "outputs": [],
   "source": [
    "test1['split'] = 0"
   ]
  },
  {
   "cell_type": "code",
   "execution_count": 20,
   "metadata": {
    "scrolled": true
   },
   "outputs": [
    {
     "data": {
      "text/html": [
       "<div>\n",
       "<style scoped>\n",
       "    .dataframe tbody tr th:only-of-type {\n",
       "        vertical-align: middle;\n",
       "    }\n",
       "\n",
       "    .dataframe tbody tr th {\n",
       "        vertical-align: top;\n",
       "    }\n",
       "\n",
       "    .dataframe thead th {\n",
       "        text-align: right;\n",
       "    }\n",
       "</style>\n",
       "<table border=\"1\" class=\"dataframe\">\n",
       "  <thead>\n",
       "    <tr style=\"text-align: right;\">\n",
       "      <th></th>\n",
       "      <th>app_id</th>\n",
       "      <th>business_id</th>\n",
       "      <th>lead_source_id</th>\n",
       "      <th>carrier_id</th>\n",
       "      <th>state_id</th>\n",
       "      <th>gender</th>\n",
       "      <th>application_type</th>\n",
       "      <th>plan_letter</th>\n",
       "      <th>age</th>\n",
       "      <th>spouse_policy_attached</th>\n",
       "      <th>lead_created_date</th>\n",
       "      <th>withdrawn</th>\n",
       "      <th>nans</th>\n",
       "      <th>split</th>\n",
       "    </tr>\n",
       "  </thead>\n",
       "  <tbody>\n",
       "  </tbody>\n",
       "</table>\n",
       "</div>"
      ],
      "text/plain": [
       "Empty DataFrame\n",
       "Columns: [app_id, business_id, lead_source_id, carrier_id, state_id, gender, application_type, plan_letter, age, spouse_policy_attached, lead_created_date, withdrawn, nans, split]\n",
       "Index: []"
      ]
     },
     "execution_count": 20,
     "metadata": {},
     "output_type": "execute_result"
    }
   ],
   "source": [
    "test1[test1.business_id==0.0]"
   ]
  },
  {
   "cell_type": "code",
   "execution_count": 21,
   "metadata": {
    "collapsed": true
   },
   "outputs": [],
   "source": [
    "train_test = pd.concat([train1, test1], sort=True)"
   ]
  },
  {
   "cell_type": "code",
   "execution_count": 22,
   "metadata": {},
   "outputs": [
    {
     "data": {
      "text/plain": [
       "1.0    46233\n",
       "2.0     1443\n",
       "Name: business_id, dtype: int64"
      ]
     },
     "execution_count": 22,
     "metadata": {},
     "output_type": "execute_result"
    }
   ],
   "source": [
    "train_test.business_id.value_counts()"
   ]
  },
  {
   "cell_type": "code",
   "execution_count": 23,
   "metadata": {
    "collapsed": true
   },
   "outputs": [],
   "source": [
    "from datetime import datetime #, '%d-%m-%Y'\n",
    "train_test['lead_dt'] = pd.to_datetime(train_test.lead_created_date)\n",
    "train_test['lead_dt_yr'] = train_test['lead_dt'].dt.year\n",
    "train_test['lead_dt_mon'] = train_test['lead_dt'].dt.month\n",
    "train_test['lead_dt_day'] = train_test['lead_dt'].dt.day\n",
    "train_test['lead_dt_hr'] = train_test['lead_dt'].dt.hour\n",
    "train_test['lead_dt_min'] = train_test['lead_dt'].dt.minute\n",
    "train_test['weekday']= train_test['lead_dt'].dt.weekday"
   ]
  },
  {
   "cell_type": "code",
   "execution_count": 24,
   "metadata": {
    "collapsed": true
   },
   "outputs": [],
   "source": [
    "train_test1 =train_test[train_test['lead_dt_yr']>=2014.0]"
   ]
  },
  {
   "cell_type": "code",
   "execution_count": 25,
   "metadata": {
    "collapsed": true
   },
   "outputs": [],
   "source": [
    "train_test1 =train_test1.drop(['app_id', 'lead_created_date', 'lead_dt' ,'nans'], axis=1)"
   ]
  },
  {
   "cell_type": "code",
   "execution_count": 26,
   "metadata": {
    "scrolled": true
   },
   "outputs": [
    {
     "data": {
      "text/plain": [
       "age                       float64\n",
       "application_type           object\n",
       "business_id               float64\n",
       "carrier_id                float64\n",
       "gender                     object\n",
       "lead_source_id            float64\n",
       "plan_letter                object\n",
       "split                       int64\n",
       "spouse_policy_attached    float64\n",
       "state_id                  float64\n",
       "withdrawn                 float64\n",
       "lead_dt_yr                float64\n",
       "lead_dt_mon               float64\n",
       "lead_dt_day               float64\n",
       "lead_dt_hr                float64\n",
       "lead_dt_min               float64\n",
       "weekday                   float64\n",
       "dtype: object"
      ]
     },
     "execution_count": 26,
     "metadata": {},
     "output_type": "execute_result"
    }
   ],
   "source": [
    "train_test1.dtypes"
   ]
  },
  {
   "cell_type": "code",
   "execution_count": 380,
   "metadata": {
    "scrolled": false
   },
   "outputs": [
    {
     "data": {
      "text/html": [
       "<div>\n",
       "<style scoped>\n",
       "    .dataframe tbody tr th:only-of-type {\n",
       "        vertical-align: middle;\n",
       "    }\n",
       "\n",
       "    .dataframe tbody tr th {\n",
       "        vertical-align: top;\n",
       "    }\n",
       "\n",
       "    .dataframe thead th {\n",
       "        text-align: right;\n",
       "    }\n",
       "</style>\n",
       "<table border=\"1\" class=\"dataframe\">\n",
       "  <thead>\n",
       "    <tr style=\"text-align: right;\">\n",
       "      <th></th>\n",
       "      <th>age</th>\n",
       "      <th>application_type</th>\n",
       "      <th>business_id</th>\n",
       "      <th>carrier_id</th>\n",
       "      <th>gender</th>\n",
       "      <th>lead_source_id</th>\n",
       "      <th>plan_letter</th>\n",
       "      <th>split</th>\n",
       "      <th>spouse_policy_attached</th>\n",
       "      <th>state_id</th>\n",
       "      <th>withdrawn</th>\n",
       "      <th>lead_dt_yr</th>\n",
       "      <th>lead_dt_mon</th>\n",
       "      <th>lead_dt_day</th>\n",
       "      <th>lead_dt_hr</th>\n",
       "      <th>lead_dt_min</th>\n",
       "      <th>weekday</th>\n",
       "    </tr>\n",
       "  </thead>\n",
       "  <tbody>\n",
       "    <tr>\n",
       "      <th>0</th>\n",
       "      <td>65.038764</td>\n",
       "      <td>Type 1</td>\n",
       "      <td>1.0</td>\n",
       "      <td>11.0</td>\n",
       "      <td>Male</td>\n",
       "      <td>233.0</td>\n",
       "      <td>A</td>\n",
       "      <td>1</td>\n",
       "      <td>0.0</td>\n",
       "      <td>31.0</td>\n",
       "      <td>0.0</td>\n",
       "      <td>2018.0</td>\n",
       "      <td>4.0</td>\n",
       "      <td>24.0</td>\n",
       "      <td>9.0</td>\n",
       "      <td>55.0</td>\n",
       "      <td>1.0</td>\n",
       "    </tr>\n",
       "    <tr>\n",
       "      <th>1</th>\n",
       "      <td>66.489092</td>\n",
       "      <td>Type 1</td>\n",
       "      <td>1.0</td>\n",
       "      <td>12.0</td>\n",
       "      <td>M</td>\n",
       "      <td>86.0</td>\n",
       "      <td>A</td>\n",
       "      <td>1</td>\n",
       "      <td>0.0</td>\n",
       "      <td>30.0</td>\n",
       "      <td>0.0</td>\n",
       "      <td>2018.0</td>\n",
       "      <td>4.0</td>\n",
       "      <td>13.0</td>\n",
       "      <td>8.0</td>\n",
       "      <td>6.0</td>\n",
       "      <td>4.0</td>\n",
       "    </tr>\n",
       "    <tr>\n",
       "      <th>2</th>\n",
       "      <td>63.668061</td>\n",
       "      <td>Type 1</td>\n",
       "      <td>1.0</td>\n",
       "      <td>4.0</td>\n",
       "      <td>Male</td>\n",
       "      <td>180.0</td>\n",
       "      <td>A</td>\n",
       "      <td>1</td>\n",
       "      <td>0.0</td>\n",
       "      <td>47.0</td>\n",
       "      <td>0.0</td>\n",
       "      <td>2018.0</td>\n",
       "      <td>7.0</td>\n",
       "      <td>19.0</td>\n",
       "      <td>8.0</td>\n",
       "      <td>23.0</td>\n",
       "      <td>3.0</td>\n",
       "    </tr>\n",
       "    <tr>\n",
       "      <th>3</th>\n",
       "      <td>65.636237</td>\n",
       "      <td>Type 1</td>\n",
       "      <td>1.0</td>\n",
       "      <td>9.0</td>\n",
       "      <td>Male</td>\n",
       "      <td>226.0</td>\n",
       "      <td>C</td>\n",
       "      <td>1</td>\n",
       "      <td>0.0</td>\n",
       "      <td>41.0</td>\n",
       "      <td>0.0</td>\n",
       "      <td>2018.0</td>\n",
       "      <td>8.0</td>\n",
       "      <td>6.0</td>\n",
       "      <td>15.0</td>\n",
       "      <td>9.0</td>\n",
       "      <td>0.0</td>\n",
       "    </tr>\n",
       "    <tr>\n",
       "      <th>4</th>\n",
       "      <td>65.688688</td>\n",
       "      <td>Type 1</td>\n",
       "      <td>1.0</td>\n",
       "      <td>11.0</td>\n",
       "      <td>M</td>\n",
       "      <td>111.0</td>\n",
       "      <td>B</td>\n",
       "      <td>1</td>\n",
       "      <td>0.0</td>\n",
       "      <td>35.0</td>\n",
       "      <td>0.0</td>\n",
       "      <td>2018.0</td>\n",
       "      <td>3.0</td>\n",
       "      <td>20.0</td>\n",
       "      <td>14.0</td>\n",
       "      <td>50.0</td>\n",
       "      <td>1.0</td>\n",
       "    </tr>\n",
       "  </tbody>\n",
       "</table>\n",
       "</div>"
      ],
      "text/plain": [
       "         age application_type  business_id  carrier_id gender  lead_source_id  \\\n",
       "0  65.038764           Type 1          1.0        11.0   Male           233.0   \n",
       "1  66.489092           Type 1          1.0        12.0      M            86.0   \n",
       "2  63.668061           Type 1          1.0         4.0   Male           180.0   \n",
       "3  65.636237           Type 1          1.0         9.0   Male           226.0   \n",
       "4  65.688688           Type 1          1.0        11.0      M           111.0   \n",
       "\n",
       "  plan_letter  split  spouse_policy_attached  state_id  withdrawn  lead_dt_yr  \\\n",
       "0           A      1                     0.0      31.0        0.0      2018.0   \n",
       "1           A      1                     0.0      30.0        0.0      2018.0   \n",
       "2           A      1                     0.0      47.0        0.0      2018.0   \n",
       "3           C      1                     0.0      41.0        0.0      2018.0   \n",
       "4           B      1                     0.0      35.0        0.0      2018.0   \n",
       "\n",
       "   lead_dt_mon  lead_dt_day  lead_dt_hr  lead_dt_min  weekday  \n",
       "0          4.0         24.0         9.0         55.0      1.0  \n",
       "1          4.0         13.0         8.0          6.0      4.0  \n",
       "2          7.0         19.0         8.0         23.0      3.0  \n",
       "3          8.0          6.0        15.0          9.0      0.0  \n",
       "4          3.0         20.0        14.0         50.0      1.0  "
      ]
     },
     "execution_count": 380,
     "metadata": {},
     "output_type": "execute_result"
    }
   ],
   "source": [
    "train_test1.head()"
   ]
  },
  {
   "cell_type": "code",
   "execution_count": 28,
   "metadata": {
    "collapsed": true
   },
   "outputs": [],
   "source": [
    "train_test2 = train_test1.copy()\n",
    "train_test2 = train_test2[train_test2['gender']!=1]\n",
    "train_test2['gender'] = train_test2['gender'].apply(lambda x: x.lower())\n",
    "train_test2['gender'] = [0 if k == 'm' or k == 'male' else 1 for k in train_test2.gender]\n",
    "train_test2['business_id'] = [0 if k == 1.0 else 1 for k in train_test2.business_id] \n",
    "train_test2['application_type'] = [0 if k =='Type 1' else 1 for k in train_test2['application_type'] ]\n",
    "train_test2['lead_source_id'] = train_test2['lead_source_id'].astype('str')\n",
    "train_test2['lead_source_id'] = train_test2['lead_source_id'].apply(lambda x: x + '_lead_source')"
   ]
  },
  {
   "cell_type": "code",
   "execution_count": 29,
   "metadata": {
    "collapsed": true
   },
   "outputs": [],
   "source": [
    "train_test2['carrier_id'] = train_test2['carrier_id'].astype('str')\n",
    "train_test2['carrier_id'] = train_test2['carrier_id'].apply(lambda x: x + '_carrier')"
   ]
  },
  {
   "cell_type": "code",
   "execution_count": 30,
   "metadata": {
    "collapsed": true
   },
   "outputs": [],
   "source": [
    "train_test2['state_id'] = train_test2['state_id'].astype('str')\n",
    "train_test2['state_id'] = train_test2['state_id'].apply(lambda x: x + '_state')"
   ]
  },
  {
   "cell_type": "code",
   "execution_count": 31,
   "metadata": {},
   "outputs": [
    {
     "data": {
      "text/plain": [
       "0    9842\n",
       "1      23\n",
       "Name: application_type, dtype: int64"
      ]
     },
     "execution_count": 31,
     "metadata": {},
     "output_type": "execute_result"
    }
   ],
   "source": [
    "train_test2.loc[(train_test2.withdrawn==1), 'application_type'].value_counts()"
   ]
  },
  {
   "cell_type": "code",
   "execution_count": 32,
   "metadata": {
    "scrolled": true
   },
   "outputs": [
    {
     "data": {
      "text/plain": [
       "0    46178\n",
       "1     1442\n",
       "Name: business_id, dtype: int64"
      ]
     },
     "execution_count": 32,
     "metadata": {},
     "output_type": "execute_result"
    }
   ],
   "source": [
    "train_test2['business_id'].value_counts()"
   ]
  },
  {
   "cell_type": "code",
   "execution_count": 33,
   "metadata": {
    "scrolled": true
   },
   "outputs": [
    {
     "data": {
      "text/plain": [
       "0.0    41748\n",
       "1.0     5872\n",
       "Name: spouse_policy_attached, dtype: int64"
      ]
     },
     "execution_count": 33,
     "metadata": {},
     "output_type": "execute_result"
    }
   ],
   "source": [
    "train_test2['spouse_policy_attached'].value_counts()"
   ]
  },
  {
   "cell_type": "code",
   "execution_count": 34,
   "metadata": {
    "scrolled": true
   },
   "outputs": [
    {
     "data": {
      "text/html": [
       "<div>\n",
       "<style scoped>\n",
       "    .dataframe tbody tr th:only-of-type {\n",
       "        vertical-align: middle;\n",
       "    }\n",
       "\n",
       "    .dataframe tbody tr th {\n",
       "        vertical-align: top;\n",
       "    }\n",
       "\n",
       "    .dataframe thead th {\n",
       "        text-align: right;\n",
       "    }\n",
       "</style>\n",
       "<table border=\"1\" class=\"dataframe\">\n",
       "  <thead>\n",
       "    <tr style=\"text-align: right;\">\n",
       "      <th></th>\n",
       "      <th>age</th>\n",
       "      <th>application_type</th>\n",
       "      <th>business_id</th>\n",
       "      <th>carrier_id</th>\n",
       "      <th>gender</th>\n",
       "      <th>lead_source_id</th>\n",
       "      <th>plan_letter</th>\n",
       "      <th>split</th>\n",
       "      <th>spouse_policy_attached</th>\n",
       "      <th>state_id</th>\n",
       "      <th>withdrawn</th>\n",
       "      <th>lead_dt_yr</th>\n",
       "      <th>lead_dt_mon</th>\n",
       "      <th>lead_dt_day</th>\n",
       "      <th>lead_dt_hr</th>\n",
       "      <th>lead_dt_min</th>\n",
       "      <th>weekday</th>\n",
       "    </tr>\n",
       "  </thead>\n",
       "  <tbody>\n",
       "    <tr>\n",
       "      <th>0</th>\n",
       "      <td>65.038764</td>\n",
       "      <td>0</td>\n",
       "      <td>0</td>\n",
       "      <td>11.0_carrier</td>\n",
       "      <td>0</td>\n",
       "      <td>233.0_lead_source</td>\n",
       "      <td>A</td>\n",
       "      <td>1</td>\n",
       "      <td>0.0</td>\n",
       "      <td>31.0_state</td>\n",
       "      <td>0.0</td>\n",
       "      <td>2018.0</td>\n",
       "      <td>4.0</td>\n",
       "      <td>24.0</td>\n",
       "      <td>9.0</td>\n",
       "      <td>55.0</td>\n",
       "      <td>1.0</td>\n",
       "    </tr>\n",
       "    <tr>\n",
       "      <th>1</th>\n",
       "      <td>66.489092</td>\n",
       "      <td>0</td>\n",
       "      <td>0</td>\n",
       "      <td>12.0_carrier</td>\n",
       "      <td>0</td>\n",
       "      <td>86.0_lead_source</td>\n",
       "      <td>A</td>\n",
       "      <td>1</td>\n",
       "      <td>0.0</td>\n",
       "      <td>30.0_state</td>\n",
       "      <td>0.0</td>\n",
       "      <td>2018.0</td>\n",
       "      <td>4.0</td>\n",
       "      <td>13.0</td>\n",
       "      <td>8.0</td>\n",
       "      <td>6.0</td>\n",
       "      <td>4.0</td>\n",
       "    </tr>\n",
       "    <tr>\n",
       "      <th>2</th>\n",
       "      <td>63.668061</td>\n",
       "      <td>0</td>\n",
       "      <td>0</td>\n",
       "      <td>4.0_carrier</td>\n",
       "      <td>0</td>\n",
       "      <td>180.0_lead_source</td>\n",
       "      <td>A</td>\n",
       "      <td>1</td>\n",
       "      <td>0.0</td>\n",
       "      <td>47.0_state</td>\n",
       "      <td>0.0</td>\n",
       "      <td>2018.0</td>\n",
       "      <td>7.0</td>\n",
       "      <td>19.0</td>\n",
       "      <td>8.0</td>\n",
       "      <td>23.0</td>\n",
       "      <td>3.0</td>\n",
       "    </tr>\n",
       "    <tr>\n",
       "      <th>3</th>\n",
       "      <td>65.636237</td>\n",
       "      <td>0</td>\n",
       "      <td>0</td>\n",
       "      <td>9.0_carrier</td>\n",
       "      <td>0</td>\n",
       "      <td>226.0_lead_source</td>\n",
       "      <td>C</td>\n",
       "      <td>1</td>\n",
       "      <td>0.0</td>\n",
       "      <td>41.0_state</td>\n",
       "      <td>0.0</td>\n",
       "      <td>2018.0</td>\n",
       "      <td>8.0</td>\n",
       "      <td>6.0</td>\n",
       "      <td>15.0</td>\n",
       "      <td>9.0</td>\n",
       "      <td>0.0</td>\n",
       "    </tr>\n",
       "    <tr>\n",
       "      <th>4</th>\n",
       "      <td>65.688688</td>\n",
       "      <td>0</td>\n",
       "      <td>0</td>\n",
       "      <td>11.0_carrier</td>\n",
       "      <td>0</td>\n",
       "      <td>111.0_lead_source</td>\n",
       "      <td>B</td>\n",
       "      <td>1</td>\n",
       "      <td>0.0</td>\n",
       "      <td>35.0_state</td>\n",
       "      <td>0.0</td>\n",
       "      <td>2018.0</td>\n",
       "      <td>3.0</td>\n",
       "      <td>20.0</td>\n",
       "      <td>14.0</td>\n",
       "      <td>50.0</td>\n",
       "      <td>1.0</td>\n",
       "    </tr>\n",
       "  </tbody>\n",
       "</table>\n",
       "</div>"
      ],
      "text/plain": [
       "         age  application_type  business_id    carrier_id  gender  \\\n",
       "0  65.038764                 0            0  11.0_carrier       0   \n",
       "1  66.489092                 0            0  12.0_carrier       0   \n",
       "2  63.668061                 0            0   4.0_carrier       0   \n",
       "3  65.636237                 0            0   9.0_carrier       0   \n",
       "4  65.688688                 0            0  11.0_carrier       0   \n",
       "\n",
       "      lead_source_id plan_letter  split  spouse_policy_attached    state_id  \\\n",
       "0  233.0_lead_source           A      1                     0.0  31.0_state   \n",
       "1   86.0_lead_source           A      1                     0.0  30.0_state   \n",
       "2  180.0_lead_source           A      1                     0.0  47.0_state   \n",
       "3  226.0_lead_source           C      1                     0.0  41.0_state   \n",
       "4  111.0_lead_source           B      1                     0.0  35.0_state   \n",
       "\n",
       "   withdrawn  lead_dt_yr  lead_dt_mon  lead_dt_day  lead_dt_hr  lead_dt_min  \\\n",
       "0        0.0      2018.0          4.0         24.0         9.0         55.0   \n",
       "1        0.0      2018.0          4.0         13.0         8.0          6.0   \n",
       "2        0.0      2018.0          7.0         19.0         8.0         23.0   \n",
       "3        0.0      2018.0          8.0          6.0        15.0          9.0   \n",
       "4        0.0      2018.0          3.0         20.0        14.0         50.0   \n",
       "\n",
       "   weekday  \n",
       "0      1.0  \n",
       "1      4.0  \n",
       "2      3.0  \n",
       "3      0.0  \n",
       "4      1.0  "
      ]
     },
     "execution_count": 34,
     "metadata": {},
     "output_type": "execute_result"
    }
   ],
   "source": [
    "train_test2.head()"
   ]
  },
  {
   "cell_type": "code",
   "execution_count": 35,
   "metadata": {
    "collapsed": true
   },
   "outputs": [],
   "source": [
    "train_test2['age']=round(train_test2.age)"
   ]
  },
  {
   "cell_type": "code",
   "execution_count": 36,
   "metadata": {
    "collapsed": true
   },
   "outputs": [],
   "source": [
    "def calc_smooth_mean(df, by, on, m):\n",
    "    # Compute the global mean\n",
    "    mean = df[on].mean()\n",
    "\n",
    "    # Compute the number of values and the mean of each group\n",
    "    agg = df.groupby(by)[on].agg(['count', 'mean'])\n",
    "    counts = agg['count']\n",
    "    means = agg['mean']\n",
    "\n",
    "    # Compute the \"smoothed\" means\n",
    "    smooth = (counts * means + m * mean) / (counts + m)\n",
    "\n",
    "    # Replace each value by the according smoothed mean\n",
    "    return df[by].map(smooth)\n"
   ]
  },
  {
   "cell_type": "code",
   "execution_count": 37,
   "metadata": {
    "collapsed": true
   },
   "outputs": [],
   "source": [
    "train_test2['age1']=calc_smooth_mean(train_test2, by='age', on='withdrawn', m=300)"
   ]
  },
  {
   "cell_type": "code",
   "execution_count": 38,
   "metadata": {
    "collapsed": true
   },
   "outputs": [],
   "source": [
    "train_test2['carrier_id1']=calc_smooth_mean(train_test2, by='carrier_id', on='withdrawn', m=300)"
   ]
  },
  {
   "cell_type": "code",
   "execution_count": 39,
   "metadata": {
    "collapsed": true
   },
   "outputs": [],
   "source": [
    "train_test2['state_id1']=calc_smooth_mean(train_test2, by='state_id', on='withdrawn', m=250)"
   ]
  },
  {
   "cell_type": "code",
   "execution_count": 40,
   "metadata": {
    "collapsed": true
   },
   "outputs": [],
   "source": [
    "train_test2['lead_source_id1'] = calc_smooth_mean(train_test2, by='state_id', on='withdrawn', m=300)"
   ]
  },
  {
   "cell_type": "code",
   "execution_count": 41,
   "metadata": {
    "scrolled": true
   },
   "outputs": [
    {
     "data": {
      "text/html": [
       "<div>\n",
       "<style scoped>\n",
       "    .dataframe tbody tr th:only-of-type {\n",
       "        vertical-align: middle;\n",
       "    }\n",
       "\n",
       "    .dataframe tbody tr th {\n",
       "        vertical-align: top;\n",
       "    }\n",
       "\n",
       "    .dataframe thead th {\n",
       "        text-align: right;\n",
       "    }\n",
       "</style>\n",
       "<table border=\"1\" class=\"dataframe\">\n",
       "  <thead>\n",
       "    <tr style=\"text-align: right;\">\n",
       "      <th></th>\n",
       "      <th>age</th>\n",
       "      <th>application_type</th>\n",
       "      <th>business_id</th>\n",
       "      <th>carrier_id</th>\n",
       "      <th>gender</th>\n",
       "      <th>lead_source_id</th>\n",
       "      <th>plan_letter</th>\n",
       "      <th>split</th>\n",
       "      <th>spouse_policy_attached</th>\n",
       "      <th>state_id</th>\n",
       "      <th>withdrawn</th>\n",
       "      <th>lead_dt_yr</th>\n",
       "      <th>lead_dt_mon</th>\n",
       "      <th>lead_dt_day</th>\n",
       "      <th>lead_dt_hr</th>\n",
       "      <th>lead_dt_min</th>\n",
       "      <th>weekday</th>\n",
       "      <th>age1</th>\n",
       "      <th>carrier_id1</th>\n",
       "      <th>state_id1</th>\n",
       "      <th>lead_source_id1</th>\n",
       "    </tr>\n",
       "  </thead>\n",
       "  <tbody>\n",
       "    <tr>\n",
       "      <th>0</th>\n",
       "      <td>65.0</td>\n",
       "      <td>0</td>\n",
       "      <td>0</td>\n",
       "      <td>11.0_carrier</td>\n",
       "      <td>0</td>\n",
       "      <td>233.0_lead_source</td>\n",
       "      <td>A</td>\n",
       "      <td>1</td>\n",
       "      <td>0.0</td>\n",
       "      <td>31.0_state</td>\n",
       "      <td>0.0</td>\n",
       "      <td>2018.0</td>\n",
       "      <td>4.0</td>\n",
       "      <td>24.0</td>\n",
       "      <td>9.0</td>\n",
       "      <td>55.0</td>\n",
       "      <td>1.0</td>\n",
       "      <td>0.214122</td>\n",
       "      <td>0.144039</td>\n",
       "      <td>0.214365</td>\n",
       "      <td>0.214008</td>\n",
       "    </tr>\n",
       "    <tr>\n",
       "      <th>1</th>\n",
       "      <td>66.0</td>\n",
       "      <td>0</td>\n",
       "      <td>0</td>\n",
       "      <td>12.0_carrier</td>\n",
       "      <td>0</td>\n",
       "      <td>86.0_lead_source</td>\n",
       "      <td>A</td>\n",
       "      <td>1</td>\n",
       "      <td>0.0</td>\n",
       "      <td>30.0_state</td>\n",
       "      <td>0.0</td>\n",
       "      <td>2018.0</td>\n",
       "      <td>4.0</td>\n",
       "      <td>13.0</td>\n",
       "      <td>8.0</td>\n",
       "      <td>6.0</td>\n",
       "      <td>4.0</td>\n",
       "      <td>0.208894</td>\n",
       "      <td>0.254007</td>\n",
       "      <td>0.237010</td>\n",
       "      <td>0.234821</td>\n",
       "    </tr>\n",
       "    <tr>\n",
       "      <th>2</th>\n",
       "      <td>64.0</td>\n",
       "      <td>0</td>\n",
       "      <td>0</td>\n",
       "      <td>4.0_carrier</td>\n",
       "      <td>0</td>\n",
       "      <td>180.0_lead_source</td>\n",
       "      <td>A</td>\n",
       "      <td>1</td>\n",
       "      <td>0.0</td>\n",
       "      <td>47.0_state</td>\n",
       "      <td>0.0</td>\n",
       "      <td>2018.0</td>\n",
       "      <td>7.0</td>\n",
       "      <td>19.0</td>\n",
       "      <td>8.0</td>\n",
       "      <td>23.0</td>\n",
       "      <td>3.0</td>\n",
       "      <td>0.216173</td>\n",
       "      <td>0.218919</td>\n",
       "      <td>0.192230</td>\n",
       "      <td>0.193197</td>\n",
       "    </tr>\n",
       "    <tr>\n",
       "      <th>3</th>\n",
       "      <td>66.0</td>\n",
       "      <td>0</td>\n",
       "      <td>0</td>\n",
       "      <td>9.0_carrier</td>\n",
       "      <td>0</td>\n",
       "      <td>226.0_lead_source</td>\n",
       "      <td>C</td>\n",
       "      <td>1</td>\n",
       "      <td>0.0</td>\n",
       "      <td>41.0_state</td>\n",
       "      <td>0.0</td>\n",
       "      <td>2018.0</td>\n",
       "      <td>8.0</td>\n",
       "      <td>6.0</td>\n",
       "      <td>15.0</td>\n",
       "      <td>9.0</td>\n",
       "      <td>0.0</td>\n",
       "      <td>0.208894</td>\n",
       "      <td>0.209855</td>\n",
       "      <td>0.214760</td>\n",
       "      <td>0.214700</td>\n",
       "    </tr>\n",
       "    <tr>\n",
       "      <th>4</th>\n",
       "      <td>66.0</td>\n",
       "      <td>0</td>\n",
       "      <td>0</td>\n",
       "      <td>11.0_carrier</td>\n",
       "      <td>0</td>\n",
       "      <td>111.0_lead_source</td>\n",
       "      <td>B</td>\n",
       "      <td>1</td>\n",
       "      <td>0.0</td>\n",
       "      <td>35.0_state</td>\n",
       "      <td>0.0</td>\n",
       "      <td>2018.0</td>\n",
       "      <td>3.0</td>\n",
       "      <td>20.0</td>\n",
       "      <td>14.0</td>\n",
       "      <td>50.0</td>\n",
       "      <td>1.0</td>\n",
       "      <td>0.208894</td>\n",
       "      <td>0.144039</td>\n",
       "      <td>0.211176</td>\n",
       "      <td>0.210994</td>\n",
       "    </tr>\n",
       "  </tbody>\n",
       "</table>\n",
       "</div>"
      ],
      "text/plain": [
       "    age  application_type  business_id    carrier_id  gender  \\\n",
       "0  65.0                 0            0  11.0_carrier       0   \n",
       "1  66.0                 0            0  12.0_carrier       0   \n",
       "2  64.0                 0            0   4.0_carrier       0   \n",
       "3  66.0                 0            0   9.0_carrier       0   \n",
       "4  66.0                 0            0  11.0_carrier       0   \n",
       "\n",
       "      lead_source_id plan_letter  split  spouse_policy_attached    state_id  \\\n",
       "0  233.0_lead_source           A      1                     0.0  31.0_state   \n",
       "1   86.0_lead_source           A      1                     0.0  30.0_state   \n",
       "2  180.0_lead_source           A      1                     0.0  47.0_state   \n",
       "3  226.0_lead_source           C      1                     0.0  41.0_state   \n",
       "4  111.0_lead_source           B      1                     0.0  35.0_state   \n",
       "\n",
       "   withdrawn  lead_dt_yr  lead_dt_mon  lead_dt_day  lead_dt_hr  lead_dt_min  \\\n",
       "0        0.0      2018.0          4.0         24.0         9.0         55.0   \n",
       "1        0.0      2018.0          4.0         13.0         8.0          6.0   \n",
       "2        0.0      2018.0          7.0         19.0         8.0         23.0   \n",
       "3        0.0      2018.0          8.0          6.0        15.0          9.0   \n",
       "4        0.0      2018.0          3.0         20.0        14.0         50.0   \n",
       "\n",
       "   weekday      age1  carrier_id1  state_id1  lead_source_id1  \n",
       "0      1.0  0.214122     0.144039   0.214365         0.214008  \n",
       "1      4.0  0.208894     0.254007   0.237010         0.234821  \n",
       "2      3.0  0.216173     0.218919   0.192230         0.193197  \n",
       "3      0.0  0.208894     0.209855   0.214760         0.214700  \n",
       "4      1.0  0.208894     0.144039   0.211176         0.210994  "
      ]
     },
     "execution_count": 41,
     "metadata": {},
     "output_type": "execute_result"
    }
   ],
   "source": [
    "train_test2.head()"
   ]
  },
  {
   "cell_type": "code",
   "execution_count": 42,
   "metadata": {
    "collapsed": true
   },
   "outputs": [],
   "source": [
    "train_test3 = train_test2.drop(['carrier_id', 'lead_source_id', 'state_id'], axis=1)"
   ]
  },
  {
   "cell_type": "code",
   "execution_count": 43,
   "metadata": {
    "collapsed": true
   },
   "outputs": [],
   "source": [
    "le = LabelEncoder()"
   ]
  },
  {
   "cell_type": "code",
   "execution_count": 44,
   "metadata": {
    "collapsed": true
   },
   "outputs": [],
   "source": [
    "train_test3['plan_letter1'] = le.fit_transform(train_test3['plan_letter'])"
   ]
  },
  {
   "cell_type": "code",
   "execution_count": 47,
   "metadata": {
    "collapsed": true
   },
   "outputs": [],
   "source": [
    "train_test4 = pd.concat([train_test3.drop('plan_letter', axis=1), pd.get_dummies(train_test3['plan_letter'])], axis=1)"
   ]
  },
  {
   "cell_type": "code",
   "execution_count": 48,
   "metadata": {
    "collapsed": true
   },
   "outputs": [],
   "source": [
    "train_test4.drop('plan_letter1', axis=1, inplace=True)"
   ]
  },
  {
   "cell_type": "code",
   "execution_count": 49,
   "metadata": {
    "collapsed": true
   },
   "outputs": [],
   "source": [
    "time_di = {4: 0,5: 0, 6: 0, 7: 0, 8: 0, 9: 0,10: 0,\n",
    "           11: 1, 12: 1,13: 1,14: 1, \n",
    "           15:2,16:2,17:2,18:2, 19:2, 20:2, \n",
    "           21: 3, 22: 3, 23: 3, 24: 3, 0: 3, 1: 3, 2: 3, 3: 3}"
   ]
  },
  {
   "cell_type": "code",
   "execution_count": 50,
   "metadata": {
    "collapsed": true,
    "scrolled": true
   },
   "outputs": [],
   "source": [
    "train_test4['lead_dt_hr1']=train_test4.lead_dt_hr.map(time_di)"
   ]
  },
  {
   "cell_type": "code",
   "execution_count": 51,
   "metadata": {
    "collapsed": true
   },
   "outputs": [],
   "source": [
    "## where Monday is 0 and Sunday is 6.\n",
    "#test1['weekday']= test1['lead_dt'].dt.weekday"
   ]
  },
  {
   "cell_type": "code",
   "execution_count": 52,
   "metadata": {
    "collapsed": true,
    "scrolled": true
   },
   "outputs": [],
   "source": [
    "train_test4.drop(['lead_dt_day', 'lead_dt_hr'], axis=1,inplace=True)"
   ]
  },
  {
   "cell_type": "code",
   "execution_count": 53,
   "metadata": {
    "collapsed": true
   },
   "outputs": [],
   "source": [
    "train_test4['year1']=train_test4.lead_dt_yr + (train_test4.lead_dt_mon * .1)"
   ]
  },
  {
   "cell_type": "code",
   "execution_count": 54,
   "metadata": {
    "collapsed": true
   },
   "outputs": [],
   "source": [
    "train_test4['year2'] = calc_smooth_mean(train_test4, by='year1', on='withdrawn', m=300)"
   ]
  },
  {
   "cell_type": "code",
   "execution_count": 55,
   "metadata": {},
   "outputs": [
    {
     "data": {
      "text/plain": [
       "8.0     6561\n",
       "7.0     5689\n",
       "6.0     5366\n",
       "5.0     5286\n",
       "9.0     5270\n",
       "3.0     4823\n",
       "4.0     4822\n",
       "1.0     4363\n",
       "2.0     4051\n",
       "12.0     532\n",
       "10.0     502\n",
       "11.0     355\n",
       "Name: lead_dt_mon, dtype: int64"
      ]
     },
     "execution_count": 55,
     "metadata": {},
     "output_type": "execute_result"
    }
   ],
   "source": [
    "train_test4['lead_dt_mon'].value_counts()"
   ]
  },
  {
   "cell_type": "code",
   "execution_count": 56,
   "metadata": {
    "collapsed": true
   },
   "outputs": [],
   "source": [
    "di_mon = {1.0:0, 2.0:0, 3.0:0, 4.0:1, 5.0:1, 6.0:1, 7.0:2, 8.0:2, 9.0:2, 10.0:3, 11.0:3, 12.0:3}"
   ]
  },
  {
   "cell_type": "code",
   "execution_count": 57,
   "metadata": {
    "collapsed": true
   },
   "outputs": [],
   "source": [
    "train_test4['lead_dt_mon1'] = train_test4['lead_dt_mon'].map(di_mon)"
   ]
  },
  {
   "cell_type": "code",
   "execution_count": 59,
   "metadata": {
    "collapsed": true
   },
   "outputs": [],
   "source": [
    "train_test5 = train_test4.drop(['year1', 'lead_dt_min', 'lead_dt_mon', 'lead_dt_yr', 'age1'], axis=1)"
   ]
  },
  {
   "cell_type": "code",
   "execution_count": 60,
   "metadata": {},
   "outputs": [
    {
     "data": {
      "text/html": [
       "<div>\n",
       "<style scoped>\n",
       "    .dataframe tbody tr th:only-of-type {\n",
       "        vertical-align: middle;\n",
       "    }\n",
       "\n",
       "    .dataframe tbody tr th {\n",
       "        vertical-align: top;\n",
       "    }\n",
       "\n",
       "    .dataframe thead th {\n",
       "        text-align: right;\n",
       "    }\n",
       "</style>\n",
       "<table border=\"1\" class=\"dataframe\">\n",
       "  <thead>\n",
       "    <tr style=\"text-align: right;\">\n",
       "      <th></th>\n",
       "      <th>age</th>\n",
       "      <th>application_type</th>\n",
       "      <th>business_id</th>\n",
       "      <th>gender</th>\n",
       "      <th>split</th>\n",
       "      <th>spouse_policy_attached</th>\n",
       "      <th>withdrawn</th>\n",
       "      <th>weekday</th>\n",
       "      <th>carrier_id1</th>\n",
       "      <th>state_id1</th>\n",
       "      <th>lead_source_id1</th>\n",
       "      <th>A</th>\n",
       "      <th>B</th>\n",
       "      <th>C</th>\n",
       "      <th>lead_dt_hr1</th>\n",
       "      <th>year2</th>\n",
       "      <th>lead_dt_mon1</th>\n",
       "    </tr>\n",
       "  </thead>\n",
       "  <tbody>\n",
       "    <tr>\n",
       "      <th>0</th>\n",
       "      <td>65.0</td>\n",
       "      <td>0</td>\n",
       "      <td>0</td>\n",
       "      <td>0</td>\n",
       "      <td>1</td>\n",
       "      <td>0.0</td>\n",
       "      <td>0.0</td>\n",
       "      <td>1.0</td>\n",
       "      <td>0.144039</td>\n",
       "      <td>0.214365</td>\n",
       "      <td>0.214008</td>\n",
       "      <td>1</td>\n",
       "      <td>0</td>\n",
       "      <td>0</td>\n",
       "      <td>0</td>\n",
       "      <td>0.211397</td>\n",
       "      <td>1</td>\n",
       "    </tr>\n",
       "    <tr>\n",
       "      <th>1</th>\n",
       "      <td>66.0</td>\n",
       "      <td>0</td>\n",
       "      <td>0</td>\n",
       "      <td>0</td>\n",
       "      <td>1</td>\n",
       "      <td>0.0</td>\n",
       "      <td>0.0</td>\n",
       "      <td>4.0</td>\n",
       "      <td>0.254007</td>\n",
       "      <td>0.237010</td>\n",
       "      <td>0.234821</td>\n",
       "      <td>1</td>\n",
       "      <td>0</td>\n",
       "      <td>0</td>\n",
       "      <td>0</td>\n",
       "      <td>0.211397</td>\n",
       "      <td>1</td>\n",
       "    </tr>\n",
       "    <tr>\n",
       "      <th>2</th>\n",
       "      <td>64.0</td>\n",
       "      <td>0</td>\n",
       "      <td>0</td>\n",
       "      <td>0</td>\n",
       "      <td>1</td>\n",
       "      <td>0.0</td>\n",
       "      <td>0.0</td>\n",
       "      <td>3.0</td>\n",
       "      <td>0.218919</td>\n",
       "      <td>0.192230</td>\n",
       "      <td>0.193197</td>\n",
       "      <td>1</td>\n",
       "      <td>0</td>\n",
       "      <td>0</td>\n",
       "      <td>0</td>\n",
       "      <td>0.201041</td>\n",
       "      <td>2</td>\n",
       "    </tr>\n",
       "    <tr>\n",
       "      <th>3</th>\n",
       "      <td>66.0</td>\n",
       "      <td>0</td>\n",
       "      <td>0</td>\n",
       "      <td>0</td>\n",
       "      <td>1</td>\n",
       "      <td>0.0</td>\n",
       "      <td>0.0</td>\n",
       "      <td>0.0</td>\n",
       "      <td>0.209855</td>\n",
       "      <td>0.214760</td>\n",
       "      <td>0.214700</td>\n",
       "      <td>0</td>\n",
       "      <td>0</td>\n",
       "      <td>1</td>\n",
       "      <td>2</td>\n",
       "      <td>0.216355</td>\n",
       "      <td>2</td>\n",
       "    </tr>\n",
       "    <tr>\n",
       "      <th>4</th>\n",
       "      <td>66.0</td>\n",
       "      <td>0</td>\n",
       "      <td>0</td>\n",
       "      <td>0</td>\n",
       "      <td>1</td>\n",
       "      <td>0.0</td>\n",
       "      <td>0.0</td>\n",
       "      <td>1.0</td>\n",
       "      <td>0.144039</td>\n",
       "      <td>0.211176</td>\n",
       "      <td>0.210994</td>\n",
       "      <td>0</td>\n",
       "      <td>1</td>\n",
       "      <td>0</td>\n",
       "      <td>1</td>\n",
       "      <td>0.197541</td>\n",
       "      <td>0</td>\n",
       "    </tr>\n",
       "  </tbody>\n",
       "</table>\n",
       "</div>"
      ],
      "text/plain": [
       "    age  application_type  business_id  gender  split  spouse_policy_attached  \\\n",
       "0  65.0                 0            0       0      1                     0.0   \n",
       "1  66.0                 0            0       0      1                     0.0   \n",
       "2  64.0                 0            0       0      1                     0.0   \n",
       "3  66.0                 0            0       0      1                     0.0   \n",
       "4  66.0                 0            0       0      1                     0.0   \n",
       "\n",
       "   withdrawn  weekday  carrier_id1  state_id1  lead_source_id1  A  B  C  \\\n",
       "0        0.0      1.0     0.144039   0.214365         0.214008  1  0  0   \n",
       "1        0.0      4.0     0.254007   0.237010         0.234821  1  0  0   \n",
       "2        0.0      3.0     0.218919   0.192230         0.193197  1  0  0   \n",
       "3        0.0      0.0     0.209855   0.214760         0.214700  0  0  1   \n",
       "4        0.0      1.0     0.144039   0.211176         0.210994  0  1  0   \n",
       "\n",
       "   lead_dt_hr1     year2  lead_dt_mon1  \n",
       "0            0  0.211397             1  \n",
       "1            0  0.211397             1  \n",
       "2            0  0.201041             2  \n",
       "3            2  0.216355             2  \n",
       "4            1  0.197541             0  "
      ]
     },
     "execution_count": 60,
     "metadata": {},
     "output_type": "execute_result"
    }
   ],
   "source": [
    "train_test5.head()"
   ]
  },
  {
   "cell_type": "code",
   "execution_count": 61,
   "metadata": {
    "scrolled": true
   },
   "outputs": [
    {
     "data": {
      "text/plain": [
       "['age',\n",
       " 0.0,\n",
       " 'application_type',\n",
       " 0.0,\n",
       " 'business_id',\n",
       " 0.0,\n",
       " 'gender',\n",
       " 0.0,\n",
       " 'split',\n",
       " 0.0,\n",
       " 'spouse_policy_attached',\n",
       " 0.0,\n",
       " 'withdrawn',\n",
       " 0.0,\n",
       " 'weekday',\n",
       " 0.0,\n",
       " 'carrier_id1',\n",
       " 0.0,\n",
       " 'state_id1',\n",
       " 0.0,\n",
       " 'lead_source_id1',\n",
       " 0.0,\n",
       " 'A',\n",
       " 0.0,\n",
       " 'B',\n",
       " 0.0,\n",
       " 'C',\n",
       " 0.0,\n",
       " 'lead_dt_hr1',\n",
       " 0.0,\n",
       " 'year2',\n",
       " 0.0,\n",
       " 'lead_dt_mon1',\n",
       " 0.0]"
      ]
     },
     "execution_count": 61,
     "metadata": {},
     "output_type": "execute_result"
    }
   ],
   "source": [
    "missing_pct(train_test5)"
   ]
  },
  {
   "cell_type": "markdown",
   "metadata": {},
   "source": [
    "## Cyclical features for regression\n",
    "df['hourfloat']=df.hour+df.minute/60.0\n",
    "df['x']=np.sin(2.*np.pi*df.hourfloat/24.)\n",
    "df['y']=np.cos(2.*np.pi*df.hourfloat/24.)\n",
    "\n",
    "###### hour minute hourfloat x      y\n",
    "###### 0     24     .40     .104528 .994522\n",
    "\n",
    "df['hr_sin'] = np.sin(df.hr*(2.*np.pi/24))\n",
    "df['hr_cos'] = np.cos(df.hr*(2.*np.pi/24))\n",
    "df['mnth_sin'] = np.sin((df.mnth-1)*(2.*np.pi/12))\n",
    "df['mnth_cos'] = np.cos((df.mnth-1)*(2.*np.pi/12))"
   ]
  },
  {
   "cell_type": "markdown",
   "metadata": {},
   "source": [
    "## Train test split"
   ]
  },
  {
   "cell_type": "code",
   "execution_count": 62,
   "metadata": {
    "collapsed": true
   },
   "outputs": [],
   "source": [
    "train6 = train_test5.loc[train_test5.split==1]"
   ]
  },
  {
   "cell_type": "code",
   "execution_count": 63,
   "metadata": {
    "scrolled": true
   },
   "outputs": [
    {
     "data": {
      "text/html": [
       "<div>\n",
       "<style scoped>\n",
       "    .dataframe tbody tr th:only-of-type {\n",
       "        vertical-align: middle;\n",
       "    }\n",
       "\n",
       "    .dataframe tbody tr th {\n",
       "        vertical-align: top;\n",
       "    }\n",
       "\n",
       "    .dataframe thead th {\n",
       "        text-align: right;\n",
       "    }\n",
       "</style>\n",
       "<table border=\"1\" class=\"dataframe\">\n",
       "  <thead>\n",
       "    <tr style=\"text-align: right;\">\n",
       "      <th></th>\n",
       "      <th>age</th>\n",
       "      <th>application_type</th>\n",
       "      <th>business_id</th>\n",
       "      <th>gender</th>\n",
       "      <th>split</th>\n",
       "      <th>spouse_policy_attached</th>\n",
       "      <th>withdrawn</th>\n",
       "      <th>weekday</th>\n",
       "      <th>carrier_id1</th>\n",
       "      <th>state_id1</th>\n",
       "      <th>lead_source_id1</th>\n",
       "      <th>A</th>\n",
       "      <th>B</th>\n",
       "      <th>C</th>\n",
       "      <th>lead_dt_hr1</th>\n",
       "      <th>year2</th>\n",
       "      <th>lead_dt_mon1</th>\n",
       "    </tr>\n",
       "  </thead>\n",
       "  <tbody>\n",
       "    <tr>\n",
       "      <th>0</th>\n",
       "      <td>65.0</td>\n",
       "      <td>0</td>\n",
       "      <td>0</td>\n",
       "      <td>0</td>\n",
       "      <td>1</td>\n",
       "      <td>0.0</td>\n",
       "      <td>0.0</td>\n",
       "      <td>1.0</td>\n",
       "      <td>0.144039</td>\n",
       "      <td>0.214365</td>\n",
       "      <td>0.214008</td>\n",
       "      <td>1</td>\n",
       "      <td>0</td>\n",
       "      <td>0</td>\n",
       "      <td>0</td>\n",
       "      <td>0.211397</td>\n",
       "      <td>1</td>\n",
       "    </tr>\n",
       "    <tr>\n",
       "      <th>1</th>\n",
       "      <td>66.0</td>\n",
       "      <td>0</td>\n",
       "      <td>0</td>\n",
       "      <td>0</td>\n",
       "      <td>1</td>\n",
       "      <td>0.0</td>\n",
       "      <td>0.0</td>\n",
       "      <td>4.0</td>\n",
       "      <td>0.254007</td>\n",
       "      <td>0.237010</td>\n",
       "      <td>0.234821</td>\n",
       "      <td>1</td>\n",
       "      <td>0</td>\n",
       "      <td>0</td>\n",
       "      <td>0</td>\n",
       "      <td>0.211397</td>\n",
       "      <td>1</td>\n",
       "    </tr>\n",
       "    <tr>\n",
       "      <th>2</th>\n",
       "      <td>64.0</td>\n",
       "      <td>0</td>\n",
       "      <td>0</td>\n",
       "      <td>0</td>\n",
       "      <td>1</td>\n",
       "      <td>0.0</td>\n",
       "      <td>0.0</td>\n",
       "      <td>3.0</td>\n",
       "      <td>0.218919</td>\n",
       "      <td>0.192230</td>\n",
       "      <td>0.193197</td>\n",
       "      <td>1</td>\n",
       "      <td>0</td>\n",
       "      <td>0</td>\n",
       "      <td>0</td>\n",
       "      <td>0.201041</td>\n",
       "      <td>2</td>\n",
       "    </tr>\n",
       "    <tr>\n",
       "      <th>3</th>\n",
       "      <td>66.0</td>\n",
       "      <td>0</td>\n",
       "      <td>0</td>\n",
       "      <td>0</td>\n",
       "      <td>1</td>\n",
       "      <td>0.0</td>\n",
       "      <td>0.0</td>\n",
       "      <td>0.0</td>\n",
       "      <td>0.209855</td>\n",
       "      <td>0.214760</td>\n",
       "      <td>0.214700</td>\n",
       "      <td>0</td>\n",
       "      <td>0</td>\n",
       "      <td>1</td>\n",
       "      <td>2</td>\n",
       "      <td>0.216355</td>\n",
       "      <td>2</td>\n",
       "    </tr>\n",
       "    <tr>\n",
       "      <th>4</th>\n",
       "      <td>66.0</td>\n",
       "      <td>0</td>\n",
       "      <td>0</td>\n",
       "      <td>0</td>\n",
       "      <td>1</td>\n",
       "      <td>0.0</td>\n",
       "      <td>0.0</td>\n",
       "      <td>1.0</td>\n",
       "      <td>0.144039</td>\n",
       "      <td>0.211176</td>\n",
       "      <td>0.210994</td>\n",
       "      <td>0</td>\n",
       "      <td>1</td>\n",
       "      <td>0</td>\n",
       "      <td>1</td>\n",
       "      <td>0.197541</td>\n",
       "      <td>0</td>\n",
       "    </tr>\n",
       "  </tbody>\n",
       "</table>\n",
       "</div>"
      ],
      "text/plain": [
       "    age  application_type  business_id  gender  split  spouse_policy_attached  \\\n",
       "0  65.0                 0            0       0      1                     0.0   \n",
       "1  66.0                 0            0       0      1                     0.0   \n",
       "2  64.0                 0            0       0      1                     0.0   \n",
       "3  66.0                 0            0       0      1                     0.0   \n",
       "4  66.0                 0            0       0      1                     0.0   \n",
       "\n",
       "   withdrawn  weekday  carrier_id1  state_id1  lead_source_id1  A  B  C  \\\n",
       "0        0.0      1.0     0.144039   0.214365         0.214008  1  0  0   \n",
       "1        0.0      4.0     0.254007   0.237010         0.234821  1  0  0   \n",
       "2        0.0      3.0     0.218919   0.192230         0.193197  1  0  0   \n",
       "3        0.0      0.0     0.209855   0.214760         0.214700  0  0  1   \n",
       "4        0.0      1.0     0.144039   0.211176         0.210994  0  1  0   \n",
       "\n",
       "   lead_dt_hr1     year2  lead_dt_mon1  \n",
       "0            0  0.211397             1  \n",
       "1            0  0.211397             1  \n",
       "2            0  0.201041             2  \n",
       "3            2  0.216355             2  \n",
       "4            1  0.197541             0  "
      ]
     },
     "execution_count": 63,
     "metadata": {},
     "output_type": "execute_result"
    }
   ],
   "source": [
    "train6.head()"
   ]
  },
  {
   "cell_type": "code",
   "execution_count": 64,
   "metadata": {
    "collapsed": true
   },
   "outputs": [],
   "source": [
    "test6 = train_test5.loc[train_test5.split==0]"
   ]
  },
  {
   "cell_type": "code",
   "execution_count": 65,
   "metadata": {
    "collapsed": true
   },
   "outputs": [],
   "source": [
    "Xx = train6.drop(['withdrawn','split'], axis=1)"
   ]
  },
  {
   "cell_type": "code",
   "execution_count": 66,
   "metadata": {
    "collapsed": true
   },
   "outputs": [],
   "source": [
    "y = train6['withdrawn']"
   ]
  },
  {
   "cell_type": "code",
   "execution_count": null,
   "metadata": {
    "collapsed": true
   },
   "outputs": [],
   "source": [
    "X1 = X.drop(['business_id', 'application_type','29.0_state', '3.0_state', '33.0_state',\n",
    "       '36.0_state', '40.0_state', '41.0_state', '43.0_state', '9.0_state',\n",
    "       'state_other'], axis=1)"
   ]
  },
  {
   "cell_type": "code",
   "execution_count": null,
   "metadata": {
    "collapsed": true
   },
   "outputs": [],
   "source": [
    "X.columns"
   ]
  },
  {
   "cell_type": "code",
   "execution_count": null,
   "metadata": {
    "collapsed": true
   },
   "outputs": [],
   "source": [
    "X2 = X1.iloc[:,X1.columns!= 'withdrawn']"
   ]
  },
  {
   "cell_type": "code",
   "execution_count": null,
   "metadata": {
    "collapsed": true
   },
   "outputs": [],
   "source": [
    "y = train5['withdrawn']"
   ]
  },
  {
   "cell_type": "code",
   "execution_count": null,
   "metadata": {
    "collapsed": true
   },
   "outputs": [],
   "source": [
    "X = train5.iloc[:,train5.columns!= 'withdrawn']"
   ]
  },
  {
   "cell_type": "code",
   "execution_count": 285,
   "metadata": {},
   "outputs": [
    {
     "data": {
      "text/plain": [
       "<matplotlib.axes._subplots.AxesSubplot at 0x7fbdf098ee80>"
      ]
     },
     "execution_count": 285,
     "metadata": {},
     "output_type": "execute_result"
    },
    {
     "data": {
      "image/png": "[encoded data removed]",
      "text/plain": [
       "<matplotlib.figure.Figure at 0x7fbdf03d7518>"
      ]
     },
     "metadata": {},
     "output_type": "display_data"
    }
   ],
   "source": [
    "# Compute the correlation matrix\n",
    "corr = X_train.corr()\n",
    "\n",
    "# Generate a mask for the upper triangle\n",
    "mask = np.zeros_like(corr, dtype=np.bool)\n",
    "mask[np.triu_indices_from(mask)] = True\n",
    "\n",
    "# Set up the matplotlib figure\n",
    "f, ax = plt.subplots(figsize=(11, 9))\n",
    "\n",
    "# Generate a custom diverging colormap\n",
    "cmap = sns.diverging_palette(220, 10, as_cmap=True)\n",
    "\n",
    "# Draw the heatmap with the mask and correct aspect ratio\n",
    "sns.heatmap(corr, mask=mask, cmap=cmap, vmax=.3, center=0,\n",
    "            square=True, linewidths=1, cbar_kws={\"shrink\": .5})"
   ]
  },
  {
   "cell_type": "code",
   "execution_count": 132,
   "metadata": {
    "collapsed": true
   },
   "outputs": [],
   "source": [
    "X_train, X_test, y_train, y_test = train_test_split(Xx, y, test_size = .2, random_state = 42)"
   ]
  },
  {
   "cell_type": "code",
   "execution_count": 68,
   "metadata": {},
   "outputs": [
    {
     "data": {
      "text/plain": [
       "5217     0.0\n",
       "32029    0.0\n",
       "26947    0.0\n",
       "21325    1.0\n",
       "9196     0.0\n",
       "Name: withdrawn, dtype: float64"
      ]
     },
     "execution_count": 68,
     "metadata": {},
     "output_type": "execute_result"
    }
   ],
   "source": [
    "y_train.head()"
   ]
  },
  {
   "cell_type": "markdown",
   "metadata": {},
   "source": [
    "## Isolation Forest  \n",
    "https://www.kaggle.com/rgaddati/unsupervised-fraud-detection-isolation-forest"
   ]
  },
  {
   "cell_type": "code",
   "execution_count": 295,
   "metadata": {
    "collapsed": true
   },
   "outputs": [],
   "source": [
    "from sklearn.ensemble import IsolationForest"
   ]
  },
  {
   "cell_type": "code",
   "execution_count": 359,
   "metadata": {
    "collapsed": true
   },
   "outputs": [],
   "source": [
    "inliers = train6[train6.withdrawn==0]\n",
    "inliers = inliers.drop(['withdrawn'], axis=1)\n",
    "outliers = train6[train6.withdrawn==1]\n",
    "outliers = outliers.drop(['withdrawn'], axis=1)\n",
    "inliers_train, inliers_test = train_test_split(inliers, test_size=0.20, random_state=42)"
   ]
  },
  {
   "cell_type": "code",
   "execution_count": 358,
   "metadata": {},
   "outputs": [
    {
     "data": {
      "text/html": [
       "<div>\n",
       "<style scoped>\n",
       "    .dataframe tbody tr th:only-of-type {\n",
       "        vertical-align: middle;\n",
       "    }\n",
       "\n",
       "    .dataframe tbody tr th {\n",
       "        vertical-align: top;\n",
       "    }\n",
       "\n",
       "    .dataframe thead th {\n",
       "        text-align: right;\n",
       "    }\n",
       "</style>\n",
       "<table border=\"1\" class=\"dataframe\">\n",
       "  <thead>\n",
       "    <tr style=\"text-align: right;\">\n",
       "      <th></th>\n",
       "      <th>age</th>\n",
       "      <th>application_type</th>\n",
       "      <th>business_id</th>\n",
       "      <th>gender</th>\n",
       "      <th>split</th>\n",
       "      <th>spouse_policy_attached</th>\n",
       "      <th>weekday</th>\n",
       "      <th>carrier_id1</th>\n",
       "      <th>state_id1</th>\n",
       "      <th>lead_source_id1</th>\n",
       "      <th>A</th>\n",
       "      <th>B</th>\n",
       "      <th>C</th>\n",
       "      <th>lead_dt_hr1</th>\n",
       "      <th>year2</th>\n",
       "      <th>lead_dt_mon1</th>\n",
       "    </tr>\n",
       "  </thead>\n",
       "  <tbody>\n",
       "    <tr>\n",
       "      <th>0</th>\n",
       "      <td>65.0</td>\n",
       "      <td>0</td>\n",
       "      <td>0</td>\n",
       "      <td>0</td>\n",
       "      <td>1</td>\n",
       "      <td>0.0</td>\n",
       "      <td>1.0</td>\n",
       "      <td>0.144039</td>\n",
       "      <td>0.214365</td>\n",
       "      <td>0.214008</td>\n",
       "      <td>1</td>\n",
       "      <td>0</td>\n",
       "      <td>0</td>\n",
       "      <td>0</td>\n",
       "      <td>0.211397</td>\n",
       "      <td>1</td>\n",
       "    </tr>\n",
       "    <tr>\n",
       "      <th>1</th>\n",
       "      <td>66.0</td>\n",
       "      <td>0</td>\n",
       "      <td>0</td>\n",
       "      <td>0</td>\n",
       "      <td>1</td>\n",
       "      <td>0.0</td>\n",
       "      <td>4.0</td>\n",
       "      <td>0.254007</td>\n",
       "      <td>0.237010</td>\n",
       "      <td>0.234821</td>\n",
       "      <td>1</td>\n",
       "      <td>0</td>\n",
       "      <td>0</td>\n",
       "      <td>0</td>\n",
       "      <td>0.211397</td>\n",
       "      <td>1</td>\n",
       "    </tr>\n",
       "    <tr>\n",
       "      <th>2</th>\n",
       "      <td>64.0</td>\n",
       "      <td>0</td>\n",
       "      <td>0</td>\n",
       "      <td>0</td>\n",
       "      <td>1</td>\n",
       "      <td>0.0</td>\n",
       "      <td>3.0</td>\n",
       "      <td>0.218919</td>\n",
       "      <td>0.192230</td>\n",
       "      <td>0.193197</td>\n",
       "      <td>1</td>\n",
       "      <td>0</td>\n",
       "      <td>0</td>\n",
       "      <td>0</td>\n",
       "      <td>0.201041</td>\n",
       "      <td>2</td>\n",
       "    </tr>\n",
       "    <tr>\n",
       "      <th>3</th>\n",
       "      <td>66.0</td>\n",
       "      <td>0</td>\n",
       "      <td>0</td>\n",
       "      <td>0</td>\n",
       "      <td>1</td>\n",
       "      <td>0.0</td>\n",
       "      <td>0.0</td>\n",
       "      <td>0.209855</td>\n",
       "      <td>0.214760</td>\n",
       "      <td>0.214700</td>\n",
       "      <td>0</td>\n",
       "      <td>0</td>\n",
       "      <td>1</td>\n",
       "      <td>2</td>\n",
       "      <td>0.216355</td>\n",
       "      <td>2</td>\n",
       "    </tr>\n",
       "    <tr>\n",
       "      <th>4</th>\n",
       "      <td>66.0</td>\n",
       "      <td>0</td>\n",
       "      <td>0</td>\n",
       "      <td>0</td>\n",
       "      <td>1</td>\n",
       "      <td>0.0</td>\n",
       "      <td>1.0</td>\n",
       "      <td>0.144039</td>\n",
       "      <td>0.211176</td>\n",
       "      <td>0.210994</td>\n",
       "      <td>0</td>\n",
       "      <td>1</td>\n",
       "      <td>0</td>\n",
       "      <td>1</td>\n",
       "      <td>0.197541</td>\n",
       "      <td>0</td>\n",
       "    </tr>\n",
       "  </tbody>\n",
       "</table>\n",
       "</div>"
      ],
      "text/plain": [
       "    age  application_type  business_id  gender  split  spouse_policy_attached  \\\n",
       "0  65.0                 0            0       0      1                     0.0   \n",
       "1  66.0                 0            0       0      1                     0.0   \n",
       "2  64.0                 0            0       0      1                     0.0   \n",
       "3  66.0                 0            0       0      1                     0.0   \n",
       "4  66.0                 0            0       0      1                     0.0   \n",
       "\n",
       "   weekday  carrier_id1  state_id1  lead_source_id1  A  B  C  lead_dt_hr1  \\\n",
       "0      1.0     0.144039   0.214365         0.214008  1  0  0            0   \n",
       "1      4.0     0.254007   0.237010         0.234821  1  0  0            0   \n",
       "2      3.0     0.218919   0.192230         0.193197  1  0  0            0   \n",
       "3      0.0     0.209855   0.214760         0.214700  0  0  1            2   \n",
       "4      1.0     0.144039   0.211176         0.210994  0  1  0            1   \n",
       "\n",
       "      year2  lead_dt_mon1  \n",
       "0  0.211397             1  \n",
       "1  0.211397             1  \n",
       "2  0.201041             2  \n",
       "3  0.216355             2  \n",
       "4  0.197541             0  "
      ]
     },
     "execution_count": 358,
     "metadata": {},
     "output_type": "execute_result"
    }
   ],
   "source": [
    "inliers.head()"
   ]
  },
  {
   "cell_type": "code",
   "execution_count": 360,
   "metadata": {
    "collapsed": true
   },
   "outputs": [],
   "source": [
    "model = IsolationForest()\n",
    "model.fit(train6.drop(['withdrawn'], axis=1))\n",
    "inlier_pred_test = model.predict(inliers_test)\n",
    "outlier_pred = model.predict(outliers)"
   ]
  },
  {
   "cell_type": "code",
   "execution_count": 361,
   "metadata": {},
   "outputs": [
    {
     "name": "stdout",
     "output_type": "stream",
     "text": [
      "Accuracy in Detecting Legit Cases: 0.8937982960174361\n",
      "Accuracy in Detecting withdrawn Cases: 0.09108614232209737\n"
     ]
    }
   ],
   "source": [
    "print(\"Accuracy in Detecting Legit Cases:\", list(inlier_pred_test).count(1)/inlier_pred_test.shape[0])\n",
    "print(\"Accuracy in Detecting withdrawn Cases:\", list(outlier_pred).count(-1)/outlier_pred.shape[0])"
   ]
  },
  {
   "cell_type": "code",
   "execution_count": 362,
   "metadata": {
    "collapsed": true
   },
   "outputs": [],
   "source": [
    "from sklearn.neighbors import LocalOutlierFactor\n",
    "\n",
    "model = LocalOutlierFactor(novelty=True)\n",
    "model.fit(inliers_train)\n",
    "inlier_pred_test = model.predict(inliers_test)\n",
    "outlier_pred = model.predict(outliers)"
   ]
  },
  {
   "cell_type": "code",
   "execution_count": 363,
   "metadata": {},
   "outputs": [
    {
     "name": "stdout",
     "output_type": "stream",
     "text": [
      "Accuracy in Detecting Legit Cases: 0.9029126213592233\n",
      "Accuracy in Detecting Fraud Cases: 0.09258426966292135\n"
     ]
    }
   ],
   "source": [
    "print(\"Accuracy in Detecting Legit Cases:\", list(inlier_pred_test).count(1)/inlier_pred_test.shape[0])\n",
    "print(\"Accuracy in Detecting Fraud Cases:\", list(outlier_pred).count(-1)/outlier_pred.shape[0])"
   ]
  },
  {
   "cell_type": "markdown",
   "metadata": {},
   "source": [
    "## Another implementation attempt\n",
    "https://www.kaggle.com/pavansanagapati/anomaly-detection-credit-card-fraud-analysis"
   ]
  },
  {
   "cell_type": "code",
   "execution_count": 364,
   "metadata": {
    "collapsed": true
   },
   "outputs": [],
   "source": [
    "Fraud = train6[train6['withdrawn']==1]\n",
    "\n",
    "Valid = train6[train6['withdrawn']==0]\n",
    "\n",
    "outlier_fraction = len(Fraud)/float(len(Valid))"
   ]
  },
  {
   "cell_type": "code",
   "execution_count": 365,
   "metadata": {},
   "outputs": [
    {
     "name": "stdout",
     "output_type": "stream",
     "text": [
      "0.2645240548466355\n",
      "Fraud Cases : 6675\n",
      "Valid Cases : 25234\n"
     ]
    }
   ],
   "source": [
    "print(outlier_fraction)\n",
    "\n",
    "print(\"Fraud Cases : {}\".format(len(Fraud)))\n",
    "\n",
    "print(\"Valid Cases : {}\".format(len(Valid)))"
   ]
  },
  {
   "cell_type": "code",
   "execution_count": 368,
   "metadata": {},
   "outputs": [
    {
     "data": {
      "text/html": [
       "<div>\n",
       "<style scoped>\n",
       "    .dataframe tbody tr th:only-of-type {\n",
       "        vertical-align: middle;\n",
       "    }\n",
       "\n",
       "    .dataframe tbody tr th {\n",
       "        vertical-align: top;\n",
       "    }\n",
       "\n",
       "    .dataframe thead th {\n",
       "        text-align: right;\n",
       "    }\n",
       "</style>\n",
       "<table border=\"1\" class=\"dataframe\">\n",
       "  <thead>\n",
       "    <tr style=\"text-align: right;\">\n",
       "      <th></th>\n",
       "      <th>age</th>\n",
       "      <th>application_type</th>\n",
       "      <th>business_id</th>\n",
       "      <th>gender</th>\n",
       "      <th>split</th>\n",
       "      <th>spouse_policy_attached</th>\n",
       "      <th>withdrawn</th>\n",
       "      <th>weekday</th>\n",
       "      <th>carrier_id1</th>\n",
       "      <th>state_id1</th>\n",
       "      <th>lead_source_id1</th>\n",
       "      <th>A</th>\n",
       "      <th>B</th>\n",
       "      <th>C</th>\n",
       "      <th>lead_dt_hr1</th>\n",
       "      <th>year2</th>\n",
       "      <th>lead_dt_mon1</th>\n",
       "    </tr>\n",
       "  </thead>\n",
       "  <tbody>\n",
       "    <tr>\n",
       "      <th>0</th>\n",
       "      <td>65.0</td>\n",
       "      <td>0</td>\n",
       "      <td>0</td>\n",
       "      <td>0</td>\n",
       "      <td>1</td>\n",
       "      <td>0.0</td>\n",
       "      <td>0.0</td>\n",
       "      <td>1.0</td>\n",
       "      <td>0.144039</td>\n",
       "      <td>0.214365</td>\n",
       "      <td>0.214008</td>\n",
       "      <td>1</td>\n",
       "      <td>0</td>\n",
       "      <td>0</td>\n",
       "      <td>0</td>\n",
       "      <td>0.211397</td>\n",
       "      <td>1</td>\n",
       "    </tr>\n",
       "    <tr>\n",
       "      <th>1</th>\n",
       "      <td>66.0</td>\n",
       "      <td>0</td>\n",
       "      <td>0</td>\n",
       "      <td>0</td>\n",
       "      <td>1</td>\n",
       "      <td>0.0</td>\n",
       "      <td>0.0</td>\n",
       "      <td>4.0</td>\n",
       "      <td>0.254007</td>\n",
       "      <td>0.237010</td>\n",
       "      <td>0.234821</td>\n",
       "      <td>1</td>\n",
       "      <td>0</td>\n",
       "      <td>0</td>\n",
       "      <td>0</td>\n",
       "      <td>0.211397</td>\n",
       "      <td>1</td>\n",
       "    </tr>\n",
       "    <tr>\n",
       "      <th>2</th>\n",
       "      <td>64.0</td>\n",
       "      <td>0</td>\n",
       "      <td>0</td>\n",
       "      <td>0</td>\n",
       "      <td>1</td>\n",
       "      <td>0.0</td>\n",
       "      <td>0.0</td>\n",
       "      <td>3.0</td>\n",
       "      <td>0.218919</td>\n",
       "      <td>0.192230</td>\n",
       "      <td>0.193197</td>\n",
       "      <td>1</td>\n",
       "      <td>0</td>\n",
       "      <td>0</td>\n",
       "      <td>0</td>\n",
       "      <td>0.201041</td>\n",
       "      <td>2</td>\n",
       "    </tr>\n",
       "    <tr>\n",
       "      <th>3</th>\n",
       "      <td>66.0</td>\n",
       "      <td>0</td>\n",
       "      <td>0</td>\n",
       "      <td>0</td>\n",
       "      <td>1</td>\n",
       "      <td>0.0</td>\n",
       "      <td>0.0</td>\n",
       "      <td>0.0</td>\n",
       "      <td>0.209855</td>\n",
       "      <td>0.214760</td>\n",
       "      <td>0.214700</td>\n",
       "      <td>0</td>\n",
       "      <td>0</td>\n",
       "      <td>1</td>\n",
       "      <td>2</td>\n",
       "      <td>0.216355</td>\n",
       "      <td>2</td>\n",
       "    </tr>\n",
       "    <tr>\n",
       "      <th>4</th>\n",
       "      <td>66.0</td>\n",
       "      <td>0</td>\n",
       "      <td>0</td>\n",
       "      <td>0</td>\n",
       "      <td>1</td>\n",
       "      <td>0.0</td>\n",
       "      <td>0.0</td>\n",
       "      <td>1.0</td>\n",
       "      <td>0.144039</td>\n",
       "      <td>0.211176</td>\n",
       "      <td>0.210994</td>\n",
       "      <td>0</td>\n",
       "      <td>1</td>\n",
       "      <td>0</td>\n",
       "      <td>1</td>\n",
       "      <td>0.197541</td>\n",
       "      <td>0</td>\n",
       "    </tr>\n",
       "  </tbody>\n",
       "</table>\n",
       "</div>"
      ],
      "text/plain": [
       "    age  application_type  business_id  gender  split  spouse_policy_attached  \\\n",
       "0  65.0                 0            0       0      1                     0.0   \n",
       "1  66.0                 0            0       0      1                     0.0   \n",
       "2  64.0                 0            0       0      1                     0.0   \n",
       "3  66.0                 0            0       0      1                     0.0   \n",
       "4  66.0                 0            0       0      1                     0.0   \n",
       "\n",
       "   withdrawn  weekday  carrier_id1  state_id1  lead_source_id1  A  B  C  \\\n",
       "0        0.0      1.0     0.144039   0.214365         0.214008  1  0  0   \n",
       "1        0.0      4.0     0.254007   0.237010         0.234821  1  0  0   \n",
       "2        0.0      3.0     0.218919   0.192230         0.193197  1  0  0   \n",
       "3        0.0      0.0     0.209855   0.214760         0.214700  0  0  1   \n",
       "4        0.0      1.0     0.144039   0.211176         0.210994  0  1  0   \n",
       "\n",
       "   lead_dt_hr1     year2  lead_dt_mon1  \n",
       "0            0  0.211397             1  \n",
       "1            0  0.211397             1  \n",
       "2            0  0.201041             2  \n",
       "3            2  0.216355             2  \n",
       "4            1  0.197541             0  "
      ]
     },
     "execution_count": 368,
     "metadata": {},
     "output_type": "execute_result"
    }
   ],
   "source": [
    "train6.head()"
   ]
  },
  {
   "cell_type": "code",
   "execution_count": 369,
   "metadata": {
    "collapsed": true
   },
   "outputs": [],
   "source": [
    "columns = train6.columns.tolist()"
   ]
  },
  {
   "cell_type": "code",
   "execution_count": 370,
   "metadata": {},
   "outputs": [
    {
     "data": {
      "text/plain": [
       "['age',\n",
       " 'application_type',\n",
       " 'business_id',\n",
       " 'gender',\n",
       " 'split',\n",
       " 'spouse_policy_attached',\n",
       " 'withdrawn',\n",
       " 'weekday',\n",
       " 'carrier_id1',\n",
       " 'state_id1',\n",
       " 'lead_source_id1',\n",
       " 'A',\n",
       " 'B',\n",
       " 'C',\n",
       " 'lead_dt_hr1',\n",
       " 'year2',\n",
       " 'lead_dt_mon1']"
      ]
     },
     "execution_count": 370,
     "metadata": {},
     "output_type": "execute_result"
    }
   ],
   "source": [
    "columns"
   ]
  },
  {
   "cell_type": "code",
   "execution_count": 371,
   "metadata": {
    "collapsed": true
   },
   "outputs": [],
   "source": [
    "columns = [c for c in columns if c not in [\"withdrawn\"]]"
   ]
  },
  {
   "cell_type": "code",
   "execution_count": 372,
   "metadata": {},
   "outputs": [
    {
     "data": {
      "text/plain": [
       "['age',\n",
       " 'application_type',\n",
       " 'business_id',\n",
       " 'gender',\n",
       " 'split',\n",
       " 'spouse_policy_attached',\n",
       " 'weekday',\n",
       " 'carrier_id1',\n",
       " 'state_id1',\n",
       " 'lead_source_id1',\n",
       " 'A',\n",
       " 'B',\n",
       " 'C',\n",
       " 'lead_dt_hr1',\n",
       " 'year2',\n",
       " 'lead_dt_mon1']"
      ]
     },
     "execution_count": 372,
     "metadata": {},
     "output_type": "execute_result"
    }
   ],
   "source": [
    "columns"
   ]
  },
  {
   "cell_type": "code",
   "execution_count": 373,
   "metadata": {},
   "outputs": [
    {
     "name": "stdout",
     "output_type": "stream",
     "text": [
      "(31909, 16)\n",
      "(31909,)\n"
     ]
    }
   ],
   "source": [
    "columns = train6.columns.tolist()\n",
    "# Filter the columns to remove data we do not want \n",
    "columns = [c for c in columns if c not in [\"withdrawn\"]]\n",
    "# Store the variable we are predicting \n",
    "target = \"withdrawn\"\n",
    "# Define a random state \n",
    "state = np.random.RandomState(42)\n",
    "X = train6[columns]\n",
    "Y = train6[target]\n",
    "X_outliers = state.uniform(low=0, high=1, size=(X.shape[0], X.shape[1]))\n",
    "# Print the shapes of X & Y\n",
    "print(X.shape)\n",
    "print(Y.shape)"
   ]
  },
  {
   "cell_type": "code",
   "execution_count": 376,
   "metadata": {
    "collapsed": true
   },
   "outputs": [],
   "source": [
    "from sklearn.svm import OneClassSVM"
   ]
  },
  {
   "cell_type": "code",
   "execution_count": 377,
   "metadata": {
    "collapsed": true
   },
   "outputs": [],
   "source": [
    "classifiers = {\n",
    "    \"Isolation Forest\":IsolationForest(n_estimators=100, max_samples=len(X), \n",
    "                                       contamination=outlier_fraction,random_state=state, verbose=0),\n",
    "    \"Local Outlier Factor\":LocalOutlierFactor(n_neighbors=20, algorithm='auto', \n",
    "                                              leaf_size=30, metric='minkowski',\n",
    "                                              p=2, metric_params=None, contamination=outlier_fraction),\n",
    "    \"Support Vector Machine\":OneClassSVM(kernel='rbf', degree=3, gamma=0.1,nu=0.05, \n",
    "                                         max_iter=-1, random_state=state)}"
   ]
  },
  {
   "cell_type": "code",
   "execution_count": 378,
   "metadata": {},
   "outputs": [
    {
     "name": "stdout",
     "output_type": "stream",
     "text": [
      "Isolation Forest: 11828\n",
      "Accuracy Score :\n",
      "0.629320881256072\n",
      "Classification Report :\n",
      "              precision    recall  f1-score   support\n",
      "\n",
      "         0.0       0.79      0.73      0.76     25234\n",
      "         1.0       0.19      0.25      0.22      6675\n",
      "\n",
      "    accuracy                           0.63     31909\n",
      "   macro avg       0.49      0.49      0.49     31909\n",
      "weighted avg       0.66      0.63      0.64     31909\n",
      "\n",
      "Local Outlier Factor: 12036\n",
      "Accuracy Score :\n",
      "0.6228023441662227\n",
      "Classification Report :\n",
      "              precision    recall  f1-score   support\n",
      "\n",
      "         0.0       0.78      0.73      0.75     25234\n",
      "         1.0       0.18      0.23      0.20      6675\n",
      "\n",
      "    accuracy                           0.62     31909\n",
      "   macro avg       0.48      0.48      0.48     31909\n",
      "weighted avg       0.66      0.62      0.64     31909\n",
      "\n",
      "Support Vector Machine: 7666\n",
      "Accuracy Score :\n",
      "0.7597543012943057\n",
      "Classification Report :\n",
      "              precision    recall  f1-score   support\n",
      "\n",
      "         0.0       0.79      0.95      0.86     25234\n",
      "         1.0       0.19      0.05      0.07      6675\n",
      "\n",
      "    accuracy                           0.76     31909\n",
      "   macro avg       0.49      0.50      0.47     31909\n",
      "weighted avg       0.66      0.76      0.70     31909\n",
      "\n"
     ]
    }
   ],
   "source": [
    "n_outliers = len(Fraud)\n",
    "for i, (clf_name,clf) in enumerate(classifiers.items()):\n",
    "    #Fit the data and tag outliers\n",
    "    if clf_name == \"Local Outlier Factor\":\n",
    "        y_pred = clf.fit_predict(X)\n",
    "        scores_prediction = clf.negative_outlier_factor_\n",
    "    elif clf_name == \"Support Vector Machine\":\n",
    "        clf.fit(X)\n",
    "        y_pred = clf.predict(X)\n",
    "    else:    \n",
    "        clf.fit(X)\n",
    "        scores_prediction = clf.decision_function(X)\n",
    "        y_pred = clf.predict(X)\n",
    "    #Reshape the prediction values to 0 for Valid transactions , 1 for Fraud transactions\n",
    "    y_pred[y_pred == 1] = 0\n",
    "    y_pred[y_pred == -1] = 1\n",
    "    n_errors = (y_pred != Y).sum()\n",
    "    # Run Classification Metrics\n",
    "    print(\"{}: {}\".format(clf_name,n_errors))\n",
    "    print(\"Accuracy Score :\")\n",
    "    print(accuracy_score(Y,y_pred))\n",
    "    print(\"Classification Report :\")\n",
    "    print(classification_report(Y,y_pred))"
   ]
  },
  {
   "cell_type": "code",
   "execution_count": 355,
   "metadata": {},
   "outputs": [
    {
     "data": {
      "text/plain": [
       "SVC(C=0.7, cache_size=200, class_weight=None, coef0=0.0,\n",
       "    decision_function_shape='ovr', degree=3, gamma='auto_deprecated',\n",
       "    kernel='linear', max_iter=-1, probability=False, random_state=None,\n",
       "    shrinking=True, tol=0.001, verbose=False)"
      ]
     },
     "execution_count": 355,
     "metadata": {},
     "output_type": "execute_result"
    }
   ],
   "source": [
    "svc"
   ]
  },
  {
   "cell_type": "code",
   "execution_count": 296,
   "metadata": {
    "collapsed": true
   },
   "outputs": [],
   "source": [
    "class ExNode:\n",
    "    def __init__(self,size):\n",
    "        self.size=size\n",
    "        \n",
    "class InNode:\n",
    "    def __init__(self,left,right,splitAtt,splitVal):\n",
    "        self.left=left\n",
    "        self.right=right\n",
    "        self.splitAtt=splitAtt\n",
    "        self.splitVal=splitVal\n",
    "\n",
    "def iForest(X,noOfTrees,sampleSize):\n",
    "    forest=[]\n",
    "    hlim=math.ceil(math.log(sampleSize,2))\n",
    "    for i in range(noOfTrees):\n",
    "        X_train=X.sample(sampleSize)\n",
    "        forest.append(iTree(X_train,0,hlim))\n",
    "    return forest\n",
    "\n",
    "def iTree(X,currHeight,hlim):\n",
    "    if currHeight>=hlim or len(X)<=1:\n",
    "        return ExNode(len(X))\n",
    "    else:\n",
    "        Q=X.columns\n",
    "        q=random.choice(Q)\n",
    "        p=random.choice(X[q].unique())\n",
    "        X_l=X[X[q]<p]\n",
    "        X_r=X[X[q]>=p]\n",
    "        return InNode(iTree(X_l,currHeight+1,hlim),iTree(X_r,currHeight+1,hlim),q,p)\n",
    "\n",
    "def pathLength(x,Tree,currHeight):\n",
    "    if isinstance(Tree,ExNode):\n",
    "        return currHeight\n",
    "    a=Tree.splitAtt\n",
    "    if x[a]<Tree.splitVal:\n",
    "        return pathLength(x,Tree.left,currHeight+1)\n",
    "    else:\n",
    "        return pathLength(x,Tree.right,currHeight+1)"
   ]
  },
  {
   "cell_type": "code",
   "execution_count": 298,
   "metadata": {},
   "outputs": [
    {
     "data": {
      "text/plain": [
       "(47620, 17)"
      ]
     },
     "execution_count": 298,
     "metadata": {},
     "output_type": "execute_result"
    }
   ],
   "source": [
    "train_test5.shape"
   ]
  },
  {
   "cell_type": "code",
   "execution_count": 300,
   "metadata": {
    "collapsed": true
   },
   "outputs": [],
   "source": [
    "import math\n",
    "import random"
   ]
  },
  {
   "cell_type": "code",
   "execution_count": null,
   "metadata": {
    "collapsed": true,
    "scrolled": true
   },
   "outputs": [],
   "source": [
    "Xx.sample(10000)"
   ]
  },
  {
   "cell_type": "code",
   "execution_count": 337,
   "metadata": {
    "collapsed": true
   },
   "outputs": [],
   "source": [
    "sampleSize=100\n",
    "ifor=iForest(Xx.sample(1000),10,sampleSize)"
   ]
  },
  {
   "cell_type": "code",
   "execution_count": 325,
   "metadata": {},
   "outputs": [
    {
     "data": {
      "text/plain": [
       "17262"
      ]
     },
     "execution_count": 325,
     "metadata": {},
     "output_type": "execute_result"
    }
   ],
   "source": [
    "random.choice(Xx[y==1].index)"
   ]
  },
  {
   "cell_type": "code",
   "execution_count": 326,
   "metadata": {},
   "outputs": [
    {
     "data": {
      "text/plain": [
       "12633"
      ]
     },
     "execution_count": 326,
     "metadata": {},
     "output_type": "execute_result"
    }
   ],
   "source": [
    "random.choice(Xx[y==0].index)"
   ]
  },
  {
   "cell_type": "code",
   "execution_count": null,
   "metadata": {
    "collapsed": true,
    "scrolled": false
   },
   "outputs": [],
   "source": [
    "pathLength(Xx.iloc[ind],tree,0)"
   ]
  },
  {
   "cell_type": "code",
   "execution_count": null,
   "metadata": {
    "collapsed": true,
    "scrolled": true
   },
   "outputs": [],
   "source": [
    "for sim in range(1000):\n",
    "    ind=random.choice(Xx[y==1].index)\n",
    "    print (ind)"
   ]
  },
  {
   "cell_type": "code",
   "execution_count": null,
   "metadata": {
    "collapsed": true
   },
   "outputs": [],
   "source": [
    "posLenLst=[]\n",
    "for tree in ifor:\n",
    "        posLenLst.append(pathLength(Xx.iloc[ind],tree,0))"
   ]
  },
  {
   "cell_type": "code",
   "execution_count": null,
   "metadata": {
    "collapsed": true
   },
   "outputs": [],
   "source": [
    "pathLength(Xx.iloc[27834],tree,0)"
   ]
  },
  {
   "cell_type": "code",
   "execution_count": null,
   "metadata": {
    "collapsed": true,
    "scrolled": true
   },
   "outputs": [],
   "source": [
    "Xx.iloc[27834]"
   ]
  },
  {
   "cell_type": "code",
   "execution_count": null,
   "metadata": {
    "collapsed": true,
    "scrolled": true
   },
   "outputs": [],
   "source": [
    "posLenLst=[]\n",
    "negLenLst=[]\n",
    "\n",
    "for sim in range(10):\n",
    "    ind=random.choice(Xx[y==1].index)\n",
    "    for tree in ifor:\n",
    "        posLenLst.append(pathLength(Xx.iloc[ind],tree,0))\n",
    "        \n",
    "    ind=random.choice(Xx[y==0].index)\n",
    "    for tree in ifor:\n",
    "        negLenLst.append(pathLength(Xx.iloc[ind],tree,0))"
   ]
  },
  {
   "cell_type": "code",
   "execution_count": null,
   "metadata": {
    "collapsed": true
   },
   "outputs": [],
   "source": [
    "bins = np.linspace(0,math.ceil(math.log(sampleSize,2)), math.ceil(math.log(sampleSize,2)))\n",
    "\n",
    "pyplot.figure(figsize=(12,8))\n",
    "pyplot.hist(posLenLst, bins, alpha=0.5, label='Anomaly')\n",
    "pyplot.hist(negLenLst, bins, alpha=0.5, label='Normal')\n",
    "pyplot.xlabel('Path Length')\n",
    "pyplot.ylabel('Frequency')\n",
    "pyplot.legend(loc='upper left')"
   ]
  },
  {
   "cell_type": "markdown",
   "metadata": {},
   "source": [
    "### Try simple classifiers first"
   ]
  },
  {
   "cell_type": "code",
   "execution_count": 133,
   "metadata": {
    "collapsed": true
   },
   "outputs": [],
   "source": [
    "# Let's implement simple classifiers\n",
    "\n",
    "classifiers = {\n",
    "    \"LogisiticRegression\": LogisticRegression(),\n",
    "    \"KNearest\": KNeighborsClassifier(),\n",
    "    \"Support Vector Classifier\": SVC(),\n",
    "    #\"DecisionTreeClassifier\": DecisionTreeClassifier()\n",
    "}"
   ]
  },
  {
   "cell_type": "code",
   "execution_count": 74,
   "metadata": {
    "collapsed": true
   },
   "outputs": [],
   "source": [
    "from sklearn.preprocessing import MinMaxScaler"
   ]
  },
  {
   "cell_type": "code",
   "execution_count": 112,
   "metadata": {
    "collapsed": true
   },
   "outputs": [],
   "source": [
    "scaler = MinMaxScaler()\n",
    "Xx[['age', 'weekday', 'lead_dt_hr1', 'lead_dt_mon1']] = scaler.fit_transform(Xx[['age', 'weekday', 'lead_dt_hr1', 'lead_dt_mon1']])"
   ]
  },
  {
   "cell_type": "code",
   "execution_count": 142,
   "metadata": {},
   "outputs": [
    {
     "data": {
      "text/plain": [
       "(31909, 15)"
      ]
     },
     "execution_count": 142,
     "metadata": {},
     "output_type": "execute_result"
    }
   ],
   "source": [
    "Xx.shape"
   ]
  },
  {
   "cell_type": "code",
   "execution_count": 134,
   "metadata": {
    "scrolled": true
   },
   "outputs": [
    {
     "data": {
      "text/html": [
       "<div>\n",
       "<style scoped>\n",
       "    .dataframe tbody tr th:only-of-type {\n",
       "        vertical-align: middle;\n",
       "    }\n",
       "\n",
       "    .dataframe tbody tr th {\n",
       "        vertical-align: top;\n",
       "    }\n",
       "\n",
       "    .dataframe thead th {\n",
       "        text-align: right;\n",
       "    }\n",
       "</style>\n",
       "<table border=\"1\" class=\"dataframe\">\n",
       "  <thead>\n",
       "    <tr style=\"text-align: right;\">\n",
       "      <th></th>\n",
       "      <th>age</th>\n",
       "      <th>application_type</th>\n",
       "      <th>business_id</th>\n",
       "      <th>gender</th>\n",
       "      <th>spouse_policy_attached</th>\n",
       "      <th>weekday</th>\n",
       "      <th>carrier_id1</th>\n",
       "      <th>state_id1</th>\n",
       "      <th>lead_source_id1</th>\n",
       "      <th>A</th>\n",
       "      <th>B</th>\n",
       "      <th>C</th>\n",
       "      <th>lead_dt_hr1</th>\n",
       "      <th>year2</th>\n",
       "      <th>lead_dt_mon1</th>\n",
       "    </tr>\n",
       "  </thead>\n",
       "  <tbody>\n",
       "    <tr>\n",
       "      <th>0</th>\n",
       "      <td>0.3750</td>\n",
       "      <td>0</td>\n",
       "      <td>0</td>\n",
       "      <td>0</td>\n",
       "      <td>0.0</td>\n",
       "      <td>0.166667</td>\n",
       "      <td>0.144039</td>\n",
       "      <td>0.214365</td>\n",
       "      <td>0.214008</td>\n",
       "      <td>1</td>\n",
       "      <td>0</td>\n",
       "      <td>0</td>\n",
       "      <td>0.000000</td>\n",
       "      <td>0.211397</td>\n",
       "      <td>0.333333</td>\n",
       "    </tr>\n",
       "    <tr>\n",
       "      <th>1</th>\n",
       "      <td>0.4375</td>\n",
       "      <td>0</td>\n",
       "      <td>0</td>\n",
       "      <td>0</td>\n",
       "      <td>0.0</td>\n",
       "      <td>0.666667</td>\n",
       "      <td>0.254007</td>\n",
       "      <td>0.237010</td>\n",
       "      <td>0.234821</td>\n",
       "      <td>1</td>\n",
       "      <td>0</td>\n",
       "      <td>0</td>\n",
       "      <td>0.000000</td>\n",
       "      <td>0.211397</td>\n",
       "      <td>0.333333</td>\n",
       "    </tr>\n",
       "    <tr>\n",
       "      <th>2</th>\n",
       "      <td>0.3125</td>\n",
       "      <td>0</td>\n",
       "      <td>0</td>\n",
       "      <td>0</td>\n",
       "      <td>0.0</td>\n",
       "      <td>0.500000</td>\n",
       "      <td>0.218919</td>\n",
       "      <td>0.192230</td>\n",
       "      <td>0.193197</td>\n",
       "      <td>1</td>\n",
       "      <td>0</td>\n",
       "      <td>0</td>\n",
       "      <td>0.000000</td>\n",
       "      <td>0.201041</td>\n",
       "      <td>0.666667</td>\n",
       "    </tr>\n",
       "    <tr>\n",
       "      <th>3</th>\n",
       "      <td>0.4375</td>\n",
       "      <td>0</td>\n",
       "      <td>0</td>\n",
       "      <td>0</td>\n",
       "      <td>0.0</td>\n",
       "      <td>0.000000</td>\n",
       "      <td>0.209855</td>\n",
       "      <td>0.214760</td>\n",
       "      <td>0.214700</td>\n",
       "      <td>0</td>\n",
       "      <td>0</td>\n",
       "      <td>1</td>\n",
       "      <td>0.666667</td>\n",
       "      <td>0.216355</td>\n",
       "      <td>0.666667</td>\n",
       "    </tr>\n",
       "    <tr>\n",
       "      <th>4</th>\n",
       "      <td>0.4375</td>\n",
       "      <td>0</td>\n",
       "      <td>0</td>\n",
       "      <td>0</td>\n",
       "      <td>0.0</td>\n",
       "      <td>0.166667</td>\n",
       "      <td>0.144039</td>\n",
       "      <td>0.211176</td>\n",
       "      <td>0.210994</td>\n",
       "      <td>0</td>\n",
       "      <td>1</td>\n",
       "      <td>0</td>\n",
       "      <td>0.333333</td>\n",
       "      <td>0.197541</td>\n",
       "      <td>0.000000</td>\n",
       "    </tr>\n",
       "  </tbody>\n",
       "</table>\n",
       "</div>"
      ],
      "text/plain": [
       "      age  application_type  business_id  gender  spouse_policy_attached  \\\n",
       "0  0.3750                 0            0       0                     0.0   \n",
       "1  0.4375                 0            0       0                     0.0   \n",
       "2  0.3125                 0            0       0                     0.0   \n",
       "3  0.4375                 0            0       0                     0.0   \n",
       "4  0.4375                 0            0       0                     0.0   \n",
       "\n",
       "    weekday  carrier_id1  state_id1  lead_source_id1  A  B  C  lead_dt_hr1  \\\n",
       "0  0.166667     0.144039   0.214365         0.214008  1  0  0     0.000000   \n",
       "1  0.666667     0.254007   0.237010         0.234821  1  0  0     0.000000   \n",
       "2  0.500000     0.218919   0.192230         0.193197  1  0  0     0.000000   \n",
       "3  0.000000     0.209855   0.214760         0.214700  0  0  1     0.666667   \n",
       "4  0.166667     0.144039   0.211176         0.210994  0  1  0     0.333333   \n",
       "\n",
       "      year2  lead_dt_mon1  \n",
       "0  0.211397      0.333333  \n",
       "1  0.211397      0.333333  \n",
       "2  0.201041      0.666667  \n",
       "3  0.216355      0.666667  \n",
       "4  0.197541      0.000000  "
      ]
     },
     "execution_count": 134,
     "metadata": {},
     "output_type": "execute_result"
    }
   ],
   "source": [
    "Xx.head()"
   ]
  },
  {
   "cell_type": "code",
   "execution_count": 89,
   "metadata": {},
   "outputs": [
    {
     "name": "stdout",
     "output_type": "stream",
     "text": [
      "Classifiers:  LogisticRegression Has a training score of 79.0 % accuracy score\n",
      "Classifiers:  KNeighborsClassifier Has a training score of 75.0 % accuracy score\n"
     ]
    }
   ],
   "source": [
    "from sklearn.model_selection import cross_val_score\n",
    "\n",
    "for key, classifier in classifiers.items():\n",
    "    classifier.fit(X_train, y_train)\n",
    "    training_score = cross_val_score(classifier, X_train, y_train, cv=5)\n",
    "    print(\"Classifiers: \", classifier.__class__.__name__, \"Has a training score of\", round(training_score.mean(), 2) * 100, \"% accuracy score\")"
   ]
  },
  {
   "cell_type": "code",
   "execution_count": 75,
   "metadata": {
    "collapsed": true
   },
   "outputs": [],
   "source": [
    "X_train1 = MinMaxScaler(X_train)"
   ]
  },
  {
   "cell_type": "code",
   "execution_count": 73,
   "metadata": {
    "scrolled": false
   },
   "outputs": [
    {
     "data": {
      "text/plain": [
       "LogisticRegression(C=0.001, class_weight=None, dual=False, fit_intercept=True,\n",
       "                   intercept_scaling=1, l1_ratio=None, max_iter=100,\n",
       "                   multi_class='warn', n_jobs=None, penalty='l1',\n",
       "                   random_state=None, solver='warn', tol=0.0001, verbose=0,\n",
       "                   warm_start=False)"
      ]
     },
     "execution_count": 73,
     "metadata": {},
     "output_type": "execute_result"
    }
   ],
   "source": [
    "LogisticRegression()"
   ]
  },
  {
   "cell_type": "code",
   "execution_count": 135,
   "metadata": {
    "collapsed": true
   },
   "outputs": [],
   "source": [
    "# Use GridSearchCV to find the best parameters.\n",
    "from sklearn.model_selection import GridSearchCV\n",
    "\n",
    "#For small values of C, we increase the regularization strength \n",
    "#which will create simple models which underfit the data. \n",
    "#For big values of C, we low the power of regularization \n",
    "#which imples the model is allowed to increase it's complexity,\n",
    "#and therefore, overfit the data.\n",
    "\n",
    "# Logistic Regression \n",
    "log_reg_params = {\"penalty\": ['l1', 'l2'], 'C': [0.001, 0.01, 0.1, 1, 10, 100, 1000]}\n",
    "\n",
    "\n",
    "\n",
    "grid_log_reg = GridSearchCV(LogisticRegression(), log_reg_params)\n",
    "grid_log_reg.fit(X_train_res, y_train_res)\n",
    "# We automatically get the logistic regression with the best parameters.\n",
    "log_reg = grid_log_reg.best_estimator_\n",
    "\n",
    "knears_params = {\"n_neighbors\": list(range(2,5,1)), 'algorithm': ['auto', 'ball_tree', 'kd_tree', 'brute']}\n",
    "\n",
    "grid_knears = GridSearchCV(KNeighborsClassifier(), knears_params)\n",
    "grid_knears.fit(X_train_res, y_train_res)\n",
    "# KNears best estimator\n",
    "knears_neighbors = grid_knears.best_estimator_\n",
    "\n",
    "\n",
    "\n",
    "# DecisionTree Classifier\n",
    "#tree_params = {\"criterion\": [\"gini\", \"entropy\"], \"max_depth\": list(range(2,4,1)), \n",
    "#              \"min_samples_leaf\": list(range(5,7,1))}\n",
    "#grid_tree = GridSearchCV(DecisionTreeClassifier(), tree_params)\n",
    "#grid_tree.fit(X_train, y_train)\n",
    "\n",
    "# tree best estimator\n",
    "#tree_clf = grid_tree.best_estimator_"
   ]
  },
  {
   "cell_type": "code",
   "execution_count": 289,
   "metadata": {
    "collapsed": true
   },
   "outputs": [],
   "source": [
    "# Support Vector Classifier\n",
    "# Radial-basis function (gaussians) ; Polynominal ; Sigmoid, Linear\n",
    "svc_params = {'C': [0.5, 0.7, 0.9, 1], 'kernel': ['rbf', 'poly', 'sigmoid', 'linear']}\n",
    "grid_svc = GridSearchCV(SVC(), svc_params)\n",
    "grid_svc.fit(train_x_res, train_y_res)\n",
    "\n",
    "# SVC best estimator\n",
    "svc = grid_svc.best_estimator_"
   ]
  },
  {
   "cell_type": "code",
   "execution_count": 354,
   "metadata": {
    "scrolled": true
   },
   "outputs": [
    {
     "data": {
      "text/plain": [
       "SVC(C=0.7, cache_size=200, class_weight=None, coef0=0.0,\n",
       "    decision_function_shape='ovr', degree=3, gamma='auto_deprecated',\n",
       "    kernel='linear', max_iter=-1, probability=False, random_state=None,\n",
       "    shrinking=True, tol=0.001, verbose=False)"
      ]
     },
     "execution_count": 354,
     "metadata": {},
     "output_type": "execute_result"
    }
   ],
   "source": [
    "svc"
   ]
  },
  {
   "cell_type": "code",
   "execution_count": 293,
   "metadata": {
    "collapsed": true
   },
   "outputs": [],
   "source": [
    "svc_pred = svc.predict(X_test)"
   ]
  },
  {
   "cell_type": "code",
   "execution_count": 294,
   "metadata": {},
   "outputs": [
    {
     "data": {
      "text/plain": [
       "0.5716107563167507"
      ]
     },
     "execution_count": 294,
     "metadata": {},
     "output_type": "execute_result"
    }
   ],
   "source": [
    "roc_auc_score(y_test,  svc_pred )"
   ]
  },
  {
   "cell_type": "code",
   "execution_count": 290,
   "metadata": {
    "scrolled": true
   },
   "outputs": [
    {
     "name": "stdout",
     "output_type": "stream",
     "text": [
      "Support Vector Classifier Cross Validation Score 79.6%\n"
     ]
    }
   ],
   "source": [
    "svc_score = cross_val_score(svc, X_test, y_test, cv=5)\n",
    "print('Support Vector Classifier Cross Validation Score', round(svc_score.mean() * 100, 2).astype(str) + '%')"
   ]
  },
  {
   "cell_type": "code",
   "execution_count": 136,
   "metadata": {},
   "outputs": [
    {
     "name": "stdout",
     "output_type": "stream",
     "text": [
      "Logistic Regression Cross Validation Score:  78.95%\n",
      "Knears Neighbors Cross Validation Score 77.12%\n"
     ]
    }
   ],
   "source": [
    "# Overfitting Case\n",
    "\n",
    "log_reg_score = cross_val_score(log_reg, X_train, y_train, cv=5)\n",
    "print('Logistic Regression Cross Validation Score: ', round(log_reg_score.mean() * 100, 2).astype(str) + '%')\n",
    "\n",
    "\n",
    "knears_score = cross_val_score(knears_neighbors, X_train, y_train, cv=5)\n",
    "print('Knears Neighbors Cross Validation Score', round(knears_score.mean() * 100, 2).astype(str) + '%')\n",
    "\n",
    "# svc_score = cross_val_score(svc, X_train, y_train, cv=5)\n",
    "# print('Support Vector Classifier Cross Validation Score', round(svc_score.mean() * 100, 2).astype(str) + '%')\n",
    "\n",
    "#tree_score = cross_val_score(tree_clf, X_train, y_train, cv=5)\n",
    "#print('DecisionTree Classifier Cross Validation Score', round(tree_score.mean() * 100, 2).astype(str) + '%')"
   ]
  },
  {
   "cell_type": "code",
   "execution_count": 98,
   "metadata": {},
   "outputs": [
    {
     "name": "stdout",
     "output_type": "stream",
     "text": [
      "No withdrawns 79.08 % of the dataset\n",
      "withdrawn 20.92 % of the dataset\n",
      "Train: [ 6327  6328  6330 ... 31906 31907 31908] Test: [   0    1    2 ... 6392 6393 6394]\n",
      "Train: [    0     1     2 ... 31906 31907 31908] Test: [ 6327  6328  6330 ... 12785 12787 12789]\n",
      "Train: [    0     1     2 ... 31906 31907 31908] Test: [12701 12705 12715 ... 19163 19164 19165]\n",
      "Train: [    0     1     2 ... 31906 31907 31908] Test: [19078 19082 19083 ... 25554 25555 25556]\n",
      "Train: [    0     1     2 ... 25554 25555 25556] Test: [25443 25452 25453 ... 31906 31907 31908]\n",
      "----------------------------------------------------------------------------------------------------\n",
      "Label Distributions: \n",
      "\n",
      "[0.79081793 0.20918207]\n",
      "[0.79078514 0.20921486]\n"
     ]
    }
   ],
   "source": [
    "from sklearn.model_selection import train_test_split\n",
    "from sklearn.model_selection import StratifiedShuffleSplit\n",
    "\n",
    "print('No withdrawns', round(train6['withdrawn'].value_counts()[0]/len(train6) * 100,2), '% of the dataset')\n",
    "print('withdrawn', round(train6['withdrawn'].value_counts()[1]/len(train6) * 100,2), '% of the dataset')\n",
    "\n",
    "X=train6.drop('withdrawn', axis=1)\n",
    "y = train6['withdrawn']\n",
    "\n",
    "sss = StratifiedKFold(n_splits=5, random_state=None, shuffle=False)\n",
    "\n",
    "for train_index, test_index in sss.split(X, y):\n",
    "    print(\"Train:\", train_index, \"Test:\", test_index)\n",
    "    original_Xtrain, original_Xtest = X.iloc[train_index], X.iloc[test_index]\n",
    "    original_ytrain, original_ytest = y.iloc[train_index], y.iloc[test_index]\n",
    "\n",
    "# We already have X_train and y_train for undersample data thats why I am using original to distinguish and to not overwrite these variables.\n",
    "# original_Xtrain, original_Xtest, original_ytrain, original_ytest = train_test_split(X, y, test_size=0.2, random_state=42)\n",
    "\n",
    "# Check the Distribution of the labels\n",
    "\n",
    "\n",
    "# Turn into an array\n",
    "original_Xtrain = original_Xtrain.values\n",
    "original_Xtest = original_Xtest.values\n",
    "original_ytrain = original_ytrain.values\n",
    "original_ytest = original_ytest.values\n",
    "\n",
    "# See if both the train and test label distribution are similarly distributed\n",
    "train_unique_label, train_counts_label = np.unique(original_ytrain, return_counts=True)\n",
    "test_unique_label, test_counts_label = np.unique(original_ytest, return_counts=True)\n",
    "print('-' * 100)\n",
    "\n",
    "print('Label Distributions: \\n')\n",
    "print(train_counts_label/ len(original_ytrain))\n",
    "print(test_counts_label/ len(original_ytest))"
   ]
  },
  {
   "cell_type": "code",
   "execution_count": null,
   "metadata": {
    "collapsed": true
   },
   "outputs": [],
   "source": [
    "# Since our classes are highly skewed we should make them equivalent in order to have a normal distribution of the classes.\n",
    "\n",
    "# Lets shuffle the data before creating the subsamples\n",
    "\n",
    "df = df.sample(frac=1)\n",
    "\n",
    "# amount of fraud classes 492 rows.\n",
    "fraud_df = df.loc[df['Class'] == 1]\n",
    "non_fraud_df = df.loc[df['Class'] == 0][:492]\n",
    "\n",
    "normal_distributed_df = pd.concat([fraud_df, non_fraud_df])\n",
    "\n",
    "# Shuffle dataframe rows\n",
    "new_df = normal_distributed_df.sample(frac=1, random_state=42)\n",
    "\n",
    "new_df.head()"
   ]
  },
  {
   "cell_type": "code",
   "execution_count": 231,
   "metadata": {},
   "outputs": [
    {
     "name": "stdout",
     "output_type": "stream",
     "text": [
      "Train: [ 6327  6328  6330 ... 31906 31907 31908] Test: [   0    1    2 ... 6392 6393 6394]\n",
      "Train: [    0     1     2 ... 31906 31907 31908] Test: [ 6327  6328  6330 ... 12785 12787 12789]\n",
      "Train: [    0     1     2 ... 31906 31907 31908] Test: [12701 12705 12715 ... 19163 19164 19165]\n",
      "Train: [    0     1     2 ... 31906 31907 31908] Test: [19078 19082 19083 ... 25554 25555 25556]\n",
      "Train: [    0     1     2 ... 25554 25555 25556] Test: [25443 25452 25453 ... 31906 31907 31908]\n",
      "---------------------------------------------------------------------------------------------------------------------------------------\n",
      "\n",
      "accuracy: nan\n",
      "precision: nan\n",
      "recall: nan\n",
      "f1: nan\n",
      "AUC: nan\n",
      "---------------------------------------------------------------------------------------------------------------------------------------\n"
     ]
    }
   ],
   "source": [
    "# We will undersample during cross validating\n",
    "undersample_X = train6.drop('withdrawn', axis=1)\n",
    "undersample_y = train6['withdrawn']\n",
    "\n",
    "sss = StratifiedKFold(n_splits=5, random_state=None, shuffle=False)\n",
    "\n",
    "for train_index, test_index in sss.split(undersample_X, undersample_y):\n",
    "    print(\"Train:\", train_index, \"Test:\", test_index)\n",
    "    undersample_Xtrain, undersample_Xtest = undersample_X.iloc[train_index], undersample_X.iloc[test_index]\n",
    "    undersample_ytrain, undersample_ytest = undersample_y.iloc[train_index], undersample_y.iloc[test_index]\n",
    "    \n",
    "undersample_Xtrain = undersample_Xtrain.values\n",
    "undersample_Xtest = undersample_Xtest.values\n",
    "undersample_ytrain = undersample_ytrain.values\n",
    "undersample_ytest = undersample_ytest.values \n",
    "\n",
    "undersample_accuracy = []\n",
    "undersample_precision = []\n",
    "undersample_recall = []\n",
    "undersample_f1 = []\n",
    "undersample_auc = []\n",
    "\n",
    "# Implementing NearMiss Technique \n",
    "# Distribution of NearMiss (Just to see how it distributes the labels we won't use these variables)\n",
    "#X_nearmiss, y_nearmiss = NearMiss().fit_sample(undersample_X.values, undersample_y.values)\n",
    "#print('NearMiss Label Distribution: {}'.format(Counter(y_nearmiss)))\n",
    "# Cross Validating the right way\n",
    "rand_log_reg = RandomizedSearchCV(RandomForestClassifier(n_estimators=100), random_grid, n_iter=4)\n",
    "for train, test in sss.split(undersample_Xtrain, undersample_ytrain):\n",
    "    undersample_pipeline = imbalanced_make_pipeline(NearMiss(sampling_strategy='majority'), rand_log_reg) # SMOTE happens during Cross Validation not before..\n",
    "    undersample_model = undersample_pipeline.fit(undersample_Xtrain[train], undersample_ytrain[train])\n",
    "    undersample_prediction = undersample_model.predict(undersample_Xtrain[test])\n",
    "    \n",
    "    undersample_accuracy.append(undersample_pipeline.score(undersample_Xtrain[test], undersample_ytrain[test]))\n",
    "    undersample_precision.append(precision_score(undersample_ytrain[test], undersample_prediction))\n",
    "    undersample_recall.append(recall_score(undersample_ytrain[test], undersample_prediction))\n",
    "    undersample_f1.append(f1_score(undersample_ytrain[test], undersample_prediction))\n",
    "    undersample_auc.append(roc_auc_score(undersample_ytrain[test], undersample_prediction))\n",
    "\n",
    "print('---' * 45)\n",
    "print('')\n",
    "print(\"accuracy: {}\".format(np.mean(undersample_accuracy)))\n",
    "print(\"precision: {}\".format(np.mean(undersample_precision)))\n",
    "print(\"recall: {}\".format(np.mean(undersample_recall)))\n",
    "print(\"f1: {}\".format(np.mean(undersample_f1)))\n",
    "print (\"AUC: {}\".format(np.mean(undersample_auc)))\n",
    "print('---' * 45)"
   ]
  },
  {
   "cell_type": "code",
   "execution_count": 145,
   "metadata": {
    "collapsed": true
   },
   "outputs": [],
   "source": [
    "# Let's Plot LogisticRegression Learning Curve\n",
    "from sklearn.model_selection import ShuffleSplit\n",
    "from sklearn.model_selection import learning_curve\n",
    "\n",
    "def plot_learning_curve(estimator1, estimator2, \n",
    "                        #estimator3, estimator4, \n",
    "                        X, y, ylim=None, cv=None,\n",
    "                        n_jobs=1, train_sizes=np.linspace(.1, 1.0, 5)):\n",
    "    f, (ax1, ax2) = plt.subplots(2, figsize=(20,14), sharey=True)\n",
    "    if ylim is not None:\n",
    "        plt.ylim(*ylim)\n",
    "    # First Estimator\n",
    "    train_sizes, train_scores, test_scores = learning_curve(\n",
    "        estimator1, X_train, y_train, cv=cv, n_jobs=n_jobs, train_sizes=train_sizes)\n",
    "    train_scores_mean = np.mean(train_scores, axis=1)\n",
    "    train_scores_std = np.std(train_scores, axis=1)\n",
    "    test_scores_mean = np.mean(test_scores, axis=1)\n",
    "    test_scores_std = np.std(test_scores, axis=1)\n",
    "    ax1.fill_between(train_sizes, train_scores_mean - train_scores_std,\n",
    "                     train_scores_mean + train_scores_std, alpha=0.1,\n",
    "                     color=\"#ff9124\")\n",
    "    ax1.fill_between(train_sizes, test_scores_mean - test_scores_std,\n",
    "                     test_scores_mean + test_scores_std, alpha=0.1, color=\"#2492ff\")\n",
    "    ax1.plot(train_sizes, train_scores_mean, 'o-', color=\"#ff9124\",\n",
    "             label=\"Training score\")\n",
    "    ax1.plot(train_sizes, test_scores_mean, 'o-', color=\"#2492ff\",\n",
    "             label=\"Cross-validation score\")\n",
    "    ax1.set_title(\"Logistic Regression Learning Curve\", fontsize=14)\n",
    "    ax1.set_xlabel('Training size (m)')\n",
    "    ax1.set_ylabel('Score')\n",
    "    ax1.grid(True)\n",
    "    ax1.legend(loc=\"best\")\n",
    "    \n",
    "    # Second Estimator \n",
    "    train_sizes, train_scores, test_scores = learning_curve(\n",
    "        estimator2, X_train, y_train, cv=cv, n_jobs=n_jobs, train_sizes=train_sizes)\n",
    "    train_scores_mean = np.mean(train_scores, axis=1)\n",
    "    train_scores_std = np.std(train_scores, axis=1)\n",
    "    test_scores_mean = np.mean(test_scores, axis=1)\n",
    "    test_scores_std = np.std(test_scores, axis=1)\n",
    "    ax2.fill_between(train_sizes, train_scores_mean - train_scores_std,\n",
    "                     train_scores_mean + train_scores_std, alpha=0.1,\n",
    "                     color=\"#ff9124\")\n",
    "    ax2.fill_between(train_sizes, test_scores_mean - test_scores_std,\n",
    "                     test_scores_mean + test_scores_std, alpha=0.1, color=\"#2492ff\")\n",
    "    ax2.plot(train_sizes, train_scores_mean, 'o-', color=\"#ff9124\",\n",
    "             label=\"Training score\")\n",
    "    ax2.plot(train_sizes, test_scores_mean, 'o-', color=\"#2492ff\",\n",
    "             label=\"Cross-validation score\")\n",
    "    ax2.set_title(\"Knears Neighbors Learning Curve\", fontsize=14)\n",
    "    ax2.set_xlabel('Training size (m)')\n",
    "    ax2.set_ylabel('Score')\n",
    "    ax2.grid(True)\n",
    "    ax2.legend(loc=\"best\")\n",
    "    return plt\n",
    "#     # Third Estimator\n",
    "#     train_sizes, train_scores, test_scores = learning_curve(\n",
    "#         estimator3, Xx, y, cv=cv, n_jobs=n_jobs, train_sizes=train_sizes)\n",
    "#     train_scores_mean = np.mean(train_scores, axis=1)\n",
    "#     train_scores_std = np.std(train_scores, axis=1)\n",
    "#     test_scores_mean = np.mean(test_scores, axis=1)\n",
    "#     test_scores_std = np.std(test_scores, axis=1)\n",
    "#     ax3.fill_between(train_sizes, train_scores_mean - train_scores_std,\n",
    "#                      train_scores_mean + train_scores_std, alpha=0.1,\n",
    "#                      color=\"#ff9124\")\n",
    "#     ax3.fill_between(train_sizes, test_scores_mean - test_scores_std,\n",
    "#                      test_scores_mean + test_scores_std, alpha=0.1, color=\"#2492ff\")\n",
    "#     ax3.plot(train_sizes, train_scores_mean, 'o-', color=\"#ff9124\",\n",
    "#              label=\"Training score\")\n",
    "#     ax3.plot(train_sizes, test_scores_mean, 'o-', color=\"#2492ff\",\n",
    "#              label=\"Cross-validation score\")\n",
    "#     ax3.set_title(\"Support Vector Classifier \\n Learning Curve\", fontsize=14)\n",
    "#     ax3.set_xlabel('Training size (m)')\n",
    "#     ax3.set_ylabel('Score')\n",
    "#     ax3.grid(True)\n",
    "#     ax3.legend(loc=\"best\")\n",
    "    \n",
    "    # Fourth Estimator\n",
    "#     train_sizes, train_scores, test_scores = learning_curve(\n",
    "#         estimator4, X, y, cv=cv, n_jobs=n_jobs, train_sizes=train_sizes)\n",
    "#     train_scores_mean = np.mean(train_scores, axis=1)\n",
    "#     train_scores_std = np.std(train_scores, axis=1)\n",
    "#     test_scores_mean = np.mean(test_scores, axis=1)\n",
    "#     test_scores_std = np.std(test_scores, axis=1)\n",
    "#     ax4.fill_between(train_sizes, train_scores_mean - train_scores_std,\n",
    "#                      train_scores_mean + train_scores_std, alpha=0.1,\n",
    "#                      color=\"#ff9124\")\n",
    "#     ax4.fill_between(train_sizes, test_scores_mean - test_scores_std,\n",
    "#                      test_scores_mean + test_scores_std, alpha=0.1, color=\"#2492ff\")\n",
    "#     ax4.plot(train_sizes, train_scores_mean, 'o-', color=\"#ff9124\",\n",
    "#              label=\"Training score\")\n",
    "#     ax4.plot(train_sizes, test_scores_mean, 'o-', color=\"#2492ff\",\n",
    "#              label=\"Cross-validation score\")\n",
    "#     ax4.set_title(\"Decision Tree Classifier \\n Learning Curve\", fontsize=14)\n",
    "#     ax4.set_xlabel('Training size (m)')\n",
    "#     ax4.set_ylabel('Score')\n",
    "#     ax4.grid(True)\n",
    "#     ax4.legend(loc=\"best\")\n",
    "      #return plt"
   ]
  },
  {
   "cell_type": "markdown",
   "metadata": {},
   "source": [
    "### Learning Curves:\n",
    "#### The wider the gap between the training score and the cross validation score, the more likely your model is overfitting (high variance).\n",
    "##### If the score is low in both training and cross-validation sets this is an indication that our model is underfitting (high bias)\n",
    "##### Logistic Regression Classifier shows the best score in both training and cross-validating sets."
   ]
  },
  {
   "cell_type": "code",
   "execution_count": 162,
   "metadata": {
    "collapsed": true
   },
   "outputs": [],
   "source": [
    "def plot_learning_curve(estimator1, X, y, ylim=None, cv=None,\n",
    "                        n_jobs=1, train_sizes=np.linspace(.1, 1.0, 5)):\n",
    "    f, ax1 = plt.subplots(1, figsize=(20,14), sharey=True)\n",
    "    if ylim is not None: plt.ylim(*ylim)\n",
    "    train_sizes, train_scores, test_scores = learning_curve(estimator1, X, y, cv=cv, n_jobs=4, train_sizes=np.linspace(.1, 1.0, 5))\n",
    "    train_scores_mean = np.mean(train_scores, axis=1)\n",
    "    train_scores_std = np.std(train_scores, axis=1)\n",
    "    test_scores_mean = np.mean(test_scores, axis=1)\n",
    "    test_scores_std = np.std(test_scores, axis=1)\n",
    "    ax1.fill_between(train_sizes, train_scores_mean - train_scores_std,\n",
    "                     train_scores_mean + train_scores_std, alpha=0.1,\n",
    "                     color=\"#ff9124\")\n",
    "    ax1.fill_between(train_sizes, test_scores_mean - test_scores_std,\n",
    "                     test_scores_mean + test_scores_std, alpha=0.1, color=\"#2492ff\")\n",
    "    ax1.plot(train_sizes, train_scores_mean, 'o-', color=\"#ff9124\",\n",
    "             label=\"Training score\")\n",
    "    ax1.plot(train_sizes, test_scores_mean, 'o-', color=\"#2492ff\",\n",
    "             label=\"Cross-validation score\")\n",
    "    ax1.set_title(\"Logistic Regression Learning Curve\", fontsize=14)\n",
    "    ax1.set_xlabel('Training size (m)')\n",
    "    ax1.set_ylabel('Score')\n",
    "    ax1.grid(True)\n",
    "    ax1.legend(loc=\"best\")"
   ]
  },
  {
   "cell_type": "code",
   "execution_count": 150,
   "metadata": {},
   "outputs": [
    {
     "data": {
      "text/plain": [
       "array([ 2042,  6636, 11231, 15826, 20421])"
      ]
     },
     "execution_count": 150,
     "metadata": {},
     "output_type": "execute_result"
    }
   ],
   "source": [
    "train_sizes"
   ]
  },
  {
   "cell_type": "code",
   "execution_count": 173,
   "metadata": {
    "collapsed": true
   },
   "outputs": [],
   "source": [
    "train_sizes, train_scores, test_scores = learning_curve(log_reg, X, y, cv=cv, n_jobs=4, train_sizes=np.linspace(.1, 1.0, 5))\n",
    "train_scores_mean = np.mean(train_scores, axis=1)\n",
    "train_scores_std = np.std(train_scores, axis=1)\n",
    "test_scores_mean = np.mean(test_scores, axis=1)\n",
    "test_scores_std = np.std(test_scores, axis=1)"
   ]
  },
  {
   "cell_type": "code",
   "execution_count": 176,
   "metadata": {},
   "outputs": [
    {
     "data": {
      "text/plain": [
       "array([ 2552,  8296, 14039, 19783, 25527])"
      ]
     },
     "execution_count": 176,
     "metadata": {},
     "output_type": "execute_result"
    }
   ],
   "source": [
    "train_sizes"
   ]
  },
  {
   "cell_type": "code",
   "execution_count": 174,
   "metadata": {},
   "outputs": [
    {
     "data": {
      "text/plain": [
       "array([0.78330721, 0.78995902, 0.78979984, 0.79057777, 0.78998707])"
      ]
     },
     "execution_count": 174,
     "metadata": {},
     "output_type": "execute_result"
    }
   ],
   "source": [
    "train_scores_mean"
   ]
  },
  {
   "cell_type": "code",
   "execution_count": 175,
   "metadata": {},
   "outputs": [
    {
     "data": {
      "text/plain": [
       "array([0.79410843, 0.79410843, 0.79410843, 0.79410843, 0.79410843])"
      ]
     },
     "execution_count": 175,
     "metadata": {},
     "output_type": "execute_result"
    }
   ],
   "source": [
    "test_scores_mean"
   ]
  },
  {
   "cell_type": "code",
   "execution_count": null,
   "metadata": {
    "collapsed": true,
    "scrolled": true
   },
   "outputs": [],
   "source": [
    "train_sizes, train_scores, test_scores = learning_curve(svc, X, y, cv=cv, n_jobs=4, train_sizes=np.linspace(.1, 1.0, 5))\n",
    "train_scores_mean = np.mean(train_scores, axis=1)\n",
    "train_scores_std = np.std(train_scores, axis=1)\n",
    "test_scores_mean = np.mean(test_scores, axis=1)\n",
    "test_scores_std = np.std(test_scores, axis=1)"
   ]
  },
  {
   "cell_type": "code",
   "execution_count": 178,
   "metadata": {
    "scrolled": true
   },
   "outputs": [
    {
     "data": {
      "text/plain": [
       "array([ 2552,  8296, 14039, 19783, 25527])"
      ]
     },
     "execution_count": 178,
     "metadata": {},
     "output_type": "execute_result"
    }
   ],
   "source": [
    "train_sizes"
   ]
  },
  {
   "cell_type": "code",
   "execution_count": 179,
   "metadata": {},
   "outputs": [
    {
     "data": {
      "text/plain": [
       "array([ 2552,  8296, 14039, 19783, 25527])"
      ]
     },
     "execution_count": 179,
     "metadata": {},
     "output_type": "execute_result"
    }
   ],
   "source": [
    "train_sizes"
   ]
  },
  {
   "cell_type": "code",
   "execution_count": 180,
   "metadata": {},
   "outputs": [
    {
     "data": {
      "text/plain": [
       "array([0.80995298, 0.80713597, 0.80864022, 0.80976091, 0.81018138])"
      ]
     },
     "execution_count": 180,
     "metadata": {},
     "output_type": "execute_result"
    }
   ],
   "source": [
    "train_scores_mean"
   ]
  },
  {
   "cell_type": "code",
   "execution_count": 181,
   "metadata": {},
   "outputs": [
    {
     "data": {
      "text/plain": [
       "array([0.7693513 , 0.77240677, 0.77569727, 0.77648073, 0.77577562])"
      ]
     },
     "execution_count": 181,
     "metadata": {},
     "output_type": "execute_result"
    }
   ],
   "source": [
    "test_scores_mean"
   ]
  },
  {
   "cell_type": "code",
   "execution_count": null,
   "metadata": {
    "collapsed": true
   },
   "outputs": [],
   "source": [
    "cv = ShuffleSplit(n_splits=2, test_size=0.2, random_state=42)\n",
    "a = plot_learning_curve(log_reg, X_train, y_train, (0.87, 1.01), cv=cv, n_jobs=4)"
   ]
  },
  {
   "cell_type": "code",
   "execution_count": 193,
   "metadata": {},
   "outputs": [
    {
     "data": {
      "text/html": [
       "<div>\n",
       "<style scoped>\n",
       "    .dataframe tbody tr th:only-of-type {\n",
       "        vertical-align: middle;\n",
       "    }\n",
       "\n",
       "    .dataframe tbody tr th {\n",
       "        vertical-align: top;\n",
       "    }\n",
       "\n",
       "    .dataframe thead th {\n",
       "        text-align: right;\n",
       "    }\n",
       "</style>\n",
       "<table border=\"1\" class=\"dataframe\">\n",
       "  <thead>\n",
       "    <tr style=\"text-align: right;\">\n",
       "      <th></th>\n",
       "      <th>age</th>\n",
       "      <th>application_type</th>\n",
       "      <th>business_id</th>\n",
       "      <th>gender</th>\n",
       "      <th>spouse_policy_attached</th>\n",
       "      <th>weekday</th>\n",
       "      <th>carrier_id1</th>\n",
       "      <th>state_id1</th>\n",
       "      <th>lead_source_id1</th>\n",
       "      <th>A</th>\n",
       "      <th>B</th>\n",
       "      <th>C</th>\n",
       "      <th>lead_dt_hr1</th>\n",
       "      <th>year2</th>\n",
       "      <th>lead_dt_mon1</th>\n",
       "    </tr>\n",
       "  </thead>\n",
       "  <tbody>\n",
       "    <tr>\n",
       "      <th>5217</th>\n",
       "      <td>0.5625</td>\n",
       "      <td>0</td>\n",
       "      <td>0</td>\n",
       "      <td>1</td>\n",
       "      <td>0.0</td>\n",
       "      <td>0.166667</td>\n",
       "      <td>0.254007</td>\n",
       "      <td>0.227071</td>\n",
       "      <td>0.226662</td>\n",
       "      <td>1</td>\n",
       "      <td>0</td>\n",
       "      <td>0</td>\n",
       "      <td>0.333333</td>\n",
       "      <td>0.193318</td>\n",
       "      <td>0.000000</td>\n",
       "    </tr>\n",
       "    <tr>\n",
       "      <th>32029</th>\n",
       "      <td>0.4375</td>\n",
       "      <td>0</td>\n",
       "      <td>0</td>\n",
       "      <td>1</td>\n",
       "      <td>0.0</td>\n",
       "      <td>0.333333</td>\n",
       "      <td>0.228952</td>\n",
       "      <td>0.196575</td>\n",
       "      <td>0.196834</td>\n",
       "      <td>1</td>\n",
       "      <td>0</td>\n",
       "      <td>0</td>\n",
       "      <td>0.333333</td>\n",
       "      <td>0.201041</td>\n",
       "      <td>0.666667</td>\n",
       "    </tr>\n",
       "    <tr>\n",
       "      <th>26947</th>\n",
       "      <td>0.6250</td>\n",
       "      <td>0</td>\n",
       "      <td>0</td>\n",
       "      <td>1</td>\n",
       "      <td>0.0</td>\n",
       "      <td>0.166667</td>\n",
       "      <td>0.228952</td>\n",
       "      <td>0.187751</td>\n",
       "      <td>0.188111</td>\n",
       "      <td>0</td>\n",
       "      <td>0</td>\n",
       "      <td>1</td>\n",
       "      <td>1.000000</td>\n",
       "      <td>0.201041</td>\n",
       "      <td>0.666667</td>\n",
       "    </tr>\n",
       "    <tr>\n",
       "      <th>21325</th>\n",
       "      <td>0.6250</td>\n",
       "      <td>0</td>\n",
       "      <td>0</td>\n",
       "      <td>1</td>\n",
       "      <td>0.0</td>\n",
       "      <td>0.500000</td>\n",
       "      <td>0.228952</td>\n",
       "      <td>0.197907</td>\n",
       "      <td>0.198112</td>\n",
       "      <td>1</td>\n",
       "      <td>0</td>\n",
       "      <td>0</td>\n",
       "      <td>0.666667</td>\n",
       "      <td>0.211397</td>\n",
       "      <td>0.333333</td>\n",
       "    </tr>\n",
       "    <tr>\n",
       "      <th>9196</th>\n",
       "      <td>0.4375</td>\n",
       "      <td>0</td>\n",
       "      <td>0</td>\n",
       "      <td>1</td>\n",
       "      <td>0.0</td>\n",
       "      <td>0.000000</td>\n",
       "      <td>0.179908</td>\n",
       "      <td>0.187751</td>\n",
       "      <td>0.188111</td>\n",
       "      <td>1</td>\n",
       "      <td>0</td>\n",
       "      <td>0</td>\n",
       "      <td>0.333333</td>\n",
       "      <td>0.201041</td>\n",
       "      <td>0.666667</td>\n",
       "    </tr>\n",
       "  </tbody>\n",
       "</table>\n",
       "</div>"
      ],
      "text/plain": [
       "          age  application_type  business_id  gender  spouse_policy_attached  \\\n",
       "5217   0.5625                 0            0       1                     0.0   \n",
       "32029  0.4375                 0            0       1                     0.0   \n",
       "26947  0.6250                 0            0       1                     0.0   \n",
       "21325  0.6250                 0            0       1                     0.0   \n",
       "9196   0.4375                 0            0       1                     0.0   \n",
       "\n",
       "        weekday  carrier_id1  state_id1  lead_source_id1  A  B  C  \\\n",
       "5217   0.166667     0.254007   0.227071         0.226662  1  0  0   \n",
       "32029  0.333333     0.228952   0.196575         0.196834  1  0  0   \n",
       "26947  0.166667     0.228952   0.187751         0.188111  0  0  1   \n",
       "21325  0.500000     0.228952   0.197907         0.198112  1  0  0   \n",
       "9196   0.000000     0.179908   0.187751         0.188111  1  0  0   \n",
       "\n",
       "       lead_dt_hr1     year2  lead_dt_mon1  \n",
       "5217      0.333333  0.193318      0.000000  \n",
       "32029     0.333333  0.201041      0.666667  \n",
       "26947     1.000000  0.201041      0.666667  \n",
       "21325     0.666667  0.211397      0.333333  \n",
       "9196      0.333333  0.201041      0.666667  "
      ]
     },
     "execution_count": 193,
     "metadata": {},
     "output_type": "execute_result"
    }
   ],
   "source": [
    "X_train.head()"
   ]
  },
  {
   "cell_type": "code",
   "execution_count": null,
   "metadata": {
    "collapsed": true
   },
   "outputs": [],
   "source": [
    "RandomForestClassifier(n_estimators=)"
   ]
  },
  {
   "cell_type": "code",
   "execution_count": 208,
   "metadata": {
    "collapsed": true
   },
   "outputs": [],
   "source": [
    "# Number of trees in random forest\n",
    "n_estimators = [int(x) for x in np.linspace(start = 100, stop = 2000, num = 100)]\n",
    "# Number of features to consider at every split\n",
    "max_features = ['auto', 'sqrt']\n",
    "# Maximum number of levels in tree\n",
    "max_depth = [int(x) for x in np.linspace(5, 110, num = 10)]\n",
    "max_depth.append(None)\n",
    "# Minimum number of samples required to split a node\n",
    "min_samples_split = [2, 5, 10]\n",
    "# Minimum number of samples required at each leaf node\n",
    "min_samples_leaf = [1, 2, 4]\n",
    "# Method of selecting samples for training each tree\n",
    "bootstrap = [True, False]\n",
    "\n",
    "random_grid = {'n_estimators': n_estimators,\n",
    "               'max_features': max_features,\n",
    "               'max_depth': max_depth,\n",
    "               'min_samples_split': min_samples_split,\n",
    "               'min_samples_leaf': min_samples_leaf,\n",
    "               'bootstrap': bootstrap}"
   ]
  },
  {
   "cell_type": "code",
   "execution_count": 284,
   "metadata": {},
   "outputs": [
    {
     "data": {
      "text/html": [
       "<div>\n",
       "<style scoped>\n",
       "    .dataframe tbody tr th:only-of-type {\n",
       "        vertical-align: middle;\n",
       "    }\n",
       "\n",
       "    .dataframe tbody tr th {\n",
       "        vertical-align: top;\n",
       "    }\n",
       "\n",
       "    .dataframe thead th {\n",
       "        text-align: right;\n",
       "    }\n",
       "</style>\n",
       "<table border=\"1\" class=\"dataframe\">\n",
       "  <thead>\n",
       "    <tr style=\"text-align: right;\">\n",
       "      <th></th>\n",
       "      <th>age</th>\n",
       "      <th>application_type</th>\n",
       "      <th>business_id</th>\n",
       "      <th>gender</th>\n",
       "      <th>spouse_policy_attached</th>\n",
       "      <th>weekday</th>\n",
       "      <th>carrier_id1</th>\n",
       "      <th>state_id1</th>\n",
       "      <th>lead_source_id1</th>\n",
       "      <th>A</th>\n",
       "      <th>B</th>\n",
       "      <th>C</th>\n",
       "      <th>lead_dt_hr1</th>\n",
       "      <th>year2</th>\n",
       "      <th>lead_dt_mon1</th>\n",
       "    </tr>\n",
       "  </thead>\n",
       "  <tbody>\n",
       "    <tr>\n",
       "      <th>5217</th>\n",
       "      <td>0.5625</td>\n",
       "      <td>0</td>\n",
       "      <td>0</td>\n",
       "      <td>1</td>\n",
       "      <td>0.0</td>\n",
       "      <td>0.166667</td>\n",
       "      <td>0.254007</td>\n",
       "      <td>0.227071</td>\n",
       "      <td>0.226662</td>\n",
       "      <td>1</td>\n",
       "      <td>0</td>\n",
       "      <td>0</td>\n",
       "      <td>0.333333</td>\n",
       "      <td>0.193318</td>\n",
       "      <td>0.000000</td>\n",
       "    </tr>\n",
       "    <tr>\n",
       "      <th>32029</th>\n",
       "      <td>0.4375</td>\n",
       "      <td>0</td>\n",
       "      <td>0</td>\n",
       "      <td>1</td>\n",
       "      <td>0.0</td>\n",
       "      <td>0.333333</td>\n",
       "      <td>0.228952</td>\n",
       "      <td>0.196575</td>\n",
       "      <td>0.196834</td>\n",
       "      <td>1</td>\n",
       "      <td>0</td>\n",
       "      <td>0</td>\n",
       "      <td>0.333333</td>\n",
       "      <td>0.201041</td>\n",
       "      <td>0.666667</td>\n",
       "    </tr>\n",
       "    <tr>\n",
       "      <th>26947</th>\n",
       "      <td>0.6250</td>\n",
       "      <td>0</td>\n",
       "      <td>0</td>\n",
       "      <td>1</td>\n",
       "      <td>0.0</td>\n",
       "      <td>0.166667</td>\n",
       "      <td>0.228952</td>\n",
       "      <td>0.187751</td>\n",
       "      <td>0.188111</td>\n",
       "      <td>0</td>\n",
       "      <td>0</td>\n",
       "      <td>1</td>\n",
       "      <td>1.000000</td>\n",
       "      <td>0.201041</td>\n",
       "      <td>0.666667</td>\n",
       "    </tr>\n",
       "    <tr>\n",
       "      <th>21325</th>\n",
       "      <td>0.6250</td>\n",
       "      <td>0</td>\n",
       "      <td>0</td>\n",
       "      <td>1</td>\n",
       "      <td>0.0</td>\n",
       "      <td>0.500000</td>\n",
       "      <td>0.228952</td>\n",
       "      <td>0.197907</td>\n",
       "      <td>0.198112</td>\n",
       "      <td>1</td>\n",
       "      <td>0</td>\n",
       "      <td>0</td>\n",
       "      <td>0.666667</td>\n",
       "      <td>0.211397</td>\n",
       "      <td>0.333333</td>\n",
       "    </tr>\n",
       "    <tr>\n",
       "      <th>9196</th>\n",
       "      <td>0.4375</td>\n",
       "      <td>0</td>\n",
       "      <td>0</td>\n",
       "      <td>1</td>\n",
       "      <td>0.0</td>\n",
       "      <td>0.000000</td>\n",
       "      <td>0.179908</td>\n",
       "      <td>0.187751</td>\n",
       "      <td>0.188111</td>\n",
       "      <td>1</td>\n",
       "      <td>0</td>\n",
       "      <td>0</td>\n",
       "      <td>0.333333</td>\n",
       "      <td>0.201041</td>\n",
       "      <td>0.666667</td>\n",
       "    </tr>\n",
       "  </tbody>\n",
       "</table>\n",
       "</div>"
      ],
      "text/plain": [
       "          age  application_type  business_id  gender  spouse_policy_attached  \\\n",
       "5217   0.5625                 0            0       1                     0.0   \n",
       "32029  0.4375                 0            0       1                     0.0   \n",
       "26947  0.6250                 0            0       1                     0.0   \n",
       "21325  0.6250                 0            0       1                     0.0   \n",
       "9196   0.4375                 0            0       1                     0.0   \n",
       "\n",
       "        weekday  carrier_id1  state_id1  lead_source_id1  A  B  C  \\\n",
       "5217   0.166667     0.254007   0.227071         0.226662  1  0  0   \n",
       "32029  0.333333     0.228952   0.196575         0.196834  1  0  0   \n",
       "26947  0.166667     0.228952   0.187751         0.188111  0  0  1   \n",
       "21325  0.500000     0.228952   0.197907         0.198112  1  0  0   \n",
       "9196   0.000000     0.179908   0.187751         0.188111  1  0  0   \n",
       "\n",
       "       lead_dt_hr1     year2  lead_dt_mon1  \n",
       "5217      0.333333  0.193318      0.000000  \n",
       "32029     0.333333  0.201041      0.666667  \n",
       "26947     1.000000  0.201041      0.666667  \n",
       "21325     0.666667  0.211397      0.333333  \n",
       "9196      0.333333  0.201041      0.666667  "
      ]
     },
     "execution_count": 284,
     "metadata": {},
     "output_type": "execute_result"
    }
   ],
   "source": [
    "X_train.head()"
   ]
  },
  {
   "cell_type": "code",
   "execution_count": 226,
   "metadata": {
    "scrolled": true
   },
   "outputs": [
    {
     "name": "stdout",
     "output_type": "stream",
     "text": [
      "Length of X (train): 25527 | Length of y (train): 25527\n",
      "Length of X (test): 6382 | Length of y (test): 6382\n"
     ]
    },
    {
     "ename": "ValueError",
     "evalue": "'sampling_strategy'='majority' cannot be used with over-sampler.",
     "output_type": "error",
     "traceback": [
      "\u001b[0;31m---------------------------------------------------------------------------\u001b[0m",
      "\u001b[0;31mValueError\u001b[0m                                Traceback (most recent call last)",
      "\u001b[0;32m<ipython-input-226-a6eedec3b77c>\u001b[0m in \u001b[0;36m<module>\u001b[0;34m()\u001b[0m\n\u001b[1;32m     32\u001b[0m \u001b[0;32mfor\u001b[0m \u001b[0mtrain\u001b[0m\u001b[0;34m,\u001b[0m \u001b[0mtest\u001b[0m \u001b[0;32min\u001b[0m \u001b[0msss\u001b[0m\u001b[0;34m.\u001b[0m\u001b[0msplit\u001b[0m\u001b[0;34m(\u001b[0m\u001b[0moriginal_Xtrain\u001b[0m\u001b[0;34m,\u001b[0m \u001b[0moriginal_ytrain\u001b[0m\u001b[0;34m)\u001b[0m\u001b[0;34m:\u001b[0m\u001b[0;34m\u001b[0m\u001b[0m\n\u001b[1;32m     33\u001b[0m     \u001b[0mpipeline\u001b[0m \u001b[0;34m=\u001b[0m \u001b[0mimbalanced_make_pipeline\u001b[0m\u001b[0;34m(\u001b[0m\u001b[0mSMOTE\u001b[0m\u001b[0;34m(\u001b[0m\u001b[0msampling_strategy\u001b[0m\u001b[0;34m=\u001b[0m\u001b[0;34m'majority'\u001b[0m\u001b[0;34m)\u001b[0m\u001b[0;34m,\u001b[0m \u001b[0mrand_log_reg\u001b[0m\u001b[0;34m)\u001b[0m \u001b[0;31m# SMOTE happens during Cross Validation not before..\u001b[0m\u001b[0;34m\u001b[0m\u001b[0m\n\u001b[0;32m---> 34\u001b[0;31m     \u001b[0mmodel\u001b[0m \u001b[0;34m=\u001b[0m \u001b[0mpipeline\u001b[0m\u001b[0;34m.\u001b[0m\u001b[0mfit\u001b[0m\u001b[0;34m(\u001b[0m\u001b[0moriginal_Xtrain\u001b[0m\u001b[0;34m[\u001b[0m\u001b[0mtrain\u001b[0m\u001b[0;34m]\u001b[0m\u001b[0;34m,\u001b[0m \u001b[0moriginal_ytrain\u001b[0m\u001b[0;34m[\u001b[0m\u001b[0mtrain\u001b[0m\u001b[0;34m]\u001b[0m\u001b[0;34m)\u001b[0m\u001b[0;34m\u001b[0m\u001b[0m\n\u001b[0m\u001b[1;32m     35\u001b[0m     \u001b[0mbest_est\u001b[0m \u001b[0;34m=\u001b[0m \u001b[0mrand_log_reg\u001b[0m\u001b[0;34m.\u001b[0m\u001b[0mbest_estimator_\u001b[0m\u001b[0;34m\u001b[0m\u001b[0m\n\u001b[1;32m     36\u001b[0m     \u001b[0mprediction\u001b[0m \u001b[0;34m=\u001b[0m \u001b[0mbest_est\u001b[0m\u001b[0;34m.\u001b[0m\u001b[0mpredict\u001b[0m\u001b[0;34m(\u001b[0m\u001b[0moriginal_Xtrain\u001b[0m\u001b[0;34m[\u001b[0m\u001b[0mtest\u001b[0m\u001b[0;34m]\u001b[0m\u001b[0;34m)\u001b[0m\u001b[0;34m\u001b[0m\u001b[0m\n",
      "\u001b[0;32m/mnt/anaconda3/lib/python3.5/site-packages/imblearn/pipeline.py\u001b[0m in \u001b[0;36mfit\u001b[0;34m(self, X, y, **fit_params)\u001b[0m\n\u001b[1;32m    235\u001b[0m \u001b[0;34m\u001b[0m\u001b[0m\n\u001b[1;32m    236\u001b[0m         \"\"\"\n\u001b[0;32m--> 237\u001b[0;31m         \u001b[0mXt\u001b[0m\u001b[0;34m,\u001b[0m \u001b[0myt\u001b[0m\u001b[0;34m,\u001b[0m \u001b[0mfit_params\u001b[0m \u001b[0;34m=\u001b[0m \u001b[0mself\u001b[0m\u001b[0;34m.\u001b[0m\u001b[0m_fit\u001b[0m\u001b[0;34m(\u001b[0m\u001b[0mX\u001b[0m\u001b[0;34m,\u001b[0m \u001b[0my\u001b[0m\u001b[0;34m,\u001b[0m \u001b[0;34m**\u001b[0m\u001b[0mfit_params\u001b[0m\u001b[0;34m)\u001b[0m\u001b[0;34m\u001b[0m\u001b[0m\n\u001b[0m\u001b[1;32m    238\u001b[0m         \u001b[0;32mif\u001b[0m \u001b[0mself\u001b[0m\u001b[0;34m.\u001b[0m\u001b[0m_final_estimator\u001b[0m \u001b[0;32mis\u001b[0m \u001b[0;32mnot\u001b[0m \u001b[0;32mNone\u001b[0m\u001b[0;34m:\u001b[0m\u001b[0;34m\u001b[0m\u001b[0m\n\u001b[1;32m    239\u001b[0m             \u001b[0mself\u001b[0m\u001b[0;34m.\u001b[0m\u001b[0m_final_estimator\u001b[0m\u001b[0;34m.\u001b[0m\u001b[0mfit\u001b[0m\u001b[0;34m(\u001b[0m\u001b[0mXt\u001b[0m\u001b[0;34m,\u001b[0m \u001b[0myt\u001b[0m\u001b[0;34m,\u001b[0m \u001b[0;34m**\u001b[0m\u001b[0mfit_params\u001b[0m\u001b[0;34m)\u001b[0m\u001b[0;34m\u001b[0m\u001b[0m\n",
      "\u001b[0;32m/mnt/anaconda3/lib/python3.5/site-packages/imblearn/pipeline.py\u001b[0m in \u001b[0;36m_fit\u001b[0;34m(self, X, y, **fit_params)\u001b[0m\n\u001b[1;32m    198\u001b[0m                 \u001b[0;32melif\u001b[0m \u001b[0mhasattr\u001b[0m\u001b[0;34m(\u001b[0m\u001b[0mcloned_transformer\u001b[0m\u001b[0;34m,\u001b[0m \u001b[0;34m\"fit_resample\"\u001b[0m\u001b[0;34m)\u001b[0m\u001b[0;34m:\u001b[0m\u001b[0;34m\u001b[0m\u001b[0m\n\u001b[1;32m    199\u001b[0m                     Xt, yt, fitted_transformer = fit_resample_one_cached(\n\u001b[0;32m--> 200\u001b[0;31m                         cloned_transformer, Xt, yt, **fit_params_steps[name])\n\u001b[0m\u001b[1;32m    201\u001b[0m                 \u001b[0;31m# Replace the transformer of the step with the fitted\u001b[0m\u001b[0;34m\u001b[0m\u001b[0;34m\u001b[0m\u001b[0m\n\u001b[1;32m    202\u001b[0m                 \u001b[0;31m# transformer. This is necessary when loading the transformer\u001b[0m\u001b[0;34m\u001b[0m\u001b[0;34m\u001b[0m\u001b[0m\n",
      "\u001b[0;32m/mnt/anaconda3/lib/python3.5/site-packages/joblib/memory.py\u001b[0m in \u001b[0;36m__call__\u001b[0;34m(self, *args, **kwargs)\u001b[0m\n\u001b[1;32m    353\u001b[0m \u001b[0;34m\u001b[0m\u001b[0m\n\u001b[1;32m    354\u001b[0m     \u001b[0;32mdef\u001b[0m \u001b[0m__call__\u001b[0m\u001b[0;34m(\u001b[0m\u001b[0mself\u001b[0m\u001b[0;34m,\u001b[0m \u001b[0;34m*\u001b[0m\u001b[0margs\u001b[0m\u001b[0;34m,\u001b[0m \u001b[0;34m**\u001b[0m\u001b[0mkwargs\u001b[0m\u001b[0;34m)\u001b[0m\u001b[0;34m:\u001b[0m\u001b[0;34m\u001b[0m\u001b[0m\n\u001b[0;32m--> 355\u001b[0;31m         \u001b[0;32mreturn\u001b[0m \u001b[0mself\u001b[0m\u001b[0;34m.\u001b[0m\u001b[0mfunc\u001b[0m\u001b[0;34m(\u001b[0m\u001b[0;34m*\u001b[0m\u001b[0margs\u001b[0m\u001b[0;34m,\u001b[0m \u001b[0;34m**\u001b[0m\u001b[0mkwargs\u001b[0m\u001b[0;34m)\u001b[0m\u001b[0;34m\u001b[0m\u001b[0m\n\u001b[0m\u001b[1;32m    356\u001b[0m \u001b[0;34m\u001b[0m\u001b[0m\n\u001b[1;32m    357\u001b[0m     \u001b[0;32mdef\u001b[0m \u001b[0mcall_and_shelve\u001b[0m\u001b[0;34m(\u001b[0m\u001b[0mself\u001b[0m\u001b[0;34m,\u001b[0m \u001b[0;34m*\u001b[0m\u001b[0margs\u001b[0m\u001b[0;34m,\u001b[0m \u001b[0;34m**\u001b[0m\u001b[0mkwargs\u001b[0m\u001b[0;34m)\u001b[0m\u001b[0;34m:\u001b[0m\u001b[0;34m\u001b[0m\u001b[0m\n",
      "\u001b[0;32m/mnt/anaconda3/lib/python3.5/site-packages/imblearn/pipeline.py\u001b[0m in \u001b[0;36m_fit_resample_one\u001b[0;34m(sampler, X, y, **fit_params)\u001b[0m\n\u001b[1;32m    574\u001b[0m \u001b[0;34m\u001b[0m\u001b[0m\n\u001b[1;32m    575\u001b[0m \u001b[0;32mdef\u001b[0m \u001b[0m_fit_resample_one\u001b[0m\u001b[0;34m(\u001b[0m\u001b[0msampler\u001b[0m\u001b[0;34m,\u001b[0m \u001b[0mX\u001b[0m\u001b[0;34m,\u001b[0m \u001b[0my\u001b[0m\u001b[0;34m,\u001b[0m \u001b[0;34m**\u001b[0m\u001b[0mfit_params\u001b[0m\u001b[0;34m)\u001b[0m\u001b[0;34m:\u001b[0m\u001b[0;34m\u001b[0m\u001b[0m\n\u001b[0;32m--> 576\u001b[0;31m     \u001b[0mX_res\u001b[0m\u001b[0;34m,\u001b[0m \u001b[0my_res\u001b[0m \u001b[0;34m=\u001b[0m \u001b[0msampler\u001b[0m\u001b[0;34m.\u001b[0m\u001b[0mfit_resample\u001b[0m\u001b[0;34m(\u001b[0m\u001b[0mX\u001b[0m\u001b[0;34m,\u001b[0m \u001b[0my\u001b[0m\u001b[0;34m,\u001b[0m \u001b[0;34m**\u001b[0m\u001b[0mfit_params\u001b[0m\u001b[0;34m)\u001b[0m\u001b[0;34m\u001b[0m\u001b[0m\n\u001b[0m\u001b[1;32m    577\u001b[0m \u001b[0;34m\u001b[0m\u001b[0m\n\u001b[1;32m    578\u001b[0m     \u001b[0;32mreturn\u001b[0m \u001b[0mX_res\u001b[0m\u001b[0;34m,\u001b[0m \u001b[0my_res\u001b[0m\u001b[0;34m,\u001b[0m \u001b[0msampler\u001b[0m\u001b[0;34m\u001b[0m\u001b[0m\n",
      "\u001b[0;32m/mnt/anaconda3/lib/python3.5/site-packages/imblearn/base.py\u001b[0m in \u001b[0;36mfit_resample\u001b[0;34m(self, X, y)\u001b[0m\n\u001b[1;32m     81\u001b[0m \u001b[0;34m\u001b[0m\u001b[0m\n\u001b[1;32m     82\u001b[0m         self.sampling_strategy_ = check_sampling_strategy(\n\u001b[0;32m---> 83\u001b[0;31m             self.sampling_strategy, y, self._sampling_type)\n\u001b[0m\u001b[1;32m     84\u001b[0m \u001b[0;34m\u001b[0m\u001b[0m\n\u001b[1;32m     85\u001b[0m         \u001b[0moutput\u001b[0m \u001b[0;34m=\u001b[0m \u001b[0mself\u001b[0m\u001b[0;34m.\u001b[0m\u001b[0m_fit_resample\u001b[0m\u001b[0;34m(\u001b[0m\u001b[0mX\u001b[0m\u001b[0;34m,\u001b[0m \u001b[0my\u001b[0m\u001b[0;34m)\u001b[0m\u001b[0;34m\u001b[0m\u001b[0m\n",
      "\u001b[0;32m/mnt/anaconda3/lib/python3.5/site-packages/imblearn/utils/_validation.py\u001b[0m in \u001b[0;36mcheck_sampling_strategy\u001b[0;34m(sampling_strategy, y, sampling_type, **kwargs)\u001b[0m\n\u001b[1;32m    440\u001b[0m                                  SAMPLING_TARGET_KIND, sampling_strategy))\n\u001b[1;32m    441\u001b[0m         return OrderedDict(sorted(\n\u001b[0;32m--> 442\u001b[0;31m             SAMPLING_TARGET_KIND[sampling_strategy](y, sampling_type).items()))\n\u001b[0m\u001b[1;32m    443\u001b[0m     \u001b[0;32melif\u001b[0m \u001b[0misinstance\u001b[0m\u001b[0;34m(\u001b[0m\u001b[0msampling_strategy\u001b[0m\u001b[0;34m,\u001b[0m \u001b[0mdict\u001b[0m\u001b[0;34m)\u001b[0m\u001b[0;34m:\u001b[0m\u001b[0;34m\u001b[0m\u001b[0m\n\u001b[1;32m    444\u001b[0m         return OrderedDict(sorted(\n",
      "\u001b[0;32m/mnt/anaconda3/lib/python3.5/site-packages/imblearn/utils/_validation.py\u001b[0m in \u001b[0;36m_sampling_strategy_majority\u001b[0;34m(y, sampling_type)\u001b[0m\n\u001b[1;32m    125\u001b[0m     \u001b[0;34m\"\"\"Returns sampling target by targeting the majority class only.\"\"\"\u001b[0m\u001b[0;34m\u001b[0m\u001b[0m\n\u001b[1;32m    126\u001b[0m     \u001b[0;32mif\u001b[0m \u001b[0msampling_type\u001b[0m \u001b[0;34m==\u001b[0m \u001b[0;34m'over-sampling'\u001b[0m\u001b[0;34m:\u001b[0m\u001b[0;34m\u001b[0m\u001b[0m\n\u001b[0;32m--> 127\u001b[0;31m         raise ValueError(\"'sampling_strategy'='majority' cannot be used with\"\n\u001b[0m\u001b[1;32m    128\u001b[0m                          \" over-sampler.\")\n\u001b[1;32m    129\u001b[0m     elif (sampling_type == 'under-sampling' or\n",
      "\u001b[0;31mValueError\u001b[0m: 'sampling_strategy'='majority' cannot be used with over-sampler."
     ]
    }
   ],
   "source": [
    "from imblearn.over_sampling import SMOTE\n",
    "from sklearn.model_selection import train_test_split, RandomizedSearchCV\n",
    "\n",
    "original_Xtrain = X_train.values\n",
    "original_Xtest = X_test.values\n",
    "original_ytrain = y_train.values\n",
    "original_ytest = y_test.values\n",
    "\n",
    "print('Length of X (train): {} | Length of y (train): {}'.format(len(original_Xtrain), len(original_ytrain)))\n",
    "print('Length of X (test): {} | Length of y (test): {}'.format(len(X_test), len(y_test)))\n",
    "\n",
    "# List to append the score and then find the average\n",
    "accuracy_lst = []\n",
    "precision_lst = []\n",
    "recall_lst = []\n",
    "f1_lst = []\n",
    "auc_lst = []\n",
    "\n",
    "# Classifier with optimal parameters\n",
    "# log_reg_sm = grid_log_reg.best_estimator_\n",
    "#log_reg_sm = RandomForestClassifier()\n",
    "\n",
    "rand_log_reg = RandomizedSearchCV(RandomForestClassifier(n_estimators=100), random_grid, n_iter=4)\n",
    "\n",
    "# Implementing SMOTE Technique \n",
    "# Cross Validating the right way\n",
    "# Parameters\n",
    "#log_reg_params = {\"penalty\": ['l1', 'l2'], 'C': [0.001, 0.01, 0.1, 1, 10, 100, 1000]}\n",
    "for train, test in sss.split(original_Xtrain, original_ytrain):\n",
    "    pipeline = imbalanced_make_pipeline(SMOTE(sampling_strategy='minority'), rand_log_reg) # SMOTE happens during Cross Validation not before..\n",
    "    model = pipeline.fit(original_Xtrain[train], original_ytrain[train])\n",
    "    best_est = rand_log_reg.best_estimator_\n",
    "    prediction = best_est.predict(original_Xtrain[test])\n",
    "    \n",
    "    accuracy_lst.append(pipeline.score(original_Xtrain[test], original_ytrain[test]))\n",
    "    precision_lst.append(precision_score(original_ytrain[test], prediction))\n",
    "    recall_lst.append(recall_score(original_ytrain[test], prediction))\n",
    "    f1_lst.append(f1_score(original_ytrain[test], prediction))\n",
    "    auc_lst.append(roc_auc_score(original_ytrain[test], prediction))\n",
    "    \n",
    "print('---' * 45)\n",
    "print('')\n",
    "print(\"accuracy: {}\".format(np.mean(accuracy_lst)))\n",
    "print(\"precision: {}\".format(np.mean(precision_lst)))\n",
    "print(\"recall: {}\".format(np.mean(recall_lst)))\n",
    "print(\"f1: {}\".format(np.mean(f1_lst)))\n",
    "print (\"AUC: {}\".format(np.mean(auc_lst)))\n",
    "print('---' * 45)"
   ]
  },
  {
   "cell_type": "code",
   "execution_count": 217,
   "metadata": {},
   "outputs": [
    {
     "data": {
      "text/plain": [
       "[0.5009289633249294,\n",
       " 0.5105106355973761,\n",
       " 0.5134253719718692,\n",
       " 0.5101954267832123,\n",
       " 0.513451026056901]"
      ]
     },
     "execution_count": 217,
     "metadata": {},
     "output_type": "execute_result"
    }
   ],
   "source": [
    "auc_lst"
   ]
  },
  {
   "cell_type": "code",
   "execution_count": 220,
   "metadata": {},
   "outputs": [
    {
     "data": {
      "text/plain": [
       "RandomForestClassifier(bootstrap=False, class_weight=None, criterion='gini',\n",
       "                       max_depth=86, max_features='auto', max_leaf_nodes=None,\n",
       "                       min_impurity_decrease=0.0, min_impurity_split=None,\n",
       "                       min_samples_leaf=2, min_samples_split=10,\n",
       "                       min_weight_fraction_leaf=0.0, n_estimators=771,\n",
       "                       n_jobs=None, oob_score=False, random_state=None,\n",
       "                       verbose=0, warm_start=False)"
      ]
     },
     "execution_count": 220,
     "metadata": {},
     "output_type": "execute_result"
    }
   ],
   "source": [
    "best_est"
   ]
  },
  {
   "cell_type": "code",
   "execution_count": 219,
   "metadata": {
    "scrolled": true
   },
   "outputs": [
    {
     "name": "stdout",
     "output_type": "stream",
     "text": [
      "              precision    recall  f1-score   support\n",
      "\n",
      "No withdrawn       0.80      0.97      0.87      5080\n",
      "   withdrawn       0.27      0.05      0.08      1302\n",
      "\n",
      "    accuracy                           0.78      6382\n",
      "   macro avg       0.53      0.51      0.48      6382\n",
      "weighted avg       0.69      0.78      0.71      6382\n",
      "\n"
     ]
    }
   ],
   "source": [
    "labels = ['No withdrawn', 'withdrawn']\n",
    "smote_prediction = best_est.predict(X_test)\n",
    "print(classification_report(y_test, smote_prediction, target_names=labels))"
   ]
  },
  {
   "cell_type": "code",
   "execution_count": 224,
   "metadata": {},
   "outputs": [
    {
     "data": {
      "text/plain": [
       "0.5077371880934237"
      ]
     },
     "execution_count": 224,
     "metadata": {},
     "output_type": "execute_result"
    }
   ],
   "source": [
    "roc_auc_score(original_ytest, smote_prediction)"
   ]
  },
  {
   "cell_type": "code",
   "execution_count": 221,
   "metadata": {
    "collapsed": true
   },
   "outputs": [],
   "source": [
    "#random_state = np.random.RandomState(0)\n",
    "clf = best_est\n",
    "cv = StratifiedKFold(n_splits=5,shuffle=False)"
   ]
  },
  {
   "cell_type": "code",
   "execution_count": null,
   "metadata": {
    "collapsed": true
   },
   "outputs": [],
   "source": [
    "import matplotlib.patches as patches\n",
    "# plot arrows\n",
    "fig1 = plt.figure(figsize=[12,12])\n",
    "ax1 = fig1.add_subplot(111,aspect = 'equal')\n",
    "ax1.add_patch(\n",
    "    patches.Arrow(0.45,0.5,-0.25,0.25,width=0.3,color='green',alpha = 0.5)\n",
    "    )\n",
    "ax1.add_patch(\n",
    "    patches.Arrow(0.5,0.45,0.25,-0.25,width=0.3,color='red',alpha = 0.5)\n",
    "    )\n",
    "\n",
    "tprs = []\n",
    "aucs = []\n",
    "mean_fpr = np.linspace(0,1,100)\n",
    "i = 1\n",
    "for train,test in cv.split(x,y):\n",
    "    prediction = clf.fit(x.iloc[train],y.iloc[train]).predict_proba(x.iloc[test])\n",
    "    fpr, tpr, t = roc_curve(y[test], prediction[:, 1])\n",
    "    tprs.append(interp(mean_fpr, fpr, tpr))\n",
    "    roc_auc = auc(fpr, tpr)\n",
    "    aucs.append(roc_auc)\n",
    "    plt.plot(fpr, tpr, lw=2, alpha=0.3, label='ROC fold %d (AUC = %0.2f)' % (i, roc_auc))\n",
    "    i= i+1\n",
    "\n",
    "plt.plot([0,1],[0,1],linestyle = '--',lw = 2,color = 'black')\n",
    "mean_tpr = np.mean(tprs, axis=0)\n",
    "mean_auc = auc(mean_fpr, mean_tpr)\n",
    "plt.plot(mean_fpr, mean_tpr, color='blue',\n",
    "         label=r'Mean ROC (AUC = %0.2f )' % (mean_auc),lw=2, alpha=1)\n",
    "\n",
    "plt.xlabel('False Positive Rate')\n",
    "plt.ylabel('True Positive Rate')\n",
    "plt.title('ROC')\n",
    "plt.legend(loc=\"lower right\")\n",
    "plt.text(0.32,0.7,'More accurate area',fontsize = 12)\n",
    "plt.text(0.63,0.4,'Less accurate area',fontsize = 12)\n",
    "plt.show()"
   ]
  },
  {
   "cell_type": "code",
   "execution_count": null,
   "metadata": {
    "collapsed": true,
    "scrolled": true
   },
   "outputs": [],
   "source": [
    "y_score = best_est.decision_function(original_Xtest)"
   ]
  },
  {
   "cell_type": "code",
   "execution_count": 202,
   "metadata": {},
   "outputs": [
    {
     "name": "stdout",
     "output_type": "stream",
     "text": [
      "Average precision-recall score: 0.26\n"
     ]
    }
   ],
   "source": [
    "from sklearn.metrics import average_precision_score,precision_recall_curve\n",
    "average_precision = average_precision_score(original_ytest, y_score)\n",
    "\n",
    "print('Average precision-recall score: {0:0.2f}'.format(\n",
    "      average_precision))"
   ]
  },
  {
   "cell_type": "code",
   "execution_count": null,
   "metadata": {
    "collapsed": true
   },
   "outputs": [],
   "source": [
    "fig = plt.figure(figsize=(12,6))\n",
    "\n",
    "precision, recall, _ = precision_recall_curve(original_ytest, y_score)\n",
    "\n",
    "plt.step(recall, precision, color='r', alpha=0.2,\n",
    "         where='post')\n",
    "plt.fill_between(recall, precision, step='post', alpha=0.2,\n",
    "                 color='#F59B00')\n",
    "\n",
    "plt.xlabel('Recall')\n",
    "plt.ylabel('Precision')\n",
    "plt.ylim([0.0, 1.05])\n",
    "plt.xlim([0.0, 1.0])\n",
    "plt.title('OverSampling Precision-Recall curve: \\n Average Precision-Recall Score ={0:0.2f}'.format(\n",
    "          average_precision), fontsize=16)"
   ]
  },
  {
   "cell_type": "code",
   "execution_count": 185,
   "metadata": {
    "collapsed": true
   },
   "outputs": [],
   "source": [
    "from sklearn.metrics import roc_curve\n",
    "from sklearn.model_selection import cross_val_predict\n",
    "# Create a DataFrame with all the scores and the classifiers names.\n",
    "\n",
    "log_reg_pred = cross_val_predict(log_reg, X_train, y_train, cv=5,\n",
    "                             method=\"decision_function\")\n",
    "\n",
    "knears_pred = cross_val_predict(knears_neighbors, X_train, y_train, cv=5)\n",
    "\n",
    "#svc_pred = cross_val_predict(svc, X_train, y_train, cv=5,\n",
    "#                             method=\"decision_function\")\n",
    "\n",
    "#tree_pred = cross_val_predict(tree_clf, X_train, y_train, cv=5)"
   ]
  },
  {
   "cell_type": "code",
   "execution_count": null,
   "metadata": {
    "collapsed": true
   },
   "outputs": [],
   "source": [
    "from sklearn.metrics import roc_auc_score\n",
    "\n",
    "print('Logistic Regression: ', roc_auc_score(y_train, log_reg_pred))\n",
    "print('KNears Neighbors: ', roc_auc_score(y_train, knears_pred))\n",
    "#print('Support Vector Classifier: ', roc_auc_score(y_train, svc_pred))\n",
    "#print('Decision Tree Classifier: ', roc_auc_score(y_train, tree_pred))"
   ]
  },
  {
   "cell_type": "code",
   "execution_count": null,
   "metadata": {
    "collapsed": true
   },
   "outputs": [],
   "source": [
    "log_fpr, log_tpr, log_thresold = roc_curve(y_train, log_reg_pred)\n",
    "knear_fpr, knear_tpr, knear_threshold = roc_curve(y_train, knears_pred)\n",
    "#svc_fpr, svc_tpr, svc_threshold = roc_curve(y_train, svc_pred)\n",
    "#tree_fpr, tree_tpr, tree_threshold = roc_curve(y_train, tree_pred)\n",
    "\n",
    "\n",
    "def graph_roc_curve_multiple(log_fpr, log_tpr, knear_fpr, knear_tpr):\n",
    "    plt.figure(figsize=(16,8))\n",
    "    plt.title('ROC Curve \\n Top 4 Classifiers', fontsize=18)\n",
    "    plt.plot(log_fpr, log_tpr, label='Logistic Regression Classifier Score: {:.4f}'.format(roc_auc_score(y_train, log_reg_pred)))\n",
    "    plt.plot(knear_fpr, knear_tpr, label='KNears Neighbors Classifier Score: {:.4f}'.format(roc_auc_score(y_train, knears_pred)))\n",
    "    #plt.plot(svc_fpr, svc_tpr, label='Support Vector Classifier Score: {:.4f}'.format(roc_auc_score(y_train, svc_pred)))\n",
    "    #plt.plot(tree_fpr, tree_tpr, label='Decision Tree Classifier Score: {:.4f}'.format(roc_auc_score(y_train, tree_pred)))\n",
    "    plt.plot([0, 1], [0, 1], 'k--')\n",
    "    plt.axis([-0.01, 1, 0, 1])\n",
    "    plt.xlabel('False Positive Rate', fontsize=16)\n",
    "    plt.ylabel('True Positive Rate', fontsize=16)\n",
    "    plt.annotate('Minimum ROC Score of 50% \\n (This is the minimum score to get)', xy=(0.5, 0.5), xytext=(0.6, 0.3),\n",
    "                arrowprops=dict(facecolor='#6E726D', shrink=0.05),\n",
    "                )\n",
    "    plt.legend()\n",
    "    \n",
    "graph_roc_curve_multiple(log_fpr, log_tpr, knear_fpr, knear_tpr)\n",
    "                         #,svc_fpr, svc_tpr, tree_fpr, tree_tpr\n",
    "                        \n",
    "plt.show()"
   ]
  },
  {
   "cell_type": "code",
   "execution_count": null,
   "metadata": {
    "collapsed": true
   },
   "outputs": [],
   "source": [
    "y_train.withdrawn.value_counts()"
   ]
  },
  {
   "cell_type": "code",
   "execution_count": null,
   "metadata": {
    "collapsed": true
   },
   "outputs": [],
   "source": [
    "y.shape"
   ]
  },
  {
   "cell_type": "code",
   "execution_count": 225,
   "metadata": {
    "scrolled": false
   },
   "outputs": [
    {
     "ename": "NameError",
     "evalue": "name 'BalancedRandomForestClassifier' is not defined",
     "output_type": "error",
     "traceback": [
      "\u001b[0;31m---------------------------------------------------------------------------\u001b[0m",
      "\u001b[0;31mNameError\u001b[0m                                 Traceback (most recent call last)",
      "\u001b[0;32m<ipython-input-225-fb07209bd9f2>\u001b[0m in \u001b[0;36m<module>\u001b[0;34m()\u001b[0m\n\u001b[0;32m----> 1\u001b[0;31m brf = BalancedRandomForestClassifier(n_estimators=1000, random_state=42,\n\u001b[0m\u001b[1;32m      2\u001b[0m                                      n_jobs=-1)\n\u001b[1;32m      3\u001b[0m \u001b[0mbrf\u001b[0m\u001b[0;34m.\u001b[0m\u001b[0mfit\u001b[0m\u001b[0;34m(\u001b[0m\u001b[0mX_train\u001b[0m\u001b[0;34m,\u001b[0m \u001b[0my_train\u001b[0m\u001b[0;34m)\u001b[0m\u001b[0;34m\u001b[0m\u001b[0m\n",
      "\u001b[0;31mNameError\u001b[0m: name 'BalancedRandomForestClassifier' is not defined"
     ]
    }
   ],
   "source": [
    "brf = BalancedRandomForestClassifier(n_estimators=1000, random_state=42,\n",
    "                                     n_jobs=-1)\n",
    "brf.fit(X_train, y_train)"
   ]
  },
  {
   "cell_type": "code",
   "execution_count": null,
   "metadata": {
    "collapsed": true,
    "scrolled": true
   },
   "outputs": [],
   "source": [
    "from sklearn.metrics import roc_auc_score\n",
    "trainPred = brf.predict_proba(X_train)\n",
    "testPred = brf.predict_proba(X_test)\n",
    "print('train AUC: ')\n",
    "print(roc_auc_score(y_train, trainPred[:,1]))\n",
    "print('test AUC: ')\n",
    "print(roc_auc_score(y_test, testPred[:,1]))"
   ]
  },
  {
   "cell_type": "code",
   "execution_count": null,
   "metadata": {
    "collapsed": true
   },
   "outputs": [],
   "source": [
    "sum(Xx['1.0_spouse_policy_attached'])"
   ]
  },
  {
   "cell_type": "code",
   "execution_count": null,
   "metadata": {
    "collapsed": true,
    "scrolled": true
   },
   "outputs": [],
   "source": [
    "Xx.drop(['0_gender', '1_application_type','1_business_id','0.0_spouse_policy_attached'], axis=1, inplace=True)"
   ]
  },
  {
   "cell_type": "code",
   "execution_count": null,
   "metadata": {
    "collapsed": true,
    "scrolled": false
   },
   "outputs": [],
   "source": [
    "list(zip(Xx.columns, brf.feature_importances_))"
   ]
  },
  {
   "cell_type": "code",
   "execution_count": 233,
   "metadata": {
    "collapsed": true
   },
   "outputs": [],
   "source": [
    "from imblearn.under_sampling import RandomUnderSampler"
   ]
  },
  {
   "cell_type": "code",
   "execution_count": 288,
   "metadata": {},
   "outputs": [
    {
     "name": "stdout",
     "output_type": "stream",
     "text": [
      "Resampled dataset shape Counter({0.0: 5655, 1.0: 5373})\n"
     ]
    }
   ],
   "source": [
    "rus = RandomUnderSampler(sampling_strategy=0.95,random_state=42)\n",
    "train_x_res, train_y_res = rus.fit_resample(X_train, y_train)\n",
    "print('Resampled dataset shape %s' % Counter(train_y_res))"
   ]
  },
  {
   "cell_type": "code",
   "execution_count": 241,
   "metadata": {},
   "outputs": [
    {
     "data": {
      "text/plain": [
       "0.20401128172986524"
      ]
     },
     "execution_count": 241,
     "metadata": {},
     "output_type": "execute_result"
    }
   ],
   "source": [
    "sum(y_test)/len(y_test)"
   ]
  },
  {
   "cell_type": "code",
   "execution_count": 255,
   "metadata": {},
   "outputs": [
    {
     "data": {
      "text/plain": [
       "{'bootstrap': True,\n",
       " 'max_depth': 5,\n",
       " 'max_features': 'auto',\n",
       " 'min_samples_leaf': 2,\n",
       " 'min_samples_split': 5,\n",
       " 'n_estimators': 1577}"
      ]
     },
     "execution_count": 255,
     "metadata": {},
     "output_type": "execute_result"
    }
   ],
   "source": [
    "rfc_u"
   ]
  },
  {
   "cell_type": "code",
   "execution_count": 251,
   "metadata": {
    "scrolled": true
   },
   "outputs": [
    {
     "ename": "AttributeError",
     "evalue": "'dict' object has no attribute 'fit'",
     "output_type": "error",
     "traceback": [
      "\u001b[0;31m---------------------------------------------------------------------------\u001b[0m",
      "\u001b[0;31mAttributeError\u001b[0m                            Traceback (most recent call last)",
      "\u001b[0;32m<ipython-input-251-ae9831bdca30>\u001b[0m in \u001b[0;36m<module>\u001b[0;34m()\u001b[0m\n\u001b[1;32m      5\u001b[0m \u001b[0;31m#                             min_samples_leaf= 4,min_samples_split= 5,n_estimators= 1155).fit(X_train, y_train)\u001b[0m\u001b[0;34m\u001b[0m\u001b[0;34m\u001b[0m\u001b[0m\n\u001b[1;32m      6\u001b[0m \u001b[0mrfc_u\u001b[0m \u001b[0;34m=\u001b[0m \u001b[0mrf_random\u001b[0m\u001b[0;34m.\u001b[0m\u001b[0mbest_params_\u001b[0m\u001b[0;34m\u001b[0m\u001b[0m\n\u001b[0;32m----> 7\u001b[0;31m \u001b[0mrfc_u\u001b[0m\u001b[0;34m.\u001b[0m\u001b[0mfit\u001b[0m\u001b[0;34m(\u001b[0m\u001b[0mtrain_x_res\u001b[0m\u001b[0;34m,\u001b[0m \u001b[0mtrain_y_res\u001b[0m\u001b[0;34m)\u001b[0m\u001b[0;34m\u001b[0m\u001b[0m\n\u001b[0m\u001b[1;32m      8\u001b[0m \u001b[0mprint\u001b[0m\u001b[0;34m(\u001b[0m\u001b[0;34m'test accuracy'\u001b[0m\u001b[0;34m)\u001b[0m\u001b[0;34m\u001b[0m\u001b[0m\n\u001b[1;32m      9\u001b[0m \u001b[0mprint\u001b[0m\u001b[0;34m(\u001b[0m\u001b[0mrfc\u001b[0m\u001b[0;34m.\u001b[0m\u001b[0mscore\u001b[0m\u001b[0;34m(\u001b[0m\u001b[0mX_test\u001b[0m\u001b[0;34m,\u001b[0m \u001b[0my_test\u001b[0m\u001b[0;34m)\u001b[0m\u001b[0;34m)\u001b[0m\u001b[0;34m\u001b[0m\u001b[0m\n",
      "\u001b[0;31mAttributeError\u001b[0m: 'dict' object has no attribute 'fit'"
     ]
    }
   ],
   "source": [
    "from sklearn.metrics import roc_auc_score\n",
    "#print(y.describe())\n",
    "rfc = RandomForestClassifier(100)\n",
    "#rfc2 = RandomForestClassifier(bootstrap= True,max_depth= 10,max_features= 'sqrt', \n",
    "#                             min_samples_leaf= 4,min_samples_split= 5,n_estimators= 1155).fit(X_train, y_train)\n",
    "\n",
    "rfc_u.fit(train_x_res, train_y_res)\n",
    "print('test accuracy')\n",
    "print(rfc.score(X_test, y_test))\n",
    "trainPred = rfc.predict_proba(train_x_res)\n",
    "testPred = rfc.predict_proba(X_test)\n",
    "print('train AUC: ')\n",
    "print(roc_auc_score(train_y_res, trainPred[:,1]))\n",
    "print('test AUC: ')\n",
    "print(roc_auc_score(y_test, testPred[:,1]))"
   ]
  },
  {
   "cell_type": "code",
   "execution_count": 245,
   "metadata": {},
   "outputs": [
    {
     "data": {
      "text/html": [
       "<div>\n",
       "<style scoped>\n",
       "    .dataframe tbody tr th:only-of-type {\n",
       "        vertical-align: middle;\n",
       "    }\n",
       "\n",
       "    .dataframe tbody tr th {\n",
       "        vertical-align: top;\n",
       "    }\n",
       "\n",
       "    .dataframe thead th {\n",
       "        text-align: right;\n",
       "    }\n",
       "</style>\n",
       "<table border=\"1\" class=\"dataframe\">\n",
       "  <thead>\n",
       "    <tr style=\"text-align: right;\">\n",
       "      <th></th>\n",
       "      <th>age</th>\n",
       "      <th>application_type</th>\n",
       "      <th>business_id</th>\n",
       "      <th>gender</th>\n",
       "      <th>spouse_policy_attached</th>\n",
       "      <th>weekday</th>\n",
       "      <th>carrier_id1</th>\n",
       "      <th>state_id1</th>\n",
       "      <th>lead_source_id1</th>\n",
       "      <th>A</th>\n",
       "      <th>B</th>\n",
       "      <th>C</th>\n",
       "      <th>lead_dt_hr1</th>\n",
       "      <th>year2</th>\n",
       "      <th>lead_dt_mon1</th>\n",
       "    </tr>\n",
       "  </thead>\n",
       "  <tbody>\n",
       "    <tr>\n",
       "      <th>0</th>\n",
       "      <td>0.3750</td>\n",
       "      <td>0</td>\n",
       "      <td>0</td>\n",
       "      <td>0</td>\n",
       "      <td>0.0</td>\n",
       "      <td>0.166667</td>\n",
       "      <td>0.144039</td>\n",
       "      <td>0.214365</td>\n",
       "      <td>0.214008</td>\n",
       "      <td>1</td>\n",
       "      <td>0</td>\n",
       "      <td>0</td>\n",
       "      <td>0.000000</td>\n",
       "      <td>0.211397</td>\n",
       "      <td>0.333333</td>\n",
       "    </tr>\n",
       "    <tr>\n",
       "      <th>1</th>\n",
       "      <td>0.4375</td>\n",
       "      <td>0</td>\n",
       "      <td>0</td>\n",
       "      <td>0</td>\n",
       "      <td>0.0</td>\n",
       "      <td>0.666667</td>\n",
       "      <td>0.254007</td>\n",
       "      <td>0.237010</td>\n",
       "      <td>0.234821</td>\n",
       "      <td>1</td>\n",
       "      <td>0</td>\n",
       "      <td>0</td>\n",
       "      <td>0.000000</td>\n",
       "      <td>0.211397</td>\n",
       "      <td>0.333333</td>\n",
       "    </tr>\n",
       "    <tr>\n",
       "      <th>2</th>\n",
       "      <td>0.3125</td>\n",
       "      <td>0</td>\n",
       "      <td>0</td>\n",
       "      <td>0</td>\n",
       "      <td>0.0</td>\n",
       "      <td>0.500000</td>\n",
       "      <td>0.218919</td>\n",
       "      <td>0.192230</td>\n",
       "      <td>0.193197</td>\n",
       "      <td>1</td>\n",
       "      <td>0</td>\n",
       "      <td>0</td>\n",
       "      <td>0.000000</td>\n",
       "      <td>0.201041</td>\n",
       "      <td>0.666667</td>\n",
       "    </tr>\n",
       "    <tr>\n",
       "      <th>3</th>\n",
       "      <td>0.4375</td>\n",
       "      <td>0</td>\n",
       "      <td>0</td>\n",
       "      <td>0</td>\n",
       "      <td>0.0</td>\n",
       "      <td>0.000000</td>\n",
       "      <td>0.209855</td>\n",
       "      <td>0.214760</td>\n",
       "      <td>0.214700</td>\n",
       "      <td>0</td>\n",
       "      <td>0</td>\n",
       "      <td>1</td>\n",
       "      <td>0.666667</td>\n",
       "      <td>0.216355</td>\n",
       "      <td>0.666667</td>\n",
       "    </tr>\n",
       "    <tr>\n",
       "      <th>4</th>\n",
       "      <td>0.4375</td>\n",
       "      <td>0</td>\n",
       "      <td>0</td>\n",
       "      <td>0</td>\n",
       "      <td>0.0</td>\n",
       "      <td>0.166667</td>\n",
       "      <td>0.144039</td>\n",
       "      <td>0.211176</td>\n",
       "      <td>0.210994</td>\n",
       "      <td>0</td>\n",
       "      <td>1</td>\n",
       "      <td>0</td>\n",
       "      <td>0.333333</td>\n",
       "      <td>0.197541</td>\n",
       "      <td>0.000000</td>\n",
       "    </tr>\n",
       "  </tbody>\n",
       "</table>\n",
       "</div>"
      ],
      "text/plain": [
       "      age  application_type  business_id  gender  spouse_policy_attached  \\\n",
       "0  0.3750                 0            0       0                     0.0   \n",
       "1  0.4375                 0            0       0                     0.0   \n",
       "2  0.3125                 0            0       0                     0.0   \n",
       "3  0.4375                 0            0       0                     0.0   \n",
       "4  0.4375                 0            0       0                     0.0   \n",
       "\n",
       "    weekday  carrier_id1  state_id1  lead_source_id1  A  B  C  lead_dt_hr1  \\\n",
       "0  0.166667     0.144039   0.214365         0.214008  1  0  0     0.000000   \n",
       "1  0.666667     0.254007   0.237010         0.234821  1  0  0     0.000000   \n",
       "2  0.500000     0.218919   0.192230         0.193197  1  0  0     0.000000   \n",
       "3  0.000000     0.209855   0.214760         0.214700  0  0  1     0.666667   \n",
       "4  0.166667     0.144039   0.211176         0.210994  0  1  0     0.333333   \n",
       "\n",
       "      year2  lead_dt_mon1  \n",
       "0  0.211397      0.333333  \n",
       "1  0.211397      0.333333  \n",
       "2  0.201041      0.666667  \n",
       "3  0.216355      0.666667  \n",
       "4  0.197541      0.000000  "
      ]
     },
     "execution_count": 245,
     "metadata": {},
     "output_type": "execute_result"
    }
   ],
   "source": [
    "Xx.head()"
   ]
  },
  {
   "cell_type": "code",
   "execution_count": null,
   "metadata": {
    "collapsed": true,
    "scrolled": false
   },
   "outputs": [],
   "source": [
    "list(zip(X_train.columns, rfc.feature_importances_))"
   ]
  },
  {
   "cell_type": "code",
   "execution_count": 259,
   "metadata": {
    "scrolled": true
   },
   "outputs": [
    {
     "data": {
      "text/plain": [
       "RandomForestClassifier(bootstrap=True, class_weight=None, criterion='gini',\n",
       "                       max_depth=5, max_features='auto', max_leaf_nodes=None,\n",
       "                       min_impurity_decrease=0.0, min_impurity_split=None,\n",
       "                       min_samples_leaf=2, min_samples_split=5,\n",
       "                       min_weight_fraction_leaf=0.0, n_estimators=1577,\n",
       "                       n_jobs=None, oob_score=False, random_state=None,\n",
       "                       verbose=0, warm_start=False)"
      ]
     },
     "execution_count": 259,
     "metadata": {},
     "output_type": "execute_result"
    }
   ],
   "source": [
    "rf_random.best_estimator_"
   ]
  },
  {
   "cell_type": "code",
   "execution_count": null,
   "metadata": {
    "collapsed": true
   },
   "outputs": [],
   "source": [
    "rfc2 = RandomForestClassifier(bootstrap= True,max_depth= 5,max_features= 'sqrt',\n",
    "                             min_samples_leaf= 4,min_samples_split= 5,n_estimators= 1155).fit(train_x_res, train_y_res)"
   ]
  },
  {
   "cell_type": "code",
   "execution_count": 277,
   "metadata": {
    "scrolled": false
   },
   "outputs": [
    {
     "name": "stdout",
     "output_type": "stream",
     "text": [
      "test accuracy\n",
      "0.5855531181447822\n",
      "test AUC: \n",
      "0.5937912750825501\n"
     ]
    }
   ],
   "source": [
    "print('test accuracy')\n",
    "print(rf_random.best_estimator_.score(X_test, y_test))\n",
    "#trainPred = rfc2.predict_proba(train_x_res)\n",
    "testPred = rf_random.best_estimator_.predict_proba(X_test)\n",
    "print('test AUC: ')\n",
    "print(roc_auc_score(y_test, testPred[:,1]))"
   ]
  },
  {
   "cell_type": "code",
   "execution_count": 281,
   "metadata": {
    "scrolled": false
   },
   "outputs": [
    {
     "data": {
      "text/plain": [
       "[('age', 0.03775996567051052),\n",
       " ('application_type', 0.014160606272109999),\n",
       " ('business_id', 0.007197214924733849),\n",
       " ('gender', 0.034434086409456104),\n",
       " ('spouse_policy_attached', 0.15515229971193323),\n",
       " ('weekday', 0.02735250399171046),\n",
       " ('carrier_id1', 0.2911466301622722),\n",
       " ('state_id1', 0.11424307591351875),\n",
       " ('lead_source_id1', 0.11036629355802141),\n",
       " ('A', 0.04727880471932247),\n",
       " ('B', 0.015148259570649901),\n",
       " ('C', 0.024157877121944202),\n",
       " ('lead_dt_hr1', 0.025877107333587068),\n",
       " ('year2', 0.07053123255408265),\n",
       " ('lead_dt_mon1', 0.025194042086147065)]"
      ]
     },
     "execution_count": 281,
     "metadata": {},
     "output_type": "execute_result"
    }
   ],
   "source": [
    "list(zip(X_test.columns, rf_random.best_estimator_.feature_importances_))"
   ]
  },
  {
   "cell_type": "code",
   "execution_count": null,
   "metadata": {
    "collapsed": true
   },
   "outputs": [],
   "source": [
    "from sklearn.metrics import confusion_matrix"
   ]
  },
  {
   "cell_type": "code",
   "execution_count": 262,
   "metadata": {},
   "outputs": [
    {
     "name": "stdout",
     "output_type": "stream",
     "text": [
      "0.6037413035527278\n",
      "[0.59721464 0.63322642 0.61637561 0.57625567 0.60315576 0.60751907\n",
      " 0.57306513 0.59520507 0.60432685 0.60615323]\n"
     ]
    }
   ],
   "source": [
    "from sklearn.model_selection import cross_validate\n",
    "y_score2 = cross_validate(rf_random.best_estimator_, Xx, y, scoring='roc_auc', cv=10, return_train_score=True)\n",
    "print (np.median(y_score2['test_score']))\n",
    "print(y_score2['test_score'])"
   ]
  },
  {
   "cell_type": "code",
   "execution_count": null,
   "metadata": {
    "collapsed": true
   },
   "outputs": [],
   "source": [
    "from sklearn.model_selection import cross_validate\n",
    "y_score2 = cross_validate(rfc2, X2, y, scoring='roc_auc', cv=10, return_train_score=True)\n",
    "print (np.median(y_score2['test_score']))\n",
    "print(y_score2['test_score'])"
   ]
  },
  {
   "cell_type": "code",
   "execution_count": null,
   "metadata": {
    "collapsed": true
   },
   "outputs": [],
   "source": [
    "testPred[:,1]"
   ]
  },
  {
   "cell_type": "code",
   "execution_count": null,
   "metadata": {
    "collapsed": true,
    "scrolled": false
   },
   "outputs": [],
   "source": [
    "confusion_matrix(y_test, testPred[:,1]> .50)"
   ]
  },
  {
   "cell_type": "code",
   "execution_count": null,
   "metadata": {
    "collapsed": true
   },
   "outputs": [],
   "source": [
    "Counter(y_test)"
   ]
  },
  {
   "cell_type": "code",
   "execution_count": null,
   "metadata": {
    "collapsed": true
   },
   "outputs": [],
   "source": [
    "y_final = test5['withdrawn']"
   ]
  },
  {
   "cell_type": "code",
   "execution_count": null,
   "metadata": {
    "collapsed": true
   },
   "outputs": [],
   "source": [
    "test6 = test5.drop('withdrawn', axis=1)"
   ]
  },
  {
   "cell_type": "code",
   "execution_count": null,
   "metadata": {
    "collapsed": true
   },
   "outputs": [],
   "source": [
    "X.columns"
   ]
  },
  {
   "cell_type": "code",
   "execution_count": null,
   "metadata": {
    "collapsed": true
   },
   "outputs": [],
   "source": [
    "prob_withdrawn = rfc2.predict_proba(test6)"
   ]
  },
  {
   "cell_type": "code",
   "execution_count": null,
   "metadata": {
    "collapsed": true
   },
   "outputs": [],
   "source": [
    "from sklearn.model_selection import GridSearchCV\n",
    "from sklearn.model_selection import RandomizedSearchCV"
   ]
  },
  {
   "cell_type": "code",
   "execution_count": 263,
   "metadata": {
    "collapsed": true
   },
   "outputs": [],
   "source": [
    "from sklearn.ensemble import GradientBoostingClassifier"
   ]
  },
  {
   "cell_type": "code",
   "execution_count": null,
   "metadata": {
    "scrolled": true
   },
   "outputs": [
    {
     "name": "stdout",
     "output_type": "stream",
     "text": [
      "Fitting 3 folds for each of 50 candidates, totalling 150 fits\n",
      "[CV] max_depth=86, bootstrap=True, n_estimators=100, max_features=sqrt, min_samples_leaf=4, min_samples_split=2 \n"
     ]
    },
    {
     "name": "stderr",
     "output_type": "stream",
     "text": [
      "[Parallel(n_jobs=1)]: Using backend SequentialBackend with 1 concurrent workers.\n"
     ]
    },
    {
     "name": "stdout",
     "output_type": "stream",
     "text": [
      "[CV]  max_depth=86, bootstrap=True, n_estimators=100, max_features=sqrt, min_samples_leaf=4, min_samples_split=2, total=   0.6s\n",
      "[CV] max_depth=86, bootstrap=True, n_estimators=100, max_features=sqrt, min_samples_leaf=4, min_samples_split=2 \n"
     ]
    },
    {
     "name": "stderr",
     "output_type": "stream",
     "text": [
      "[Parallel(n_jobs=1)]: Done   1 out of   1 | elapsed:    0.6s remaining:    0.0s\n"
     ]
    },
    {
     "name": "stdout",
     "output_type": "stream",
     "text": [
      "[CV]  max_depth=86, bootstrap=True, n_estimators=100, max_features=sqrt, min_samples_leaf=4, min_samples_split=2, total=   0.6s\n",
      "[CV] max_depth=86, bootstrap=True, n_estimators=100, max_features=sqrt, min_samples_leaf=4, min_samples_split=2 \n",
      "[CV]  max_depth=86, bootstrap=True, n_estimators=100, max_features=sqrt, min_samples_leaf=4, min_samples_split=2, total=   0.6s\n",
      "[CV] max_depth=16, bootstrap=True, n_estimators=1846, max_features=sqrt, min_samples_leaf=4, min_samples_split=5 \n",
      "[CV]  max_depth=16, bootstrap=True, n_estimators=1846, max_features=sqrt, min_samples_leaf=4, min_samples_split=5, total=  10.3s\n",
      "[CV] max_depth=16, bootstrap=True, n_estimators=1846, max_features=sqrt, min_samples_leaf=4, min_samples_split=5 \n",
      "[CV]  max_depth=16, bootstrap=True, n_estimators=1846, max_features=sqrt, min_samples_leaf=4, min_samples_split=5, total=  10.4s\n",
      "[CV] max_depth=16, bootstrap=True, n_estimators=1846, max_features=sqrt, min_samples_leaf=4, min_samples_split=5 \n",
      "[CV]  max_depth=16, bootstrap=True, n_estimators=1846, max_features=sqrt, min_samples_leaf=4, min_samples_split=5, total=  10.3s\n",
      "[CV] max_depth=40, bootstrap=False, n_estimators=1501, max_features=auto, min_samples_leaf=2, min_samples_split=10 \n",
      "[CV]  max_depth=40, bootstrap=False, n_estimators=1501, max_features=auto, min_samples_leaf=2, min_samples_split=10, total=  12.5s\n",
      "[CV] max_depth=40, bootstrap=False, n_estimators=1501, max_features=auto, min_samples_leaf=2, min_samples_split=10 \n",
      "[CV]  max_depth=40, bootstrap=False, n_estimators=1501, max_features=auto, min_samples_leaf=2, min_samples_split=10, total=  12.5s\n",
      "[CV] max_depth=40, bootstrap=False, n_estimators=1501, max_features=auto, min_samples_leaf=2, min_samples_split=10 \n",
      "[CV]  max_depth=40, bootstrap=False, n_estimators=1501, max_features=auto, min_samples_leaf=2, min_samples_split=10, total=  12.5s\n",
      "[CV] max_depth=28, bootstrap=True, n_estimators=1635, max_features=auto, min_samples_leaf=2, min_samples_split=10 \n",
      "[CV]  max_depth=28, bootstrap=True, n_estimators=1635, max_features=auto, min_samples_leaf=2, min_samples_split=10, total=   9.7s\n",
      "[CV] max_depth=28, bootstrap=True, n_estimators=1635, max_features=auto, min_samples_leaf=2, min_samples_split=10 \n",
      "[CV]  max_depth=28, bootstrap=True, n_estimators=1635, max_features=auto, min_samples_leaf=2, min_samples_split=10, total=   9.7s\n",
      "[CV] max_depth=28, bootstrap=True, n_estimators=1635, max_features=auto, min_samples_leaf=2, min_samples_split=10 \n",
      "[CV]  max_depth=28, bootstrap=True, n_estimators=1635, max_features=auto, min_samples_leaf=2, min_samples_split=10, total=   9.6s\n",
      "[CV] max_depth=None, bootstrap=True, n_estimators=1692, max_features=sqrt, min_samples_leaf=1, min_samples_split=10 \n",
      "[CV]  max_depth=None, bootstrap=True, n_estimators=1692, max_features=sqrt, min_samples_leaf=1, min_samples_split=10, total=  10.5s\n",
      "[CV] max_depth=None, bootstrap=True, n_estimators=1692, max_features=sqrt, min_samples_leaf=1, min_samples_split=10 \n",
      "[CV]  max_depth=None, bootstrap=True, n_estimators=1692, max_features=sqrt, min_samples_leaf=1, min_samples_split=10, total=  10.5s\n",
      "[CV] max_depth=None, bootstrap=True, n_estimators=1692, max_features=sqrt, min_samples_leaf=1, min_samples_split=10 \n",
      "[CV]  max_depth=None, bootstrap=True, n_estimators=1692, max_features=sqrt, min_samples_leaf=1, min_samples_split=10, total=  10.4s\n",
      "[CV] max_depth=16, bootstrap=True, n_estimators=1059, max_features=sqrt, min_samples_leaf=2, min_samples_split=2 \n",
      "[CV]  max_depth=16, bootstrap=True, n_estimators=1059, max_features=sqrt, min_samples_leaf=2, min_samples_split=2, total=   6.6s\n",
      "[CV] max_depth=16, bootstrap=True, n_estimators=1059, max_features=sqrt, min_samples_leaf=2, min_samples_split=2 \n",
      "[CV]  max_depth=16, bootstrap=True, n_estimators=1059, max_features=sqrt, min_samples_leaf=2, min_samples_split=2, total=   6.7s\n",
      "[CV] max_depth=16, bootstrap=True, n_estimators=1059, max_features=sqrt, min_samples_leaf=2, min_samples_split=2 \n",
      "[CV]  max_depth=16, bootstrap=True, n_estimators=1059, max_features=sqrt, min_samples_leaf=2, min_samples_split=2, total=   6.6s\n",
      "[CV] max_depth=110, bootstrap=False, n_estimators=1539, max_features=sqrt, min_samples_leaf=1, min_samples_split=10 \n",
      "[CV]  max_depth=110, bootstrap=False, n_estimators=1539, max_features=sqrt, min_samples_leaf=1, min_samples_split=10, total=  13.5s\n",
      "[CV] max_depth=110, bootstrap=False, n_estimators=1539, max_features=sqrt, min_samples_leaf=1, min_samples_split=10 \n",
      "[CV]  max_depth=110, bootstrap=False, n_estimators=1539, max_features=sqrt, min_samples_leaf=1, min_samples_split=10, total=  13.3s\n",
      "[CV] max_depth=110, bootstrap=False, n_estimators=1539, max_features=sqrt, min_samples_leaf=1, min_samples_split=10 \n",
      "[CV]  max_depth=110, bootstrap=False, n_estimators=1539, max_features=sqrt, min_samples_leaf=1, min_samples_split=10, total=  13.2s\n",
      "[CV] max_depth=75, bootstrap=True, n_estimators=1539, max_features=sqrt, min_samples_leaf=1, min_samples_split=10 \n",
      "[CV]  max_depth=75, bootstrap=True, n_estimators=1539, max_features=sqrt, min_samples_leaf=1, min_samples_split=10, total=   9.5s\n",
      "[CV] max_depth=75, bootstrap=True, n_estimators=1539, max_features=sqrt, min_samples_leaf=1, min_samples_split=10 \n",
      "[CV]  max_depth=75, bootstrap=True, n_estimators=1539, max_features=sqrt, min_samples_leaf=1, min_samples_split=10, total=   9.5s\n",
      "[CV] max_depth=75, bootstrap=True, n_estimators=1539, max_features=sqrt, min_samples_leaf=1, min_samples_split=10 \n",
      "[CV]  max_depth=75, bootstrap=True, n_estimators=1539, max_features=sqrt, min_samples_leaf=1, min_samples_split=10, total=   9.4s\n",
      "[CV] max_depth=110, bootstrap=True, n_estimators=1309, max_features=auto, min_samples_leaf=4, min_samples_split=5 \n",
      "[CV]  max_depth=110, bootstrap=True, n_estimators=1309, max_features=auto, min_samples_leaf=4, min_samples_split=5, total=   7.5s\n",
      "[CV] max_depth=110, bootstrap=True, n_estimators=1309, max_features=auto, min_samples_leaf=4, min_samples_split=5 \n",
      "[CV]  max_depth=110, bootstrap=True, n_estimators=1309, max_features=auto, min_samples_leaf=4, min_samples_split=5, total=   7.5s\n",
      "[CV] max_depth=110, bootstrap=True, n_estimators=1309, max_features=auto, min_samples_leaf=4, min_samples_split=5 \n",
      "[CV]  max_depth=110, bootstrap=True, n_estimators=1309, max_features=auto, min_samples_leaf=4, min_samples_split=5, total=   7.4s\n",
      "[CV] max_depth=None, bootstrap=True, n_estimators=1232, max_features=auto, min_samples_leaf=4, min_samples_split=2 \n",
      "[CV]  max_depth=None, bootstrap=True, n_estimators=1232, max_features=auto, min_samples_leaf=4, min_samples_split=2, total=   7.1s\n",
      "[CV] max_depth=None, bootstrap=True, n_estimators=1232, max_features=auto, min_samples_leaf=4, min_samples_split=2 \n",
      "[CV]  max_depth=None, bootstrap=True, n_estimators=1232, max_features=auto, min_samples_leaf=4, min_samples_split=2, total=   7.0s\n",
      "[CV] max_depth=None, bootstrap=True, n_estimators=1232, max_features=auto, min_samples_leaf=4, min_samples_split=2 \n",
      "[CV]  max_depth=None, bootstrap=True, n_estimators=1232, max_features=auto, min_samples_leaf=4, min_samples_split=2, total=   7.0s\n",
      "[CV] max_depth=16, bootstrap=True, n_estimators=982, max_features=sqrt, min_samples_leaf=2, min_samples_split=2 \n",
      "[CV]  max_depth=16, bootstrap=True, n_estimators=982, max_features=sqrt, min_samples_leaf=2, min_samples_split=2, total=   6.1s\n",
      "[CV] max_depth=16, bootstrap=True, n_estimators=982, max_features=sqrt, min_samples_leaf=2, min_samples_split=2 \n",
      "[CV]  max_depth=16, bootstrap=True, n_estimators=982, max_features=sqrt, min_samples_leaf=2, min_samples_split=2, total=   6.1s\n",
      "[CV] max_depth=16, bootstrap=True, n_estimators=982, max_features=sqrt, min_samples_leaf=2, min_samples_split=2 \n",
      "[CV]  max_depth=16, bootstrap=True, n_estimators=982, max_features=sqrt, min_samples_leaf=2, min_samples_split=2, total=   6.1s\n",
      "[CV] max_depth=28, bootstrap=False, n_estimators=1270, max_features=auto, min_samples_leaf=1, min_samples_split=10 \n",
      "[CV]  max_depth=28, bootstrap=False, n_estimators=1270, max_features=auto, min_samples_leaf=1, min_samples_split=10, total=  11.1s\n",
      "[CV] max_depth=28, bootstrap=False, n_estimators=1270, max_features=auto, min_samples_leaf=1, min_samples_split=10 \n",
      "[CV]  max_depth=28, bootstrap=False, n_estimators=1270, max_features=auto, min_samples_leaf=1, min_samples_split=10, total=  11.1s\n",
      "[CV] max_depth=28, bootstrap=False, n_estimators=1270, max_features=auto, min_samples_leaf=1, min_samples_split=10 \n"
     ]
    },
    {
     "name": "stdout",
     "output_type": "stream",
     "text": [
      "[CV]  max_depth=28, bootstrap=False, n_estimators=1270, max_features=auto, min_samples_leaf=1, min_samples_split=10, total=  11.0s\n",
      "[CV] max_depth=51, bootstrap=True, n_estimators=579, max_features=auto, min_samples_leaf=4, min_samples_split=5 \n",
      "[CV]  max_depth=51, bootstrap=True, n_estimators=579, max_features=auto, min_samples_leaf=4, min_samples_split=5, total=   3.4s\n",
      "[CV] max_depth=51, bootstrap=True, n_estimators=579, max_features=auto, min_samples_leaf=4, min_samples_split=5 \n",
      "[CV]  max_depth=51, bootstrap=True, n_estimators=579, max_features=auto, min_samples_leaf=4, min_samples_split=5, total=   3.3s\n",
      "[CV] max_depth=51, bootstrap=True, n_estimators=579, max_features=auto, min_samples_leaf=4, min_samples_split=5 \n",
      "[CV]  max_depth=51, bootstrap=True, n_estimators=579, max_features=auto, min_samples_leaf=4, min_samples_split=5, total=   3.3s\n",
      "[CV] max_depth=110, bootstrap=False, n_estimators=1347, max_features=sqrt, min_samples_leaf=2, min_samples_split=5 \n",
      "[CV]  max_depth=110, bootstrap=False, n_estimators=1347, max_features=sqrt, min_samples_leaf=2, min_samples_split=5, total=  12.5s\n",
      "[CV] max_depth=110, bootstrap=False, n_estimators=1347, max_features=sqrt, min_samples_leaf=2, min_samples_split=5 \n",
      "[CV]  max_depth=110, bootstrap=False, n_estimators=1347, max_features=sqrt, min_samples_leaf=2, min_samples_split=5, total=  12.4s\n",
      "[CV] max_depth=110, bootstrap=False, n_estimators=1347, max_features=sqrt, min_samples_leaf=2, min_samples_split=5 \n",
      "[CV]  max_depth=110, bootstrap=False, n_estimators=1347, max_features=sqrt, min_samples_leaf=2, min_samples_split=5, total=  12.4s\n",
      "[CV] max_depth=110, bootstrap=True, n_estimators=522, max_features=sqrt, min_samples_leaf=2, min_samples_split=2 \n",
      "[CV]  max_depth=110, bootstrap=True, n_estimators=522, max_features=sqrt, min_samples_leaf=2, min_samples_split=2, total=   3.6s\n",
      "[CV] max_depth=110, bootstrap=True, n_estimators=522, max_features=sqrt, min_samples_leaf=2, min_samples_split=2 \n",
      "[CV]  max_depth=110, bootstrap=True, n_estimators=522, max_features=sqrt, min_samples_leaf=2, min_samples_split=2, total=   3.5s\n",
      "[CV] max_depth=110, bootstrap=True, n_estimators=522, max_features=sqrt, min_samples_leaf=2, min_samples_split=2 \n",
      "[CV]  max_depth=110, bootstrap=True, n_estimators=522, max_features=sqrt, min_samples_leaf=2, min_samples_split=2, total=   3.5s\n",
      "[CV] max_depth=98, bootstrap=True, n_estimators=1174, max_features=auto, min_samples_leaf=1, min_samples_split=2 \n",
      "[CV]  max_depth=98, bootstrap=True, n_estimators=1174, max_features=auto, min_samples_leaf=1, min_samples_split=2, total=   9.4s\n",
      "[CV] max_depth=98, bootstrap=True, n_estimators=1174, max_features=auto, min_samples_leaf=1, min_samples_split=2 \n",
      "[CV]  max_depth=98, bootstrap=True, n_estimators=1174, max_features=auto, min_samples_leaf=1, min_samples_split=2, total=   9.4s\n",
      "[CV] max_depth=98, bootstrap=True, n_estimators=1174, max_features=auto, min_samples_leaf=1, min_samples_split=2 \n",
      "[CV]  max_depth=98, bootstrap=True, n_estimators=1174, max_features=auto, min_samples_leaf=1, min_samples_split=2, total=   9.3s\n",
      "[CV] max_depth=28, bootstrap=False, n_estimators=119, max_features=auto, min_samples_leaf=2, min_samples_split=10 \n",
      "[CV]  max_depth=28, bootstrap=False, n_estimators=119, max_features=auto, min_samples_leaf=2, min_samples_split=10, total=   1.0s\n",
      "[CV] max_depth=28, bootstrap=False, n_estimators=119, max_features=auto, min_samples_leaf=2, min_samples_split=10 \n",
      "[CV]  max_depth=28, bootstrap=False, n_estimators=119, max_features=auto, min_samples_leaf=2, min_samples_split=10, total=   1.0s\n",
      "[CV] max_depth=28, bootstrap=False, n_estimators=119, max_features=auto, min_samples_leaf=2, min_samples_split=10 \n",
      "[CV]  max_depth=28, bootstrap=False, n_estimators=119, max_features=auto, min_samples_leaf=2, min_samples_split=10, total=   1.0s\n",
      "[CV] max_depth=51, bootstrap=False, n_estimators=1501, max_features=sqrt, min_samples_leaf=2, min_samples_split=5 \n",
      "[CV]  max_depth=51, bootstrap=False, n_estimators=1501, max_features=sqrt, min_samples_leaf=2, min_samples_split=5, total=  13.9s\n",
      "[CV] max_depth=51, bootstrap=False, n_estimators=1501, max_features=sqrt, min_samples_leaf=2, min_samples_split=5 \n",
      "[CV]  max_depth=51, bootstrap=False, n_estimators=1501, max_features=sqrt, min_samples_leaf=2, min_samples_split=5, total=  14.1s\n",
      "[CV] max_depth=51, bootstrap=False, n_estimators=1501, max_features=sqrt, min_samples_leaf=2, min_samples_split=5 \n",
      "[CV]  max_depth=51, bootstrap=False, n_estimators=1501, max_features=sqrt, min_samples_leaf=2, min_samples_split=5, total=  13.9s\n",
      "[CV] max_depth=98, bootstrap=True, n_estimators=1174, max_features=sqrt, min_samples_leaf=1, min_samples_split=5 \n",
      "[CV]  max_depth=98, bootstrap=True, n_estimators=1174, max_features=sqrt, min_samples_leaf=1, min_samples_split=5, total=   8.5s\n",
      "[CV] max_depth=98, bootstrap=True, n_estimators=1174, max_features=sqrt, min_samples_leaf=1, min_samples_split=5 \n",
      "[CV]  max_depth=98, bootstrap=True, n_estimators=1174, max_features=sqrt, min_samples_leaf=1, min_samples_split=5, total=   8.6s\n",
      "[CV] max_depth=98, bootstrap=True, n_estimators=1174, max_features=sqrt, min_samples_leaf=1, min_samples_split=5 \n",
      "[CV]  max_depth=98, bootstrap=True, n_estimators=1174, max_features=sqrt, min_samples_leaf=1, min_samples_split=5, total=   8.4s\n",
      "[CV] max_depth=110, bootstrap=True, n_estimators=368, max_features=auto, min_samples_leaf=2, min_samples_split=10 \n",
      "[CV]  max_depth=110, bootstrap=True, n_estimators=368, max_features=auto, min_samples_leaf=2, min_samples_split=10, total=   2.2s\n",
      "[CV] max_depth=110, bootstrap=True, n_estimators=368, max_features=auto, min_samples_leaf=2, min_samples_split=10 \n",
      "[CV]  max_depth=110, bootstrap=True, n_estimators=368, max_features=auto, min_samples_leaf=2, min_samples_split=10, total=   2.2s\n",
      "[CV] max_depth=110, bootstrap=True, n_estimators=368, max_features=auto, min_samples_leaf=2, min_samples_split=10 \n",
      "[CV]  max_depth=110, bootstrap=True, n_estimators=368, max_features=auto, min_samples_leaf=2, min_samples_split=10, total=   2.2s\n",
      "[CV] max_depth=63, bootstrap=True, n_estimators=1251, max_features=sqrt, min_samples_leaf=4, min_samples_split=5 \n",
      "[CV]  max_depth=63, bootstrap=True, n_estimators=1251, max_features=sqrt, min_samples_leaf=4, min_samples_split=5, total=   7.2s\n",
      "[CV] max_depth=63, bootstrap=True, n_estimators=1251, max_features=sqrt, min_samples_leaf=4, min_samples_split=5 \n",
      "[CV]  max_depth=63, bootstrap=True, n_estimators=1251, max_features=sqrt, min_samples_leaf=4, min_samples_split=5, total=   7.2s\n",
      "[CV] max_depth=63, bootstrap=True, n_estimators=1251, max_features=sqrt, min_samples_leaf=4, min_samples_split=5 \n",
      "[CV]  max_depth=63, bootstrap=True, n_estimators=1251, max_features=sqrt, min_samples_leaf=4, min_samples_split=5, total=   7.2s\n",
      "[CV] max_depth=16, bootstrap=True, n_estimators=810, max_features=auto, min_samples_leaf=4, min_samples_split=5 \n",
      "[CV]  max_depth=16, bootstrap=True, n_estimators=810, max_features=auto, min_samples_leaf=4, min_samples_split=5, total=   4.5s\n",
      "[CV] max_depth=16, bootstrap=True, n_estimators=810, max_features=auto, min_samples_leaf=4, min_samples_split=5 \n",
      "[CV]  max_depth=16, bootstrap=True, n_estimators=810, max_features=auto, min_samples_leaf=4, min_samples_split=5, total=   4.5s\n",
      "[CV] max_depth=16, bootstrap=True, n_estimators=810, max_features=auto, min_samples_leaf=4, min_samples_split=5 \n",
      "[CV]  max_depth=16, bootstrap=True, n_estimators=810, max_features=auto, min_samples_leaf=4, min_samples_split=5, total=   4.5s\n",
      "[CV] max_depth=98, bootstrap=True, n_estimators=541, max_features=auto, min_samples_leaf=1, min_samples_split=10 \n",
      "[CV]  max_depth=98, bootstrap=True, n_estimators=541, max_features=auto, min_samples_leaf=1, min_samples_split=10, total=   3.3s\n",
      "[CV] max_depth=98, bootstrap=True, n_estimators=541, max_features=auto, min_samples_leaf=1, min_samples_split=10 \n",
      "[CV]  max_depth=98, bootstrap=True, n_estimators=541, max_features=auto, min_samples_leaf=1, min_samples_split=10, total=   3.3s\n",
      "[CV] max_depth=98, bootstrap=True, n_estimators=541, max_features=auto, min_samples_leaf=1, min_samples_split=10 \n",
      "[CV]  max_depth=98, bootstrap=True, n_estimators=541, max_features=auto, min_samples_leaf=1, min_samples_split=10, total=   3.3s\n",
      "[CV] max_depth=51, bootstrap=False, n_estimators=483, max_features=auto, min_samples_leaf=4, min_samples_split=5 \n"
     ]
    },
    {
     "name": "stdout",
     "output_type": "stream",
     "text": [
      "[CV]  max_depth=51, bootstrap=False, n_estimators=483, max_features=auto, min_samples_leaf=4, min_samples_split=5, total=   3.8s\n",
      "[CV] max_depth=51, bootstrap=False, n_estimators=483, max_features=auto, min_samples_leaf=4, min_samples_split=5 \n",
      "[CV]  max_depth=51, bootstrap=False, n_estimators=483, max_features=auto, min_samples_leaf=4, min_samples_split=5, total=   3.8s\n",
      "[CV] max_depth=51, bootstrap=False, n_estimators=483, max_features=auto, min_samples_leaf=4, min_samples_split=5 \n",
      "[CV]  max_depth=51, bootstrap=False, n_estimators=483, max_features=auto, min_samples_leaf=4, min_samples_split=5, total=   3.8s\n",
      "[CV] max_depth=5, bootstrap=True, n_estimators=1577, max_features=auto, min_samples_leaf=2, min_samples_split=5 \n",
      "[CV]  max_depth=5, bootstrap=True, n_estimators=1577, max_features=auto, min_samples_leaf=2, min_samples_split=5, total=   4.5s\n",
      "[CV] max_depth=5, bootstrap=True, n_estimators=1577, max_features=auto, min_samples_leaf=2, min_samples_split=5 \n",
      "[CV]  max_depth=5, bootstrap=True, n_estimators=1577, max_features=auto, min_samples_leaf=2, min_samples_split=5, total=   4.5s\n",
      "[CV] max_depth=5, bootstrap=True, n_estimators=1577, max_features=auto, min_samples_leaf=2, min_samples_split=5 \n",
      "[CV]  max_depth=5, bootstrap=True, n_estimators=1577, max_features=auto, min_samples_leaf=2, min_samples_split=5, total=   4.6s\n",
      "[CV] max_depth=40, bootstrap=True, n_estimators=503, max_features=auto, min_samples_leaf=2, min_samples_split=5 \n",
      "[CV]  max_depth=40, bootstrap=True, n_estimators=503, max_features=auto, min_samples_leaf=2, min_samples_split=5, total=   3.3s\n",
      "[CV] max_depth=40, bootstrap=True, n_estimators=503, max_features=auto, min_samples_leaf=2, min_samples_split=5 \n",
      "[CV]  max_depth=40, bootstrap=True, n_estimators=503, max_features=auto, min_samples_leaf=2, min_samples_split=5, total=   3.4s\n",
      "[CV] max_depth=40, bootstrap=True, n_estimators=503, max_features=auto, min_samples_leaf=2, min_samples_split=5 \n",
      "[CV]  max_depth=40, bootstrap=True, n_estimators=503, max_features=auto, min_samples_leaf=2, min_samples_split=5, total=   3.3s\n",
      "[CV] max_depth=40, bootstrap=False, n_estimators=291, max_features=sqrt, min_samples_leaf=4, min_samples_split=2 \n",
      "[CV]  max_depth=40, bootstrap=False, n_estimators=291, max_features=sqrt, min_samples_leaf=4, min_samples_split=2, total=   2.3s\n",
      "[CV] max_depth=40, bootstrap=False, n_estimators=291, max_features=sqrt, min_samples_leaf=4, min_samples_split=2 \n",
      "[CV]  max_depth=40, bootstrap=False, n_estimators=291, max_features=sqrt, min_samples_leaf=4, min_samples_split=2, total=   2.3s\n",
      "[CV] max_depth=40, bootstrap=False, n_estimators=291, max_features=sqrt, min_samples_leaf=4, min_samples_split=2 \n",
      "[CV]  max_depth=40, bootstrap=False, n_estimators=291, max_features=sqrt, min_samples_leaf=4, min_samples_split=2, total=   2.3s\n",
      "[CV] max_depth=86, bootstrap=False, n_estimators=752, max_features=auto, min_samples_leaf=1, min_samples_split=10 \n",
      "[CV]  max_depth=86, bootstrap=False, n_estimators=752, max_features=auto, min_samples_leaf=1, min_samples_split=10, total=   6.5s\n",
      "[CV] max_depth=86, bootstrap=False, n_estimators=752, max_features=auto, min_samples_leaf=1, min_samples_split=10 \n",
      "[CV]  max_depth=86, bootstrap=False, n_estimators=752, max_features=auto, min_samples_leaf=1, min_samples_split=10, total=   6.5s\n",
      "[CV] max_depth=86, bootstrap=False, n_estimators=752, max_features=auto, min_samples_leaf=1, min_samples_split=10 \n",
      "[CV]  max_depth=86, bootstrap=False, n_estimators=752, max_features=auto, min_samples_leaf=1, min_samples_split=10, total=   6.5s\n",
      "[CV] max_depth=16, bootstrap=False, n_estimators=714, max_features=auto, min_samples_leaf=1, min_samples_split=10 \n",
      "[CV]  max_depth=16, bootstrap=False, n_estimators=714, max_features=auto, min_samples_leaf=1, min_samples_split=10, total=   5.6s\n",
      "[CV] max_depth=16, bootstrap=False, n_estimators=714, max_features=auto, min_samples_leaf=1, min_samples_split=10 \n",
      "[CV]  max_depth=16, bootstrap=False, n_estimators=714, max_features=auto, min_samples_leaf=1, min_samples_split=10, total=   5.6s\n",
      "[CV] max_depth=16, bootstrap=False, n_estimators=714, max_features=auto, min_samples_leaf=1, min_samples_split=10 \n",
      "[CV]  max_depth=16, bootstrap=False, n_estimators=714, max_features=auto, min_samples_leaf=1, min_samples_split=10, total=   5.6s\n",
      "[CV] max_depth=98, bootstrap=True, n_estimators=1462, max_features=auto, min_samples_leaf=2, min_samples_split=2 \n",
      "[CV]  max_depth=98, bootstrap=True, n_estimators=1462, max_features=auto, min_samples_leaf=2, min_samples_split=2, total=  10.0s\n",
      "[CV] max_depth=98, bootstrap=True, n_estimators=1462, max_features=auto, min_samples_leaf=2, min_samples_split=2 \n",
      "[CV]  max_depth=98, bootstrap=True, n_estimators=1462, max_features=auto, min_samples_leaf=2, min_samples_split=2, total=  10.0s\n",
      "[CV] max_depth=98, bootstrap=True, n_estimators=1462, max_features=auto, min_samples_leaf=2, min_samples_split=2 \n",
      "[CV]  max_depth=98, bootstrap=True, n_estimators=1462, max_features=auto, min_samples_leaf=2, min_samples_split=2, total=   9.9s\n",
      "[CV] max_depth=51, bootstrap=False, n_estimators=1097, max_features=sqrt, min_samples_leaf=2, min_samples_split=2 \n",
      "[CV]  max_depth=51, bootstrap=False, n_estimators=1097, max_features=sqrt, min_samples_leaf=2, min_samples_split=2, total=  10.4s\n",
      "[CV] max_depth=51, bootstrap=False, n_estimators=1097, max_features=sqrt, min_samples_leaf=2, min_samples_split=2 \n",
      "[CV]  max_depth=51, bootstrap=False, n_estimators=1097, max_features=sqrt, min_samples_leaf=2, min_samples_split=2, total=  10.4s\n",
      "[CV] max_depth=51, bootstrap=False, n_estimators=1097, max_features=sqrt, min_samples_leaf=2, min_samples_split=2 \n",
      "[CV]  max_depth=51, bootstrap=False, n_estimators=1097, max_features=sqrt, min_samples_leaf=2, min_samples_split=2, total=  10.3s\n",
      "[CV] max_depth=75, bootstrap=False, n_estimators=656, max_features=sqrt, min_samples_leaf=2, min_samples_split=10 \n",
      "[CV]  max_depth=75, bootstrap=False, n_estimators=656, max_features=sqrt, min_samples_leaf=2, min_samples_split=10, total=   5.4s\n",
      "[CV] max_depth=75, bootstrap=False, n_estimators=656, max_features=sqrt, min_samples_leaf=2, min_samples_split=10 \n",
      "[CV]  max_depth=75, bootstrap=False, n_estimators=656, max_features=sqrt, min_samples_leaf=2, min_samples_split=10, total=   5.4s\n",
      "[CV] max_depth=75, bootstrap=False, n_estimators=656, max_features=sqrt, min_samples_leaf=2, min_samples_split=10 \n",
      "[CV]  max_depth=75, bootstrap=False, n_estimators=656, max_features=sqrt, min_samples_leaf=2, min_samples_split=10, total=   5.4s\n",
      "[CV] max_depth=51, bootstrap=False, n_estimators=1270, max_features=sqrt, min_samples_leaf=1, min_samples_split=10 \n",
      "[CV]  max_depth=51, bootstrap=False, n_estimators=1270, max_features=sqrt, min_samples_leaf=1, min_samples_split=10, total=  11.1s\n",
      "[CV] max_depth=51, bootstrap=False, n_estimators=1270, max_features=sqrt, min_samples_leaf=1, min_samples_split=10 \n",
      "[CV]  max_depth=51, bootstrap=False, n_estimators=1270, max_features=sqrt, min_samples_leaf=1, min_samples_split=10, total=  11.2s\n",
      "[CV] max_depth=51, bootstrap=False, n_estimators=1270, max_features=sqrt, min_samples_leaf=1, min_samples_split=10 \n",
      "[CV]  max_depth=51, bootstrap=False, n_estimators=1270, max_features=sqrt, min_samples_leaf=1, min_samples_split=10, total=  11.0s\n",
      "[CV] max_depth=40, bootstrap=False, n_estimators=1539, max_features=sqrt, min_samples_leaf=1, min_samples_split=2 \n",
      "[CV]  max_depth=40, bootstrap=False, n_estimators=1539, max_features=sqrt, min_samples_leaf=1, min_samples_split=2, total=  17.7s\n",
      "[CV] max_depth=40, bootstrap=False, n_estimators=1539, max_features=sqrt, min_samples_leaf=1, min_samples_split=2 \n",
      "[CV]  max_depth=40, bootstrap=False, n_estimators=1539, max_features=sqrt, min_samples_leaf=1, min_samples_split=2, total=  17.7s\n",
      "[CV] max_depth=40, bootstrap=False, n_estimators=1539, max_features=sqrt, min_samples_leaf=1, min_samples_split=2 \n",
      "[CV]  max_depth=40, bootstrap=False, n_estimators=1539, max_features=sqrt, min_samples_leaf=1, min_samples_split=2, total=  17.7s\n",
      "[CV] max_depth=86, bootstrap=False, n_estimators=253, max_features=auto, min_samples_leaf=2, min_samples_split=10 \n",
      "[CV]  max_depth=86, bootstrap=False, n_estimators=253, max_features=auto, min_samples_leaf=2, min_samples_split=10, total=   2.1s\n",
      "[CV] max_depth=86, bootstrap=False, n_estimators=253, max_features=auto, min_samples_leaf=2, min_samples_split=10 \n"
     ]
    },
    {
     "name": "stdout",
     "output_type": "stream",
     "text": [
      "[CV]  max_depth=86, bootstrap=False, n_estimators=253, max_features=auto, min_samples_leaf=2, min_samples_split=10, total=   2.1s\n",
      "[CV] max_depth=86, bootstrap=False, n_estimators=253, max_features=auto, min_samples_leaf=2, min_samples_split=10 \n",
      "[CV]  max_depth=86, bootstrap=False, n_estimators=253, max_features=auto, min_samples_leaf=2, min_samples_split=10, total=   2.1s\n",
      "[CV] max_depth=110, bootstrap=True, n_estimators=119, max_features=auto, min_samples_leaf=1, min_samples_split=5 \n",
      "[CV]  max_depth=110, bootstrap=True, n_estimators=119, max_features=auto, min_samples_leaf=1, min_samples_split=5, total=   0.8s\n",
      "[CV] max_depth=110, bootstrap=True, n_estimators=119, max_features=auto, min_samples_leaf=1, min_samples_split=5 \n",
      "[CV]  max_depth=110, bootstrap=True, n_estimators=119, max_features=auto, min_samples_leaf=1, min_samples_split=5, total=   0.8s\n",
      "[CV] max_depth=110, bootstrap=True, n_estimators=119, max_features=auto, min_samples_leaf=1, min_samples_split=5 \n",
      "[CV]  max_depth=110, bootstrap=True, n_estimators=119, max_features=auto, min_samples_leaf=1, min_samples_split=5, total=   0.8s\n",
      "[CV] max_depth=None, bootstrap=False, n_estimators=1366, max_features=auto, min_samples_leaf=4, min_samples_split=2 \n",
      "[CV]  max_depth=None, bootstrap=False, n_estimators=1366, max_features=auto, min_samples_leaf=4, min_samples_split=2, total=  10.7s\n",
      "[CV] max_depth=None, bootstrap=False, n_estimators=1366, max_features=auto, min_samples_leaf=4, min_samples_split=2 \n",
      "[CV]  max_depth=None, bootstrap=False, n_estimators=1366, max_features=auto, min_samples_leaf=4, min_samples_split=2, total=  10.7s\n",
      "[CV] max_depth=None, bootstrap=False, n_estimators=1366, max_features=auto, min_samples_leaf=4, min_samples_split=2 \n",
      "[CV]  max_depth=None, bootstrap=False, n_estimators=1366, max_features=auto, min_samples_leaf=4, min_samples_split=2, total=  10.7s\n",
      "[CV] max_depth=63, bootstrap=False, n_estimators=253, max_features=sqrt, min_samples_leaf=2, min_samples_split=2 \n",
      "[CV]  max_depth=63, bootstrap=False, n_estimators=253, max_features=sqrt, min_samples_leaf=2, min_samples_split=2, total=   2.4s\n",
      "[CV] max_depth=63, bootstrap=False, n_estimators=253, max_features=sqrt, min_samples_leaf=2, min_samples_split=2 \n",
      "[CV]  max_depth=63, bootstrap=False, n_estimators=253, max_features=sqrt, min_samples_leaf=2, min_samples_split=2, total=   2.4s\n",
      "[CV] max_depth=63, bootstrap=False, n_estimators=253, max_features=sqrt, min_samples_leaf=2, min_samples_split=2 \n",
      "[CV]  max_depth=63, bootstrap=False, n_estimators=253, max_features=sqrt, min_samples_leaf=2, min_samples_split=2, total=   2.4s\n",
      "[CV] max_depth=None, bootstrap=True, n_estimators=810, max_features=auto, min_samples_leaf=4, min_samples_split=5 \n",
      "[CV]  max_depth=None, bootstrap=True, n_estimators=810, max_features=auto, min_samples_leaf=4, min_samples_split=5, total=   4.6s\n",
      "[CV] max_depth=None, bootstrap=True, n_estimators=810, max_features=auto, min_samples_leaf=4, min_samples_split=5 \n",
      "[CV]  max_depth=None, bootstrap=True, n_estimators=810, max_features=auto, min_samples_leaf=4, min_samples_split=5, total=   4.6s\n",
      "[CV] max_depth=None, bootstrap=True, n_estimators=810, max_features=auto, min_samples_leaf=4, min_samples_split=5 \n",
      "[CV]  max_depth=None, bootstrap=True, n_estimators=810, max_features=auto, min_samples_leaf=4, min_samples_split=5, total=   4.6s\n",
      "[CV] max_depth=110, bootstrap=True, n_estimators=656, max_features=sqrt, min_samples_leaf=1, min_samples_split=2 \n",
      "[CV]  max_depth=110, bootstrap=True, n_estimators=656, max_features=sqrt, min_samples_leaf=1, min_samples_split=2, total=   5.3s\n",
      "[CV] max_depth=110, bootstrap=True, n_estimators=656, max_features=sqrt, min_samples_leaf=1, min_samples_split=2 \n",
      "[CV]  max_depth=110, bootstrap=True, n_estimators=656, max_features=sqrt, min_samples_leaf=1, min_samples_split=2, total=   5.3s\n",
      "[CV] max_depth=110, bootstrap=True, n_estimators=656, max_features=sqrt, min_samples_leaf=1, min_samples_split=2 \n",
      "[CV]  max_depth=110, bootstrap=True, n_estimators=656, max_features=sqrt, min_samples_leaf=1, min_samples_split=2, total=   5.3s\n",
      "[CV] max_depth=98, bootstrap=False, n_estimators=1405, max_features=auto, min_samples_leaf=1, min_samples_split=10 \n",
      "[CV]  max_depth=98, bootstrap=False, n_estimators=1405, max_features=auto, min_samples_leaf=1, min_samples_split=10, total=  12.3s\n",
      "[CV] max_depth=98, bootstrap=False, n_estimators=1405, max_features=auto, min_samples_leaf=1, min_samples_split=10 \n",
      "[CV]  max_depth=98, bootstrap=False, n_estimators=1405, max_features=auto, min_samples_leaf=1, min_samples_split=10, total=  12.3s\n",
      "[CV] max_depth=98, bootstrap=False, n_estimators=1405, max_features=auto, min_samples_leaf=1, min_samples_split=10 \n",
      "[CV]  max_depth=98, bootstrap=False, n_estimators=1405, max_features=auto, min_samples_leaf=1, min_samples_split=10, total=  12.2s\n",
      "[CV] max_depth=110, bootstrap=False, n_estimators=1750, max_features=auto, min_samples_leaf=2, min_samples_split=2 \n",
      "[CV]  max_depth=110, bootstrap=False, n_estimators=1750, max_features=auto, min_samples_leaf=2, min_samples_split=2, total=  16.8s\n",
      "[CV] max_depth=110, bootstrap=False, n_estimators=1750, max_features=auto, min_samples_leaf=2, min_samples_split=2 \n",
      "[CV]  max_depth=110, bootstrap=False, n_estimators=1750, max_features=auto, min_samples_leaf=2, min_samples_split=2, total=  16.6s\n",
      "[CV] max_depth=110, bootstrap=False, n_estimators=1750, max_features=auto, min_samples_leaf=2, min_samples_split=2 \n",
      "[CV]  max_depth=110, bootstrap=False, n_estimators=1750, max_features=auto, min_samples_leaf=2, min_samples_split=2, total=  16.5s\n",
      "[CV] max_depth=75, bootstrap=False, n_estimators=906, max_features=auto, min_samples_leaf=4, min_samples_split=2 \n",
      "[CV]  max_depth=75, bootstrap=False, n_estimators=906, max_features=auto, min_samples_leaf=4, min_samples_split=2, total=   7.2s\n",
      "[CV] max_depth=75, bootstrap=False, n_estimators=906, max_features=auto, min_samples_leaf=4, min_samples_split=2 \n",
      "[CV]  max_depth=75, bootstrap=False, n_estimators=906, max_features=auto, min_samples_leaf=4, min_samples_split=2, total=   7.2s\n",
      "[CV] max_depth=75, bootstrap=False, n_estimators=906, max_features=auto, min_samples_leaf=4, min_samples_split=2 \n",
      "[CV]  max_depth=75, bootstrap=False, n_estimators=906, max_features=auto, min_samples_leaf=4, min_samples_split=2, total=   7.1s\n",
      "[CV] max_depth=51, bootstrap=True, n_estimators=483, max_features=sqrt, min_samples_leaf=4, min_samples_split=5 \n",
      "[CV]  max_depth=51, bootstrap=True, n_estimators=483, max_features=sqrt, min_samples_leaf=4, min_samples_split=5, total=   2.8s\n",
      "[CV] max_depth=51, bootstrap=True, n_estimators=483, max_features=sqrt, min_samples_leaf=4, min_samples_split=5 \n",
      "[CV]  max_depth=51, bootstrap=True, n_estimators=483, max_features=sqrt, min_samples_leaf=4, min_samples_split=5, total=   2.7s\n",
      "[CV] max_depth=51, bootstrap=True, n_estimators=483, max_features=sqrt, min_samples_leaf=4, min_samples_split=5 \n",
      "[CV]  max_depth=51, bootstrap=True, n_estimators=483, max_features=sqrt, min_samples_leaf=4, min_samples_split=5, total=   2.7s\n",
      "[CV] max_depth=None, bootstrap=True, n_estimators=1980, max_features=sqrt, min_samples_leaf=2, min_samples_split=5 \n",
      "[CV]  max_depth=None, bootstrap=True, n_estimators=1980, max_features=sqrt, min_samples_leaf=2, min_samples_split=5, total=  13.2s\n",
      "[CV] max_depth=None, bootstrap=True, n_estimators=1980, max_features=sqrt, min_samples_leaf=2, min_samples_split=5 \n",
      "[CV]  max_depth=None, bootstrap=True, n_estimators=1980, max_features=sqrt, min_samples_leaf=2, min_samples_split=5, total=  13.2s\n",
      "[CV] max_depth=None, bootstrap=True, n_estimators=1980, max_features=sqrt, min_samples_leaf=2, min_samples_split=5 \n",
      "[CV]  max_depth=None, bootstrap=True, n_estimators=1980, max_features=sqrt, min_samples_leaf=2, min_samples_split=5, total=  13.2s\n",
      "[CV] max_depth=5, bootstrap=True, n_estimators=1155, max_features=sqrt, min_samples_leaf=4, min_samples_split=5 \n",
      "[CV]  max_depth=5, bootstrap=True, n_estimators=1155, max_features=sqrt, min_samples_leaf=4, min_samples_split=5, total=   3.3s\n",
      "[CV] max_depth=5, bootstrap=True, n_estimators=1155, max_features=sqrt, min_samples_leaf=4, min_samples_split=5 \n",
      "[CV]  max_depth=5, bootstrap=True, n_estimators=1155, max_features=sqrt, min_samples_leaf=4, min_samples_split=5, total=   3.3s\n",
      "[CV] max_depth=5, bootstrap=True, n_estimators=1155, max_features=sqrt, min_samples_leaf=4, min_samples_split=5 \n"
     ]
    },
    {
     "name": "stdout",
     "output_type": "stream",
     "text": [
      "[CV]  max_depth=5, bootstrap=True, n_estimators=1155, max_features=sqrt, min_samples_leaf=4, min_samples_split=5, total=   3.3s\n",
      "[CV] max_depth=28, bootstrap=False, n_estimators=426, max_features=auto, min_samples_leaf=4, min_samples_split=5 \n",
      "[CV]  max_depth=28, bootstrap=False, n_estimators=426, max_features=auto, min_samples_leaf=4, min_samples_split=5, total=   3.4s\n",
      "[CV] max_depth=28, bootstrap=False, n_estimators=426, max_features=auto, min_samples_leaf=4, min_samples_split=5 \n",
      "[CV]  max_depth=28, bootstrap=False, n_estimators=426, max_features=auto, min_samples_leaf=4, min_samples_split=5, total=   3.4s\n",
      "[CV] max_depth=28, bootstrap=False, n_estimators=426, max_features=auto, min_samples_leaf=4, min_samples_split=5 \n",
      "[CV]  max_depth=28, bootstrap=False, n_estimators=426, max_features=auto, min_samples_leaf=4, min_samples_split=5, total=   3.3s\n",
      "[CV] max_depth=86, bootstrap=False, n_estimators=119, max_features=sqrt, min_samples_leaf=1, min_samples_split=2 \n",
      "[CV]  max_depth=86, bootstrap=False, n_estimators=119, max_features=sqrt, min_samples_leaf=1, min_samples_split=2, total=   1.4s\n",
      "[CV] max_depth=86, bootstrap=False, n_estimators=119, max_features=sqrt, min_samples_leaf=1, min_samples_split=2 \n",
      "[CV]  max_depth=86, bootstrap=False, n_estimators=119, max_features=sqrt, min_samples_leaf=1, min_samples_split=2, total=   1.4s\n",
      "[CV] max_depth=86, bootstrap=False, n_estimators=119, max_features=sqrt, min_samples_leaf=1, min_samples_split=2 \n",
      "[CV]  max_depth=86, bootstrap=False, n_estimators=119, max_features=sqrt, min_samples_leaf=1, min_samples_split=2, total=   1.4s\n",
      "[CV] max_depth=28, bootstrap=False, n_estimators=925, max_features=auto, min_samples_leaf=4, min_samples_split=2 \n",
      "[CV]  max_depth=28, bootstrap=False, n_estimators=925, max_features=auto, min_samples_leaf=4, min_samples_split=2, total=   7.3s\n",
      "[CV] max_depth=28, bootstrap=False, n_estimators=925, max_features=auto, min_samples_leaf=4, min_samples_split=2 \n",
      "[CV]  max_depth=28, bootstrap=False, n_estimators=925, max_features=auto, min_samples_leaf=4, min_samples_split=2, total=   7.3s\n",
      "[CV] max_depth=28, bootstrap=False, n_estimators=925, max_features=auto, min_samples_leaf=4, min_samples_split=2 \n",
      "[CV]  max_depth=28, bootstrap=False, n_estimators=925, max_features=auto, min_samples_leaf=4, min_samples_split=2, total=   7.3s\n",
      "[CV] max_depth=86, bootstrap=False, n_estimators=656, max_features=auto, min_samples_leaf=4, min_samples_split=10 \n",
      "[CV]  max_depth=86, bootstrap=False, n_estimators=656, max_features=auto, min_samples_leaf=4, min_samples_split=10, total=   5.0s\n",
      "[CV] max_depth=86, bootstrap=False, n_estimators=656, max_features=auto, min_samples_leaf=4, min_samples_split=10 \n",
      "[CV]  max_depth=86, bootstrap=False, n_estimators=656, max_features=auto, min_samples_leaf=4, min_samples_split=10, total=   5.0s\n",
      "[CV] max_depth=86, bootstrap=False, n_estimators=656, max_features=auto, min_samples_leaf=4, min_samples_split=10 \n",
      "[CV]  max_depth=86, bootstrap=False, n_estimators=656, max_features=auto, min_samples_leaf=4, min_samples_split=10, total=   5.0s\n"
     ]
    },
    {
     "name": "stderr",
     "output_type": "stream",
     "text": [
      "[Parallel(n_jobs=1)]: Done 150 out of 150 | elapsed: 17.6min finished\n"
     ]
    },
    {
     "data": {
      "text/plain": [
       "{'bootstrap': True,\n",
       " 'max_depth': 5,\n",
       " 'max_features': 'auto',\n",
       " 'min_samples_leaf': 2,\n",
       " 'min_samples_split': 5,\n",
       " 'n_estimators': 1577}"
      ]
     },
     "execution_count": 272,
     "metadata": {},
     "output_type": "execute_result"
    }
   ],
   "source": [
    "from sklearn.model_selection import GridSearchCV\n",
    "from sklearn.model_selection import RandomizedSearchCV\n",
    "# Number of trees in random forest\n",
    "n_estimators = [int(x) for x in np.linspace(start = 100, stop = 2000, num = 100)]\n",
    "# Number of features to consider at every split\n",
    "max_features = ['auto', 'sqrt']\n",
    "# Maximum number of levels in tree\n",
    "max_depth = [int(x) for x in np.linspace(5, 110, num = 10)]\n",
    "max_depth.append(None)\n",
    "# Minimum number of samples required to split a node\n",
    "min_samples_split = [2, 5, 10]\n",
    "# Minimum number of samples required at each leaf node\n",
    "min_samples_leaf = [1, 2, 4]\n",
    "# Method of selecting samples for training each tree\n",
    "bootstrap = [True, False]\n",
    "\n",
    "random_grid = {'n_estimators': n_estimators,\n",
    "               'max_features': max_features,\n",
    "               'max_depth': max_depth,\n",
    "               'min_samples_split': min_samples_split,\n",
    "               'min_samples_leaf': min_samples_leaf,\n",
    "               'bootstrap': bootstrap}\n",
    "\n",
    "rf_random = RandomizedSearchCV(estimator = rfc,cv = 3, param_distributions = random_grid, \n",
    "                               n_iter = 50, verbose=2, scoring='roc_auc', random_state=44)\n",
    "\n",
    "rf_random.fit(train_x_res, train_y_res)\n",
    "rf_random.best_params_"
   ]
  },
  {
   "cell_type": "code",
   "execution_count": 265,
   "metadata": {
    "collapsed": true
   },
   "outputs": [],
   "source": [
    "gbm1 = GradientBoostingClassifier().fit(train_x_res, train_y_res)"
   ]
  },
  {
   "cell_type": "code",
   "execution_count": null,
   "metadata": {
    "collapsed": true
   },
   "outputs": [],
   "source": [
    "print('test accuracy')\n",
    "print(gbm1.score(X_test, y_test))\n",
    "#trainPred = rfc2.predict_proba(train_x_res)\n",
    "testPred_gbm = gbm1.predict_proba(X_test)\n",
    "print('test AUC: ')\n",
    "print(roc_auc_score(y_test, testPred_gbm[:,1]))"
   ]
  },
  {
   "cell_type": "code",
   "execution_count": 267,
   "metadata": {
    "scrolled": true
   },
   "outputs": [
    {
     "data": {
      "text/plain": [
       "GradientBoostingClassifier(criterion='friedman_mse', init=None,\n",
       "                           learning_rate=0.001, loss='deviance', max_depth=5,\n",
       "                           max_features='sqrt', max_leaf_nodes=None,\n",
       "                           min_impurity_decrease=0.0, min_impurity_split=None,\n",
       "                           min_samples_leaf=4, min_samples_split=5,\n",
       "                           min_weight_fraction_leaf=0.0, n_estimators=1155,\n",
       "                           n_iter_no_change=None, presort='auto',\n",
       "                           random_state=None, subsample=1.0, tol=0.0001,\n",
       "                           validation_fraction=0.1, verbose=0,\n",
       "                           warm_start=False)"
      ]
     },
     "execution_count": 267,
     "metadata": {},
     "output_type": "execute_result"
    }
   ],
   "source": []
  },
  {
   "cell_type": "code",
   "execution_count": 268,
   "metadata": {},
   "outputs": [
    {
     "name": "stdout",
     "output_type": "stream",
     "text": [
      "test accuracy\n",
      "0.7481980570354121\n",
      "test AUC: \n",
      "0.5950918937552161\n"
     ]
    }
   ],
   "source": [
    "print('test accuracy')\n",
    "print(gbm_random.best_estimator_.score(X_test, y_test))\n",
    "#trainPred = rfc2.predict_proba(train_x_res)\n",
    "testPred_gbm = gbm_random.best_estimator_.predict_proba(X_test)\n",
    "print('test AUC: ')\n",
    "print(roc_auc_score(y_test, testPred_gbm[:,1]))"
   ]
  },
  {
   "cell_type": "code",
   "execution_count": 276,
   "metadata": {},
   "outputs": [
    {
     "name": "stdout",
     "output_type": "stream",
     "text": [
      "test accuracy\n",
      "0.5921341272328424\n",
      "test AUC: \n",
      "0.595080252065266\n"
     ]
    }
   ],
   "source": [
    "print('test accuracy')\n",
    "print(gbm_random.best_estimator_.score(X_test, y_test))\n",
    "#trainPred = rfc2.predict_proba(train_x_res)\n",
    "testPred_gbm = gbm_random.best_estimator_.predict_proba(X_test)\n",
    "print('test AUC: ')\n",
    "print(roc_auc_score(y_test, testPred_gbm[:,1]))"
   ]
  },
  {
   "cell_type": "code",
   "execution_count": 274,
   "metadata": {},
   "outputs": [
    {
     "data": {
      "text/plain": [
       "'/mnt/jupyterhub/jupyter_code/mossaaron/PySpark'"
      ]
     },
     "execution_count": 274,
     "metadata": {},
     "output_type": "execute_result"
    }
   ],
   "source": [
    "pwd"
   ]
  },
  {
   "cell_type": "code",
   "execution_count": 275,
   "metadata": {},
   "outputs": [
    {
     "data": {
      "text/plain": [
       "GradientBoostingClassifier(criterion='friedman_mse', init=None,\n",
       "                           learning_rate=0.001, loss='deviance', max_depth=5,\n",
       "                           max_features='sqrt', max_leaf_nodes=None,\n",
       "                           min_impurity_decrease=0.0, min_impurity_split=None,\n",
       "                           min_samples_leaf=4, min_samples_split=5,\n",
       "                           min_weight_fraction_leaf=0.0, n_estimators=1155,\n",
       "                           n_iter_no_change=None, presort='auto',\n",
       "                           random_state=None, subsample=1.0, tol=0.0001,\n",
       "                           validation_fraction=0.1, verbose=0,\n",
       "                           warm_start=False)"
      ]
     },
     "execution_count": 275,
     "metadata": {},
     "output_type": "execute_result"
    }
   ],
   "source": [
    "gbm_random.best_estimator_"
   ]
  },
  {
   "cell_type": "code",
   "execution_count": null,
   "metadata": {
    "scrolled": true
   },
   "outputs": [
    {
     "name": "stdout",
     "output_type": "stream",
     "text": [
      "Fitting 3 folds for each of 50 candidates, totalling 150 fits\n",
      "[CV] max_depth=86, learning_rate=0.001, n_estimators=100, max_features=sqrt, min_samples_leaf=4, min_samples_split=2 \n"
     ]
    },
    {
     "name": "stderr",
     "output_type": "stream",
     "text": [
      "[Parallel(n_jobs=1)]: Using backend SequentialBackend with 1 concurrent workers.\n"
     ]
    },
    {
     "name": "stdout",
     "output_type": "stream",
     "text": [
      "[CV]  max_depth=86, learning_rate=0.001, n_estimators=100, max_features=sqrt, min_samples_leaf=4, min_samples_split=2, total=   7.0s\n",
      "[CV] max_depth=86, learning_rate=0.001, n_estimators=100, max_features=sqrt, min_samples_leaf=4, min_samples_split=2 \n"
     ]
    },
    {
     "name": "stderr",
     "output_type": "stream",
     "text": [
      "[Parallel(n_jobs=1)]: Done   1 out of   1 | elapsed:    7.0s remaining:    0.0s\n"
     ]
    },
    {
     "name": "stdout",
     "output_type": "stream",
     "text": [
      "[CV]  max_depth=86, learning_rate=0.001, n_estimators=100, max_features=sqrt, min_samples_leaf=4, min_samples_split=2, total=   7.0s\n",
      "[CV] max_depth=86, learning_rate=0.001, n_estimators=100, max_features=sqrt, min_samples_leaf=4, min_samples_split=2 \n",
      "[CV]  max_depth=86, learning_rate=0.001, n_estimators=100, max_features=sqrt, min_samples_leaf=4, min_samples_split=2, total=   6.9s\n",
      "[CV] max_depth=63, learning_rate=0.01, n_estimators=541, max_features=sqrt, min_samples_leaf=1, min_samples_split=10 \n",
      "[CV]  max_depth=63, learning_rate=0.01, n_estimators=541, max_features=sqrt, min_samples_leaf=1, min_samples_split=10, total=  45.6s\n",
      "[CV] max_depth=63, learning_rate=0.01, n_estimators=541, max_features=sqrt, min_samples_leaf=1, min_samples_split=10 \n",
      "[CV]  max_depth=63, learning_rate=0.01, n_estimators=541, max_features=sqrt, min_samples_leaf=1, min_samples_split=10, total=  45.8s\n",
      "[CV] max_depth=63, learning_rate=0.01, n_estimators=541, max_features=sqrt, min_samples_leaf=1, min_samples_split=10 \n",
      "[CV]  max_depth=63, learning_rate=0.01, n_estimators=541, max_features=sqrt, min_samples_leaf=1, min_samples_split=10, total=  45.3s\n",
      "[CV] max_depth=110, learning_rate=0.3, n_estimators=714, max_features=sqrt, min_samples_leaf=4, min_samples_split=5 \n",
      "[CV]  max_depth=110, learning_rate=0.3, n_estimators=714, max_features=sqrt, min_samples_leaf=4, min_samples_split=5, total=  17.7s\n",
      "[CV] max_depth=110, learning_rate=0.3, n_estimators=714, max_features=sqrt, min_samples_leaf=4, min_samples_split=5 \n",
      "[CV]  max_depth=110, learning_rate=0.3, n_estimators=714, max_features=sqrt, min_samples_leaf=4, min_samples_split=5, total=  16.6s\n",
      "[CV] max_depth=110, learning_rate=0.3, n_estimators=714, max_features=sqrt, min_samples_leaf=4, min_samples_split=5 \n",
      "[CV]  max_depth=110, learning_rate=0.3, n_estimators=714, max_features=sqrt, min_samples_leaf=4, min_samples_split=5, total=  17.5s\n",
      "[CV] max_depth=110, learning_rate=0.5, n_estimators=1097, max_features=auto, min_samples_leaf=1, min_samples_split=10 \n",
      "[CV]  max_depth=110, learning_rate=0.5, n_estimators=1097, max_features=auto, min_samples_leaf=1, min_samples_split=10, total=  55.5s\n",
      "[CV] max_depth=110, learning_rate=0.5, n_estimators=1097, max_features=auto, min_samples_leaf=1, min_samples_split=10 \n",
      "[CV]  max_depth=110, learning_rate=0.5, n_estimators=1097, max_features=auto, min_samples_leaf=1, min_samples_split=10, total=  54.4s\n",
      "[CV] max_depth=110, learning_rate=0.5, n_estimators=1097, max_features=auto, min_samples_leaf=1, min_samples_split=10 \n",
      "[CV]  max_depth=110, learning_rate=0.5, n_estimators=1097, max_features=auto, min_samples_leaf=1, min_samples_split=10, total=  54.4s\n",
      "[CV] max_depth=5, learning_rate=0.01, n_estimators=1635, max_features=sqrt, min_samples_leaf=2, min_samples_split=10 \n",
      "[CV]  max_depth=5, learning_rate=0.01, n_estimators=1635, max_features=sqrt, min_samples_leaf=2, min_samples_split=10, total=   7.7s\n",
      "[CV] max_depth=5, learning_rate=0.01, n_estimators=1635, max_features=sqrt, min_samples_leaf=2, min_samples_split=10 \n",
      "[CV]  max_depth=5, learning_rate=0.01, n_estimators=1635, max_features=sqrt, min_samples_leaf=2, min_samples_split=10, total=   7.9s\n",
      "[CV] max_depth=5, learning_rate=0.01, n_estimators=1635, max_features=sqrt, min_samples_leaf=2, min_samples_split=10 \n",
      "[CV]  max_depth=5, learning_rate=0.01, n_estimators=1635, max_features=sqrt, min_samples_leaf=2, min_samples_split=10, total=   8.1s\n",
      "[CV] max_depth=28, learning_rate=0.05, n_estimators=215, max_features=sqrt, min_samples_leaf=2, min_samples_split=10 \n",
      "[CV]  max_depth=28, learning_rate=0.05, n_estimators=215, max_features=sqrt, min_samples_leaf=2, min_samples_split=10, total=  16.7s\n",
      "[CV] max_depth=28, learning_rate=0.05, n_estimators=215, max_features=sqrt, min_samples_leaf=2, min_samples_split=10 \n",
      "[CV]  max_depth=28, learning_rate=0.05, n_estimators=215, max_features=sqrt, min_samples_leaf=2, min_samples_split=10, total=  16.4s\n",
      "[CV] max_depth=28, learning_rate=0.05, n_estimators=215, max_features=sqrt, min_samples_leaf=2, min_samples_split=10 \n",
      "[CV]  max_depth=28, learning_rate=0.05, n_estimators=215, max_features=sqrt, min_samples_leaf=2, min_samples_split=10, total=  16.2s\n",
      "[CV] max_depth=16, learning_rate=0.5, n_estimators=656, max_features=sqrt, min_samples_leaf=4, min_samples_split=10 \n",
      "[CV]  max_depth=16, learning_rate=0.5, n_estimators=656, max_features=sqrt, min_samples_leaf=4, min_samples_split=10, total=  12.6s\n",
      "[CV] max_depth=16, learning_rate=0.5, n_estimators=656, max_features=sqrt, min_samples_leaf=4, min_samples_split=10 \n",
      "[CV]  max_depth=16, learning_rate=0.5, n_estimators=656, max_features=sqrt, min_samples_leaf=4, min_samples_split=10, total=  11.8s\n",
      "[CV] max_depth=16, learning_rate=0.5, n_estimators=656, max_features=sqrt, min_samples_leaf=4, min_samples_split=10 \n",
      "[CV]  max_depth=16, learning_rate=0.5, n_estimators=656, max_features=sqrt, min_samples_leaf=4, min_samples_split=10, total=  12.5s\n",
      "[CV] max_depth=28, learning_rate=0.05, n_estimators=1462, max_features=auto, min_samples_leaf=1, min_samples_split=5 \n",
      "[CV]  max_depth=28, learning_rate=0.05, n_estimators=1462, max_features=auto, min_samples_leaf=1, min_samples_split=5, total= 1.9min\n",
      "[CV] max_depth=28, learning_rate=0.05, n_estimators=1462, max_features=auto, min_samples_leaf=1, min_samples_split=5 \n",
      "[CV]  max_depth=28, learning_rate=0.05, n_estimators=1462, max_features=auto, min_samples_leaf=1, min_samples_split=5, total= 1.9min\n",
      "[CV] max_depth=28, learning_rate=0.05, n_estimators=1462, max_features=auto, min_samples_leaf=1, min_samples_split=5 \n",
      "[CV]  max_depth=28, learning_rate=0.05, n_estimators=1462, max_features=auto, min_samples_leaf=1, min_samples_split=5, total= 1.9min\n",
      "[CV] max_depth=110, learning_rate=0.001, n_estimators=1309, max_features=auto, min_samples_leaf=4, min_samples_split=5 \n",
      "[CV]  max_depth=110, learning_rate=0.001, n_estimators=1309, max_features=auto, min_samples_leaf=4, min_samples_split=5, total= 3.6min\n",
      "[CV] max_depth=110, learning_rate=0.001, n_estimators=1309, max_features=auto, min_samples_leaf=4, min_samples_split=5 \n",
      "[CV]  max_depth=110, learning_rate=0.001, n_estimators=1309, max_features=auto, min_samples_leaf=4, min_samples_split=5, total= 3.7min\n",
      "[CV] max_depth=110, learning_rate=0.001, n_estimators=1309, max_features=auto, min_samples_leaf=4, min_samples_split=5 \n",
      "[CV]  max_depth=110, learning_rate=0.001, n_estimators=1309, max_features=auto, min_samples_leaf=4, min_samples_split=5, total= 3.6min\n",
      "[CV] max_depth=63, learning_rate=0.05, n_estimators=1673, max_features=auto, min_samples_leaf=1, min_samples_split=5 \n",
      "[CV]  max_depth=63, learning_rate=0.05, n_estimators=1673, max_features=auto, min_samples_leaf=1, min_samples_split=5, total= 2.2min\n",
      "[CV] max_depth=63, learning_rate=0.05, n_estimators=1673, max_features=auto, min_samples_leaf=1, min_samples_split=5 \n",
      "[CV]  max_depth=63, learning_rate=0.05, n_estimators=1673, max_features=auto, min_samples_leaf=1, min_samples_split=5, total= 2.1min\n",
      "[CV] max_depth=63, learning_rate=0.05, n_estimators=1673, max_features=auto, min_samples_leaf=1, min_samples_split=5 \n",
      "[CV]  max_depth=63, learning_rate=0.05, n_estimators=1673, max_features=auto, min_samples_leaf=1, min_samples_split=5, total= 2.1min\n",
      "[CV] max_depth=86, learning_rate=0.05, n_estimators=1270, max_features=sqrt, min_samples_leaf=2, min_samples_split=10 \n",
      "[CV]  max_depth=86, learning_rate=0.05, n_estimators=1270, max_features=sqrt, min_samples_leaf=2, min_samples_split=10, total=  51.5s\n",
      "[CV] max_depth=86, learning_rate=0.05, n_estimators=1270, max_features=sqrt, min_samples_leaf=2, min_samples_split=10 \n",
      "[CV]  max_depth=86, learning_rate=0.05, n_estimators=1270, max_features=sqrt, min_samples_leaf=2, min_samples_split=10, total=  50.5s\n",
      "[CV] max_depth=86, learning_rate=0.05, n_estimators=1270, max_features=sqrt, min_samples_leaf=2, min_samples_split=10 \n",
      "[CV]  max_depth=86, learning_rate=0.05, n_estimators=1270, max_features=sqrt, min_samples_leaf=2, min_samples_split=10, total=  51.0s\n",
      "[CV] max_depth=98, learning_rate=0.001, n_estimators=1174, max_features=auto, min_samples_leaf=1, min_samples_split=2 \n",
      "[CV]  max_depth=98, learning_rate=0.001, n_estimators=1174, max_features=auto, min_samples_leaf=1, min_samples_split=2, total= 5.3min\n",
      "[CV] max_depth=98, learning_rate=0.001, n_estimators=1174, max_features=auto, min_samples_leaf=1, min_samples_split=2 \n"
     ]
    },
    {
     "name": "stdout",
     "output_type": "stream",
     "text": [
      "[CV]  max_depth=98, learning_rate=0.001, n_estimators=1174, max_features=auto, min_samples_leaf=1, min_samples_split=2, total= 5.6min\n",
      "[CV] max_depth=98, learning_rate=0.001, n_estimators=1174, max_features=auto, min_samples_leaf=1, min_samples_split=2 \n",
      "[CV]  max_depth=98, learning_rate=0.001, n_estimators=1174, max_features=auto, min_samples_leaf=1, min_samples_split=2, total= 5.5min\n",
      "[CV] max_depth=63, learning_rate=0.5, n_estimators=1692, max_features=sqrt, min_samples_leaf=4, min_samples_split=2 \n",
      "[CV]  max_depth=63, learning_rate=0.5, n_estimators=1692, max_features=sqrt, min_samples_leaf=4, min_samples_split=2, total=  30.9s\n",
      "[CV] max_depth=63, learning_rate=0.5, n_estimators=1692, max_features=sqrt, min_samples_leaf=4, min_samples_split=2 \n",
      "[CV]  max_depth=63, learning_rate=0.5, n_estimators=1692, max_features=sqrt, min_samples_leaf=4, min_samples_split=2, total=  28.0s\n",
      "[CV] max_depth=63, learning_rate=0.5, n_estimators=1692, max_features=sqrt, min_samples_leaf=4, min_samples_split=2 \n",
      "[CV]  max_depth=63, learning_rate=0.5, n_estimators=1692, max_features=sqrt, min_samples_leaf=4, min_samples_split=2, total=  30.2s\n",
      "[CV] max_depth=None, learning_rate=0.01, n_estimators=1558, max_features=auto, min_samples_leaf=4, min_samples_split=2 \n",
      "[CV]  max_depth=None, learning_rate=0.01, n_estimators=1558, max_features=auto, min_samples_leaf=4, min_samples_split=2, total= 4.5min\n",
      "[CV] max_depth=None, learning_rate=0.01, n_estimators=1558, max_features=auto, min_samples_leaf=4, min_samples_split=2 \n"
     ]
    }
   ],
   "source": [
    "n_estimators = [int(x) for x in np.linspace(start = 100, stop = 2000, num = 100)]\n",
    "learning_rate= [0.001, 0.005, 0.01, 0.05, 0.1, 0.3, 0.5]   \n",
    "max_features = ['auto', 'sqrt']\n",
    "# Maximum number of levels in tree\n",
    "max_depth = [int(x) for x in np.linspace(5, 110, num = 10)]\n",
    "max_depth.append(None)\n",
    "# Minimum number of samples required to split a node\n",
    "min_samples_split = [2, 5, 10]\n",
    "# Minimum number of samples required at each leaf node\n",
    "min_samples_leaf = [1, 2, 4]\n",
    "              \n",
    "\n",
    "random_grid = {'n_estimators': n_estimators,\n",
    "               'learning_rate': learning_rate,\n",
    "              'max_depth':max_depth,\n",
    "                'max_features': max_features,\n",
    "               'min_samples_split': min_samples_split,\n",
    "               'min_samples_leaf': min_samples_leaf}\n",
    "\n",
    "\n",
    "gbm_random = RandomizedSearchCV(estimator = gbm1,cv = 3, param_distributions = random_grid, \n",
    "                               n_iter = 50, verbose=2, scoring='roc_auc', random_state=44)\n",
    "\n",
    "gbm_random.fit(train_x_res, train_y_res)\n",
    "gbm_random.best_params_"
   ]
  }
 ],
 "metadata": {
  "kernelspec": {
   "display_name": "Python 3",
   "language": "python",
   "name": "python3"
  },
  "language_info": {
   "codemirror_mode": {
    "name": "ipython",
    "version": 3
   },
   "file_extension": ".py",
   "mimetype": "text/x-python",
   "name": "python",
   "nbconvert_exporter": "python",
   "pygments_lexer": "ipython3",
   "version": "3.5.4"
  }
 },
 "nbformat": 4,
 "nbformat_minor": 2
}
